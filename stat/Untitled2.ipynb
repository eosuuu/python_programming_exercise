{
 "cells": [
  {
   "cell_type": "code",
   "execution_count": 11,
   "metadata": {},
   "outputs": [],
   "source": [
    "import numpy as np\n",
    "from scipy import stats\n",
    "import scipy.stats\n",
    "import pandas as pd\n",
    "import statsmodels.api as sm\n",
    "import matplotlib.pyplot as plt\n",
    "import seaborn as sns\n",
    "from statsmodels.stats.proportion import proportions_ztest\n",
    "import matplotlib\n",
    "import matplotlib.font_manager as fm\n",
    "from scipy.stats import shapiro\n",
    "import statistics\n",
    "\n"
   ]
  },
  {
   "cell_type": "code",
   "execution_count": 14,
   "metadata": {},
   "outputs": [
    {
     "name": "stdout",
     "output_type": "stream",
     "text": [
      "4.8248820896978595\n"
     ]
    }
   ],
   "source": [
    "df = pd.DataFrame({\"sample\":[25,30,20,23,27,33,23,20,25,24,\n",
    "                              31,30,34,30,28,31,30,31,32,30,\n",
    "                              19,21,27,25,25,30,26,29,30,24,\n",
    "                              18,25,16,19,20,20,25,22,23,17]})\n",
    "\n",
    "su_m = np.mean(df)\n",
    "a = np.std(df)\n",
    "free = 39\n",
    "n = statistics.stdev([25,30,20,23,27,33,23,20,25,24,\n",
    "                              31,30,34,30,28,31,30,31,32,30,\n",
    "                              19,21,27,25,25,30,26,29,30,24,\n",
    "                              18,25,16,19,20,20,25,22,23,17])\n",
    "print(n)"
   ]
  },
  {
   "cell_type": "code",
   "execution_count": 7,
   "metadata": {},
   "outputs": [
    {
     "name": "stdout",
     "output_type": "stream",
     "text": [
      "0.4781666666666667\n"
     ]
    }
   ],
   "source": [
    "print(2.869/6)"
   ]
  },
  {
   "cell_type": "code",
   "execution_count": 8,
   "metadata": {},
   "outputs": [
    {
     "name": "stdout",
     "output_type": "stream",
     "text": [
      "200.78216496570187\n"
     ]
    }
   ],
   "source": [
    "print(96.006/0.47816)"
   ]
  },
  {
   "cell_type": "code",
   "execution_count": null,
   "metadata": {},
   "outputs": [],
   "source": []
  }
 ],
 "metadata": {
  "kernelspec": {
   "display_name": "Python 3",
   "language": "python",
   "name": "python3"
  },
  "language_info": {
   "codemirror_mode": {
    "name": "ipython",
    "version": 3
   },
   "file_extension": ".py",
   "mimetype": "text/x-python",
   "name": "python",
   "nbconvert_exporter": "python",
   "pygments_lexer": "ipython3",
   "version": "3.7.4"
  }
 },
 "nbformat": 4,
 "nbformat_minor": 2
}
