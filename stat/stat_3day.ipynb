{
 "cells": [
  {
   "cell_type": "code",
   "execution_count": 1,
   "metadata": {},
   "outputs": [],
   "source": [
    "import numpy as np\n",
    "from scipy import stats\n",
    "import scipy.stats\n",
    "import pandas as pd\n",
    "import statsmodels.api as sm\n",
    "import matplotlib.pyplot as plt\n",
    "import seaborn as sns\n",
    "from statsmodels.stats.proportion import proportions_ztest\n",
    "import matplotlib\n",
    "import matplotlib.font_manager as fm\n",
    "from scipy.stats import shapiro\n"
   ]
  },
  {
   "cell_type": "code",
   "execution_count": 14,
   "metadata": {},
   "outputs": [
    {
     "name": "stdout",
     "output_type": "stream",
     "text": [
      "df1의 정규성 검정 : (0.9094840288162231, 0.06230909377336502)\n",
      "df2의 정규성 검정 : (0.8978105783462524, 0.03752673789858818)\n",
      "LeveneResult(statistic=0.04810126582278468, pvalue=0.8275746090758196)\n",
      "[-3.122] [0.003]\n"
     ]
    },
    {
     "data": {
      "text/plain": [
       "<matplotlib.axes._subplots.AxesSubplot at 0x7fb054fd9a90>"
      ]
     },
     "execution_count": 14,
     "metadata": {},
     "output_type": "execute_result"
    },
    {
     "data": {
      "image/png": "[encoded data removed]",
      "text/plain": [
       "<Figure size 432x288 with 1 Axes>"
      ]
     },
     "metadata": {
      "needs_background": "light"
     },
     "output_type": "display_data"
    }
   ],
   "source": [
    "df1 = pd.DataFrame({\"sample\": [6,5,5,4,6,7,6,4,5,6,4,5,5,6,4,8,6,5,6,7]})\n",
    "df2 = pd.DataFrame({\"sample\": [7,5,7,8,7,8,8,5,7,6,5,5,6,6,5,7,9,7,7,8]})\n",
    "\n",
    "print(\"df1의 정규성 검정 :\", shapiro(df1)) #0.06이니까 정규성있음\n",
    "print(\"df2의 정규성 검정 :\", shapiro(df2)) #0.03이니까 정규성없음 -> 2-sample t test에 사용불가 \n",
    "\n",
    "print(stats.levene(df1[\"sample\"], df2[\"sample\"])) #등분산성 검정 ->p-value가 0.05이상이니까 등분산성 있음 ->equal_var = True값 줌\n",
    "\n",
    "t_result = stats.ttest_ind(df1, df2, equal_var = True)\n",
    "t,p = t_result.statistic.round(3), t_result.pvalue.round(3)\n",
    "print(t,p)\n",
    "\n",
    "df1.boxplot()\n",
    "\n"
   ]
  },
  {
   "cell_type": "code",
   "execution_count": 15,
   "metadata": {},
   "outputs": [
    {
     "data": {
      "text/plain": [
       "<matplotlib.axes._subplots.AxesSubplot at 0x7fb054cd6a10>"
      ]
     },
     "execution_count": 15,
     "metadata": {},
     "output_type": "execute_result"
    },
    {
     "data": {
      "image/png": "[encoded data removed]",
      "text/plain": [
       "<Figure size 432x288 with 1 Axes>"
      ]
     },
     "metadata": {
      "needs_background": "light"
     },
     "output_type": "display_data"
    }
   ],
   "source": [
    "df2.boxplot()"
   ]
  },
  {
   "cell_type": "code",
   "execution_count": 21,
   "metadata": {},
   "outputs": [
    {
     "name": "stdout",
     "output_type": "stream",
     "text": [
      "A의 정규성 검정 : (0.8425756096839905, 0.08004552870988846)\n",
      "B의 정규성 검정 : (0.7734811902046204, 0.014793740585446358)\n",
      "LeveneResult(statistic=0.4408416728536036, pvalue=0.5175025061092301)\n",
      "2 sample t-test\n",
      "t : 1.700000\n",
      "p : 0.111000\n"
     ]
    }
   ],
   "source": [
    "a = pd.DataFrame({\"sample\": [1.883,1.715,1.799,1.768,1.711,1.832,1.427,1.344]})\n",
    "b = pd.DataFrame({\"sample\": [1.435,1.572,1.486,1.511,1.457,1.548,1.404,1.883]})\n",
    "\n",
    "print(\"A의 정규성 검정 :\", shapiro(a)) #0.08이니까 정규성있음\n",
    "print(\"B의 정규성 검정 :\", shapiro(b)) #0.014이니까 정규성없음 -> 2-sample t test에 사용불가 \n",
    "\n",
    "print(stats.levene(a[\"sample\"], b[\"sample\"])) #등분산성 검정 ->p-value가 0.05이상이니까 등분산성 있음 ->equal_var = True값 줌\n",
    "\n",
    "t_result = stats.ttest_ind(a, b, equal_var = True)\n",
    "t,p = t_result.statistic.round(3), t_result.pvalue.round(3)\n",
    "print(\"2 sample t-test\")\n",
    "print(\"t : %f\" %(t))\n",
    "print(\"p : %f\" %(p))\n",
    "\n"
   ]
  },
  {
   "cell_type": "code",
   "execution_count": 24,
   "metadata": {},
   "outputs": [
    {
     "name": "stdout",
     "output_type": "stream",
     "text": [
      "Paired t-test\n",
      "t : -5.324000\n",
      "p : 0.000000\n"
     ]
    }
   ],
   "source": [
    "dfb = pd.DataFrame({\"before\" : [720,589,780,648,720,589,780,648,780,648]})\n",
    "dfa = pd.DataFrame({\"after\" : [810,670,790,712,810,670,790,712,790,712]})\n",
    "\n",
    "t_result = stats.ttest_rel(dfb,dfa)\n",
    "\n",
    "t,p = t_result.statistic.round(3), t_result.pvalue.round(3)\n",
    "\n",
    "print(\"Paired t-test\")\n",
    "print(\"t : %f\" %(t))\n",
    "print(\"p : %f\" %(p))\n"
   ]
  },
  {
   "cell_type": "code",
   "execution_count": 25,
   "metadata": {},
   "outputs": [
    {
     "name": "stdout",
     "output_type": "stream",
     "text": [
      "Paired t-test\n",
      "t : -2.266000\n",
      "p : 0.050000\n"
     ]
    }
   ],
   "source": [
    "dfb = pd.DataFrame({\"before\" : [720,589,780,648,720,589,780,648,780,648]})\n",
    "dfa = pd.DataFrame({\"after\" : [710,580,787,712,750,600,782,670,790,680]})\n",
    "\n",
    "t_result = stats.ttest_rel(dfb,dfa)\n",
    "\n",
    "t,p = t_result.statistic.round(3), t_result.pvalue.round(3)\n",
    "\n",
    "print(\"Paired t-test\")\n",
    "print(\"t : %f\" %(t))\n",
    "print(\"p : %f\" %(p))"
   ]
  },
  {
   "cell_type": "code",
   "execution_count": 34,
   "metadata": {},
   "outputs": [
    {
     "name": "stdout",
     "output_type": "stream",
     "text": [
      "1 Proportion test\n",
      "stat: 14.002800840280093\n",
      "pval: 1.4984678147052802e-44\n"
     ]
    }
   ],
   "source": [
    "count = 1500\n",
    "n_obs = 10000\n",
    "value = 0.1\n",
    "\n",
    "stat, pval = proportions_ztest(count,n_obs,value)\n",
    "print(\"1 Proportion test\")\n",
    "print(\"stat:\", stat)\n",
    "print(\"pval:\",pval)"
   ]
  },
  {
   "cell_type": "code",
   "execution_count": 39,
   "metadata": {},
   "outputs": [
    {
     "name": "stdout",
     "output_type": "stream",
     "text": [
      "1 Proportion test\n",
      "stat: -2.0412414523193148\n",
      "pval: 0.0412268333371637\n"
     ]
    }
   ],
   "source": [
    "count = 40\n",
    "n_obs = 100\n",
    "value = 0.5\n",
    "\n",
    "stat, pval = proportions_ztest(count,n_obs,value)\n",
    "print(\"1 Proportion test\")\n",
    "print(\"stat:\", stat)\n",
    "print(\"pval:\",pval)"
   ]
  },
  {
   "cell_type": "code",
   "execution_count": 41,
   "metadata": {},
   "outputs": [
    {
     "name": "stdout",
     "output_type": "stream",
     "text": [
      "2 Proportion test\n",
      "stat: 15.531094047370791\n",
      "pval: 2.1370254056121516e-54\n"
     ]
    }
   ],
   "source": [
    "count = np.array([400,100])\n",
    "nobs = np.array([100000,120000])\n",
    "\n",
    "stat, pval = proportions_ztest(count, nobs)\n",
    "print(\"2 Proportion test\")\n",
    "print(\"stat:\", stat)\n",
    "print(\"pval:\", pval)"
   ]
  },
  {
   "cell_type": "code",
   "execution_count": 42,
   "metadata": {
    "scrolled": true
   },
   "outputs": [
    {
     "name": "stdout",
     "output_type": "stream",
     "text": [
      "2 Proportion test\n",
      "stat: -0.1868275182886637\n",
      "pval: 0.8517958703082867\n"
     ]
    }
   ],
   "source": [
    "count = np.array([14,15])\n",
    "nobs = np.array([1200,1200])\n",
    "\n",
    "stat, pval = proportions_ztest(czzzzzzzzzzzzount, nobs)\n",
    "print(\"2 Proportion test\")\n",
    "print(\"stat:\", stat)\n",
    "print(\"pval:\", pval)zzzz"
   ]
  },
  {
   "cell_type": "code",
   "execution_count": 43,
   "metadata": {},
   "outputs": [
    {
     "name": "stdout",
     "output_type": "stream",
     "text": [
      "chi-square test\n",
      "chisq: 13.36627391246374\n",
      "pval: 0.03757449387917438\n",
      "dof: 6\n",
      "expected: [[258.33333333 276.33333333 230.66666667 234.66666667]\n",
      " [258.33333333 276.33333333 230.66666667 234.66666667]\n",
      " [258.33333333 276.33333333 230.66666667 234.66666667]]\n"
     ]
    }
   ],
   "source": [
    "df = pd.DataFrame({\"HSG\":[270,260,236,234], \"SS\":[228,285,225,262], \"SPA\":[277,284,231,208]})\n",
    "\n",
    "chi, pval,dof,expected = stats.chi2_contingency(df.T)\n",
    "print(\"chi-square test\")\n",
    "print(\"chisq:\",chi)\n",
    "print(\"pval:\",pval)\n",
    "print(\"dof:\",dof)\n",
    "print(\"expected:\",expected)\n"
   ]
  },
  {
   "cell_type": "code",
   "execution_count": 44,
   "metadata": {},
   "outputs": [
    {
     "name": "stdout",
     "output_type": "stream",
     "text": [
      "chi-square test\n",
      "chisq: 98.27432228716904\n",
      "pval: 3.4707443967367598e-09\n",
      "dof: 30\n",
      "expected: [[11.00436681  8.52838428 10.45414847  8.25327511  7.97816594  8.80349345\n",
      "   7.97816594]\n",
      " [ 8.20960699  6.36244541  7.79912664  6.15720524  5.95196507  6.56768559\n",
      "   5.95196507]\n",
      " [ 5.24017467  4.06113537  4.97816594  3.930131    3.79912664  4.19213974\n",
      "   3.79912664]\n",
      " [ 3.84279476  2.97816594  3.65065502  2.88209607  2.7860262   3.07423581\n",
      "   2.7860262 ]\n",
      " [ 1.92139738  1.48908297  1.82532751  1.44104803  1.3930131   1.5371179\n",
      "   1.3930131 ]\n",
      " [ 9.78165939  7.58078603  9.29257642  7.33624454  7.09170306  7.82532751\n",
      "   7.09170306]]\n"
     ]
    }
   ],
   "source": [
    "df = pd.DataFrame({\"A\":[18,1,8,7,10,9,10], \"B\":[8,2,14,5,5,9,4], \"C\":[4,1,3,4,9,5,4]\n",
    "                  ,\"D\":[4,1,2,3,2,7,3],\"E\":[3,1,3,1,1,1,1],\"F\":[3,25,8,10,2,1,7]})\n",
    "\n",
    "chi, pval,dof,expected = stats.chi2_contingency(df.T)\n",
    "print(\"chi-square test\")\n",
    "print(\"chisq:\",chi)\n",
    "print(\"pval:\",pval)\n",
    "print(\"dof:\",dof)\n",
    "print(\"expected:\",expected)"
   ]
  },
  {
   "cell_type": "code",
   "execution_count": 48,
   "metadata": {},
   "outputs": [
    {
     "name": "stdout",
     "output_type": "stream",
     "text": [
      "one way\n",
      "F : 4.263\n",
      "p-value: 0.025\n"
     ]
    },
    {
     "data": {
      "image/png": "[encoded data removed]",
      "text/plain": [
       "<Figure size 432x288 with 1 Axes>"
      ]
     },
     "metadata": {
      "needs_background": "light"
     },
     "output_type": "display_data"
    }
   ],
   "source": [
    "df = pd.DataFrame({\"A\":[892,623,721,678,723,790,720,670,690,771],\n",
    "                  \"B\":[721,821,910,678,723,790,711,790,745,891],\n",
    "                  \"C\":[621,915,888,721,894,834,841,912,845,889]})\n",
    "\n",
    "df.boxplot([\"A\",\"B\",\"C\"])\n",
    "\n",
    "f_result = stats.f_oneway(df['A'],df['B'],df['C'])\n",
    "\n",
    "f,p = f_result.statistic.round(3), f_result.pvalue.round(3)\n",
    "\n",
    "print(\"one way\")\n",
    "print(\"F :\", f)\n",
    "print(\"p-value:\", p)"
   ]
  },
  {
   "cell_type": "code",
   "execution_count": 54,
   "metadata": {},
   "outputs": [
    {
     "data": {
      "text/html": [
       "<div>\n",
       "<style scoped>\n",
       "    .dataframe tbody tr th:only-of-type {\n",
       "        vertical-align: middle;\n",
       "    }\n",
       "\n",
       "    .dataframe tbody tr th {\n",
       "        vertical-align: top;\n",
       "    }\n",
       "\n",
       "    .dataframe thead th {\n",
       "        text-align: right;\n",
       "    }\n",
       "</style>\n",
       "<table border=\"1\" class=\"dataframe\">\n",
       "  <thead>\n",
       "    <tr style=\"text-align: right;\">\n",
       "      <th></th>\n",
       "      <th>time</th>\n",
       "      <th>charge</th>\n",
       "      <th>gangjong</th>\n",
       "      <th>type</th>\n",
       "    </tr>\n",
       "  </thead>\n",
       "  <tbody>\n",
       "    <tr>\n",
       "      <td>0</td>\n",
       "      <td>32.2</td>\n",
       "      <td>A</td>\n",
       "      <td>a</td>\n",
       "      <td>a</td>\n",
       "    </tr>\n",
       "    <tr>\n",
       "      <td>1</td>\n",
       "      <td>30.4</td>\n",
       "      <td>B</td>\n",
       "      <td>a</td>\n",
       "      <td>a</td>\n",
       "    </tr>\n",
       "    <tr>\n",
       "      <td>2</td>\n",
       "      <td>33.6</td>\n",
       "      <td>C</td>\n",
       "      <td>a</td>\n",
       "      <td>a</td>\n",
       "    </tr>\n",
       "    <tr>\n",
       "      <td>3</td>\n",
       "      <td>36.4</td>\n",
       "      <td>D</td>\n",
       "      <td>a</td>\n",
       "      <td>a</td>\n",
       "    </tr>\n",
       "    <tr>\n",
       "      <td>4</td>\n",
       "      <td>33.9</td>\n",
       "      <td>E</td>\n",
       "      <td>a</td>\n",
       "      <td>a</td>\n",
       "    </tr>\n",
       "    <tr>\n",
       "      <td>5</td>\n",
       "      <td>34.9</td>\n",
       "      <td>F</td>\n",
       "      <td>a</td>\n",
       "      <td>a</td>\n",
       "    </tr>\n",
       "    <tr>\n",
       "      <td>6</td>\n",
       "      <td>33.1</td>\n",
       "      <td>A</td>\n",
       "      <td>b</td>\n",
       "      <td>a</td>\n",
       "    </tr>\n",
       "    <tr>\n",
       "      <td>7</td>\n",
       "      <td>29.9</td>\n",
       "      <td>B</td>\n",
       "      <td>b</td>\n",
       "      <td>a</td>\n",
       "    </tr>\n",
       "    <tr>\n",
       "      <td>8</td>\n",
       "      <td>31.7</td>\n",
       "      <td>C</td>\n",
       "      <td>b</td>\n",
       "      <td>a</td>\n",
       "    </tr>\n",
       "    <tr>\n",
       "      <td>9</td>\n",
       "      <td>27.5</td>\n",
       "      <td>D</td>\n",
       "      <td>b</td>\n",
       "      <td>a</td>\n",
       "    </tr>\n",
       "    <tr>\n",
       "      <td>10</td>\n",
       "      <td>34.0</td>\n",
       "      <td>E</td>\n",
       "      <td>b</td>\n",
       "      <td>a</td>\n",
       "    </tr>\n",
       "    <tr>\n",
       "      <td>11</td>\n",
       "      <td>30.7</td>\n",
       "      <td>F</td>\n",
       "      <td>b</td>\n",
       "      <td>a</td>\n",
       "    </tr>\n",
       "    <tr>\n",
       "      <td>12</td>\n",
       "      <td>32.6</td>\n",
       "      <td>A</td>\n",
       "      <td>c</td>\n",
       "      <td>b</td>\n",
       "    </tr>\n",
       "    <tr>\n",
       "      <td>13</td>\n",
       "      <td>32.7</td>\n",
       "      <td>B</td>\n",
       "      <td>c</td>\n",
       "      <td>b</td>\n",
       "    </tr>\n",
       "    <tr>\n",
       "      <td>14</td>\n",
       "      <td>29.3</td>\n",
       "      <td>C</td>\n",
       "      <td>c</td>\n",
       "      <td>b</td>\n",
       "    </tr>\n",
       "    <tr>\n",
       "      <td>15</td>\n",
       "      <td>25.9</td>\n",
       "      <td>D</td>\n",
       "      <td>c</td>\n",
       "      <td>b</td>\n",
       "    </tr>\n",
       "    <tr>\n",
       "      <td>16</td>\n",
       "      <td>31.1</td>\n",
       "      <td>E</td>\n",
       "      <td>c</td>\n",
       "      <td>b</td>\n",
       "    </tr>\n",
       "    <tr>\n",
       "      <td>17</td>\n",
       "      <td>23.8</td>\n",
       "      <td>F</td>\n",
       "      <td>c</td>\n",
       "      <td>b</td>\n",
       "    </tr>\n",
       "    <tr>\n",
       "      <td>18</td>\n",
       "      <td>26.7</td>\n",
       "      <td>A</td>\n",
       "      <td>d</td>\n",
       "      <td>b</td>\n",
       "    </tr>\n",
       "    <tr>\n",
       "      <td>19</td>\n",
       "      <td>28.5</td>\n",
       "      <td>B</td>\n",
       "      <td>d</td>\n",
       "      <td>b</td>\n",
       "    </tr>\n",
       "    <tr>\n",
       "      <td>20</td>\n",
       "      <td>30.9</td>\n",
       "      <td>C</td>\n",
       "      <td>d</td>\n",
       "      <td>b</td>\n",
       "    </tr>\n",
       "    <tr>\n",
       "      <td>21</td>\n",
       "      <td>26.2</td>\n",
       "      <td>D</td>\n",
       "      <td>d</td>\n",
       "      <td>b</td>\n",
       "    </tr>\n",
       "    <tr>\n",
       "      <td>22</td>\n",
       "      <td>32.3</td>\n",
       "      <td>E</td>\n",
       "      <td>d</td>\n",
       "      <td>b</td>\n",
       "    </tr>\n",
       "    <tr>\n",
       "      <td>23</td>\n",
       "      <td>23.7</td>\n",
       "      <td>F</td>\n",
       "      <td>d</td>\n",
       "      <td>b</td>\n",
       "    </tr>\n",
       "  </tbody>\n",
       "</table>\n",
       "</div>"
      ],
      "text/plain": [
       "    time charge gangjong type\n",
       "0   32.2      A        a    a\n",
       "1   30.4      B        a    a\n",
       "2   33.6      C        a    a\n",
       "3   36.4      D        a    a\n",
       "4   33.9      E        a    a\n",
       "5   34.9      F        a    a\n",
       "6   33.1      A        b    a\n",
       "7   29.9      B        b    a\n",
       "8   31.7      C        b    a\n",
       "9   27.5      D        b    a\n",
       "10  34.0      E        b    a\n",
       "11  30.7      F        b    a\n",
       "12  32.6      A        c    b\n",
       "13  32.7      B        c    b\n",
       "14  29.3      C        c    b\n",
       "15  25.9      D        c    b\n",
       "16  31.1      E        c    b\n",
       "17  23.8      F        c    b\n",
       "18  26.7      A        d    b\n",
       "19  28.5      B        d    b\n",
       "20  30.9      C        d    b\n",
       "21  26.2      D        d    b\n",
       "22  32.3      E        d    b\n",
       "23  23.7      F        d    b"
      ]
     },
     "execution_count": 54,
     "metadata": {},
     "output_type": "execute_result"
    }
   ],
   "source": [
    "df = pd.read_csv(\"ANOVA.csv\", engine=\"python\")\n",
    "df"
   ]
  },
  {
   "cell_type": "code",
   "execution_count": 55,
   "metadata": {},
   "outputs": [
    {
     "name": "stdout",
     "output_type": "stream",
     "text": [
      "Correlation Analysis\n",
      "corr :0.989\n",
      "p-value:0.000\n"
     ]
    }
   ],
   "source": [
    "df1 = [1,2,3,4,4,5,6,6,7,8]\n",
    "df2 = [23,29,49,64,74,87,96,97,109,119]\n",
    "\n",
    "corr, pval = stats.pearsonr(df1, df2)\n",
    "print(\"Correlation Analysis\")\n",
    "print(\"corr :%.3f\" %(corr))\n",
    "print(\"p-value:%.3f\" %(pval))"
   ]
  },
  {
   "cell_type": "code",
   "execution_count": 56,
   "metadata": {},
   "outputs": [
    {
     "name": "stdout",
     "output_type": "stream",
     "text": [
      "                            OLS Regression Results                            \n",
      "==============================================================================\n",
      "Dep. Variable:                      y   R-squared:                       0.979\n",
      "Model:                            OLS   Adj. R-squared:                  0.976\n",
      "Method:                 Least Squares   F-statistic:                     365.3\n",
      "Date:                Thu, 23 Jan 2020   Prob (F-statistic):           5.82e-08\n",
      "Time:                        15:35:07   Log-Likelihood:                -29.401\n",
      "No. Observations:                  10   AIC:                             62.80\n",
      "Df Residuals:                       8   BIC:                             63.41\n",
      "Df Model:                           1                                         \n",
      "Covariance Type:            nonrobust                                         \n",
      "==============================================================================\n",
      "                 coef    std err          t      P>|t|      [0.025      0.975]\n",
      "------------------------------------------------------------------------------\n",
      "const          7.1712      3.886      1.845      0.102      -1.791      16.133\n",
      "x1            14.6802      0.768     19.112      0.000      12.909      16.451\n",
      "==============================================================================\n",
      "Omnibus:                        0.118   Durbin-Watson:                   1.283\n",
      "Prob(Omnibus):                  0.943   Jarque-Bera (JB):                0.241\n",
      "Skew:                           0.191   Prob(JB):                        0.886\n",
      "Kurtosis:                       2.343   Cond. No.                         12.5\n",
      "==============================================================================\n",
      "\n",
      "Warnings:\n",
      "[1] Standard Errors assume that the covariance matrix of the errors is correctly specified.\n"
     ]
    },
    {
     "name": "stderr",
     "output_type": "stream",
     "text": [
      "/home/pirl/anaconda3/lib/python3.7/site-packages/scipy/stats/stats.py:1450: UserWarning: kurtosistest only valid for n>=20 ... continuing anyway, n=10\n",
      "  \"anyway, n=%i\" % int(n))\n"
     ]
    }
   ],
   "source": [
    "minutes = [1,2,3,4,4,5,6,6,7,8]\n",
    "units = [23,29,49,64,74,87,96,97,109,119]\n",
    "\n",
    "minutes = sm.add_constant(minutes)\n",
    "model = sm.OLS(units, minutes)\n",
    "result = model.fit()\n",
    "print(result.summary())"
   ]
  },
  {
   "cell_type": "code",
   "execution_count": 65,
   "metadata": {
    "scrolled": true
   },
   "outputs": [
    {
     "data": {
      "text/plain": [
       "(0.9653438329696655, 0.8446419835090637)"
      ]
     },
     "execution_count": 65,
     "metadata": {},
     "output_type": "execute_result"
    },
    {
     "data": {
      "image/png": "[encoded data removed]",
      "text/plain": [
       "<Figure size 432x288 with 1 Axes>"
      ]
     },
     "metadata": {
      "needs_background": "light"
     },
     "output_type": "display_data"
    }
   ],
   "source": [
    "#정규성 검정\n",
    "plt.hist(result.resid)\n",
    "shapiro(result.resid)\n"
   ]
  },
  {
   "cell_type": "code",
   "execution_count": 63,
   "metadata": {
    "scrolled": true
   },
   "outputs": [
    {
     "data": {
      "text/plain": [
       "<matplotlib.lines.Line2D at 0x7fb054305a50>"
      ]
     },
     "execution_count": 63,
     "metadata": {},
     "output_type": "execute_result"
    },
    {
     "data": {
      "image/png": "[encoded data removed]",
      "text/plain": [
       "<Figure size 432x288 with 1 Axes>"
      ]
     },
     "metadata": {
      "needs_background": "light"
     },
     "output_type": "display_data"
    }
   ],
   "source": [
    "#등분산성 검정\n",
    "plt.scatter(result.fittedvalues,result.resid)\n",
    "plt.xlabel(\"fitted value\")\n",
    "plt.ylabel(\"residual\")\n",
    "plt.axhline(y=0, linestyle=\"--\")\n"
   ]
  },
  {
   "cell_type": "code",
   "execution_count": 67,
   "metadata": {},
   "outputs": [
    {
     "data": {
      "text/plain": [
       "<matplotlib.lines.Line2D at 0x7fb054dac050>"
      ]
     },
     "execution_count": 67,
     "metadata": {},
     "output_type": "execute_result"
    },
    {
     "data": {
      "image/png": "[encoded data removed]",
      "text/plain": [
       "<Figure size 432x288 with 1 Axes>"
      ]
     },
     "metadata": {
      "needs_background": "light"
     },
     "output_type": "display_data"
    }
   ],
   "source": [
    "#독립성 검정\n",
    "plt.scatter(range(0,10), result.resid, marker=\"o\")\n",
    "plt.xlabel(\"data\")\n",
    "plt.ylabel(\"residual\")\n",
    "plt.axhline(y=0, linestyle=\"-\")\n",
    "plt.axhline(y=3*np.std(result.resid), linestyle=\"--\")\n",
    "plt.axhline(y=-3*np.std(result.resid), linestyle = \"--\")\n"
   ]
  },
  {
   "cell_type": "code",
   "execution_count": 61,
   "metadata": {},
   "outputs": [
    {
     "data": {
      "text/plain": [
       "1.2832842622941938"
      ]
     },
     "execution_count": 61,
     "metadata": {},
     "output_type": "execute_result"
    }
   ],
   "source": [
    "#더빈왓슨통계량\n",
    "from statsmodels.stats.stattools import durbin_watson\n",
    "durbin_watson(result.resid)"
   ]
  },
  {
   "cell_type": "code",
   "execution_count": null,
   "metadata": {},
   "outputs": [],
   "source": []
  }
 ],
 "metadata": {
  "kernelspec": {
   "display_name": "Python 3",
   "language": "python",
   "name": "python3"
  },
  "language_info": {
   "codemirror_mode": {
    "name": "ipython",
    "version": 3
   },
   "file_extension": ".py",
   "mimetype": "text/x-python",
   "name": "python",
   "nbconvert_exporter": "python",
   "pygments_lexer": "ipython3",
   "version": "3.7.4"
  }
 },
 "nbformat": 4,
 "nbformat_minor": 2
}
