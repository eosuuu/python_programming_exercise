{
 "cells": [
  {
   "cell_type": "markdown",
   "metadata": {},
   "source": [
    "# 기술통계 관련 코드 "
   ]
  },
  {
   "cell_type": "code",
   "execution_count": 10,
   "metadata": {},
   "outputs": [],
   "source": [
    "import numpy as np\n",
    "from scipy import stats\n",
    "import scipy.stats\n",
    "import pandas as pd\n",
    "import statsmodels.api as sm\n",
    "import matplotlib.pyplot as plt\n",
    "import seaborn as sns\n",
    "from statsmodels.stats.proportion import proportions_ztest\n",
    "import matplotlib\n",
    "import matplotlib.font_manager as fm\n",
    "from scipy.stats import shapiro\n",
    "\n"
   ]
  },
  {
   "cell_type": "code",
   "execution_count": 6,
   "metadata": {},
   "outputs": [
    {
     "data": {
      "text/html": [
       "<div>\n",
       "<style scoped>\n",
       "    .dataframe tbody tr th:only-of-type {\n",
       "        vertical-align: middle;\n",
       "    }\n",
       "\n",
       "    .dataframe tbody tr th {\n",
       "        vertical-align: top;\n",
       "    }\n",
       "\n",
       "    .dataframe thead th {\n",
       "        text-align: right;\n",
       "    }\n",
       "</style>\n",
       "<table border=\"1\" class=\"dataframe\">\n",
       "  <thead>\n",
       "    <tr style=\"text-align: right;\">\n",
       "      <th></th>\n",
       "      <th>manufacturer</th>\n",
       "      <th>model</th>\n",
       "      <th>displacement</th>\n",
       "      <th>year</th>\n",
       "      <th>cylinder</th>\n",
       "      <th>automatic</th>\n",
       "      <th>driving</th>\n",
       "      <th>mpg</th>\n",
       "      <th>highway_mileage</th>\n",
       "      <th>fuel</th>\n",
       "      <th>class</th>\n",
       "    </tr>\n",
       "  </thead>\n",
       "  <tbody>\n",
       "    <tr>\n",
       "      <td>0</td>\n",
       "      <td>audi</td>\n",
       "      <td>a4</td>\n",
       "      <td>1.8</td>\n",
       "      <td>1999</td>\n",
       "      <td>4</td>\n",
       "      <td>auto</td>\n",
       "      <td>f</td>\n",
       "      <td>18</td>\n",
       "      <td>29</td>\n",
       "      <td>p</td>\n",
       "      <td>compact</td>\n",
       "    </tr>\n",
       "    <tr>\n",
       "      <td>1</td>\n",
       "      <td>audi</td>\n",
       "      <td>a4</td>\n",
       "      <td>1.8</td>\n",
       "      <td>1999</td>\n",
       "      <td>4</td>\n",
       "      <td>manual</td>\n",
       "      <td>f</td>\n",
       "      <td>21</td>\n",
       "      <td>29</td>\n",
       "      <td>p</td>\n",
       "      <td>compact</td>\n",
       "    </tr>\n",
       "    <tr>\n",
       "      <td>2</td>\n",
       "      <td>audi</td>\n",
       "      <td>a4</td>\n",
       "      <td>2.0</td>\n",
       "      <td>2008</td>\n",
       "      <td>4</td>\n",
       "      <td>manual</td>\n",
       "      <td>f</td>\n",
       "      <td>20</td>\n",
       "      <td>31</td>\n",
       "      <td>p</td>\n",
       "      <td>compact</td>\n",
       "    </tr>\n",
       "    <tr>\n",
       "      <td>3</td>\n",
       "      <td>audi</td>\n",
       "      <td>a4</td>\n",
       "      <td>2.0</td>\n",
       "      <td>2008</td>\n",
       "      <td>4</td>\n",
       "      <td>auto</td>\n",
       "      <td>f</td>\n",
       "      <td>21</td>\n",
       "      <td>30</td>\n",
       "      <td>p</td>\n",
       "      <td>compact</td>\n",
       "    </tr>\n",
       "    <tr>\n",
       "      <td>4</td>\n",
       "      <td>audi</td>\n",
       "      <td>a4</td>\n",
       "      <td>2.8</td>\n",
       "      <td>1999</td>\n",
       "      <td>6</td>\n",
       "      <td>auto</td>\n",
       "      <td>f</td>\n",
       "      <td>16</td>\n",
       "      <td>26</td>\n",
       "      <td>p</td>\n",
       "      <td>compact</td>\n",
       "    </tr>\n",
       "  </tbody>\n",
       "</table>\n",
       "</div>"
      ],
      "text/plain": [
       "  manufacturer model  displacement  year  cylinder automatic driving  mpg  \\\n",
       "0         audi    a4           1.8  1999         4      auto       f   18   \n",
       "1         audi    a4           1.8  1999         4    manual       f   21   \n",
       "2         audi    a4           2.0  2008         4    manual       f   20   \n",
       "3         audi    a4           2.0  2008         4      auto       f   21   \n",
       "4         audi    a4           2.8  1999         6      auto       f   16   \n",
       "\n",
       "   highway_mileage fuel    class  \n",
       "0               29    p  compact  \n",
       "1               29    p  compact  \n",
       "2               31    p  compact  \n",
       "3               30    p  compact  \n",
       "4               26    p  compact  "
      ]
     },
     "execution_count": 6,
     "metadata": {},
     "output_type": "execute_result"
    }
   ],
   "source": [
    "df = pd.read_csv(\"mycars.csv\", engine='python') #csv불러오기\n",
    "df.head() #상위꺼 보여주는거 -> 주로 일단 데이터 모양이 어떻게 생겼는지?, column 뭐있는지 확인할 때 사용한다. "
   ]
  },
  {
   "cell_type": "code",
   "execution_count": 7,
   "metadata": {},
   "outputs": [
    {
     "data": {
      "text/html": [
       "<div>\n",
       "<style scoped>\n",
       "    .dataframe tbody tr th:only-of-type {\n",
       "        vertical-align: middle;\n",
       "    }\n",
       "\n",
       "    .dataframe tbody tr th {\n",
       "        vertical-align: top;\n",
       "    }\n",
       "\n",
       "    .dataframe thead th {\n",
       "        text-align: right;\n",
       "    }\n",
       "</style>\n",
       "<table border=\"1\" class=\"dataframe\">\n",
       "  <thead>\n",
       "    <tr style=\"text-align: right;\">\n",
       "      <th></th>\n",
       "      <th>displacement</th>\n",
       "      <th>year</th>\n",
       "      <th>cylinder</th>\n",
       "      <th>mpg</th>\n",
       "      <th>highway_mileage</th>\n",
       "    </tr>\n",
       "  </thead>\n",
       "  <tbody>\n",
       "    <tr>\n",
       "      <td>count</td>\n",
       "      <td>234.000000</td>\n",
       "      <td>234.000000</td>\n",
       "      <td>234.000000</td>\n",
       "      <td>234.000000</td>\n",
       "      <td>234.000000</td>\n",
       "    </tr>\n",
       "    <tr>\n",
       "      <td>mean</td>\n",
       "      <td>3.471795</td>\n",
       "      <td>2003.500000</td>\n",
       "      <td>5.888889</td>\n",
       "      <td>16.858974</td>\n",
       "      <td>23.440171</td>\n",
       "    </tr>\n",
       "    <tr>\n",
       "      <td>std</td>\n",
       "      <td>1.291959</td>\n",
       "      <td>4.509646</td>\n",
       "      <td>1.611534</td>\n",
       "      <td>4.255946</td>\n",
       "      <td>5.954643</td>\n",
       "    </tr>\n",
       "    <tr>\n",
       "      <td>min</td>\n",
       "      <td>1.600000</td>\n",
       "      <td>1999.000000</td>\n",
       "      <td>4.000000</td>\n",
       "      <td>9.000000</td>\n",
       "      <td>12.000000</td>\n",
       "    </tr>\n",
       "    <tr>\n",
       "      <td>25%</td>\n",
       "      <td>2.400000</td>\n",
       "      <td>1999.000000</td>\n",
       "      <td>4.000000</td>\n",
       "      <td>14.000000</td>\n",
       "      <td>18.000000</td>\n",
       "    </tr>\n",
       "    <tr>\n",
       "      <td>50%</td>\n",
       "      <td>3.300000</td>\n",
       "      <td>2003.500000</td>\n",
       "      <td>6.000000</td>\n",
       "      <td>17.000000</td>\n",
       "      <td>24.000000</td>\n",
       "    </tr>\n",
       "    <tr>\n",
       "      <td>75%</td>\n",
       "      <td>4.600000</td>\n",
       "      <td>2008.000000</td>\n",
       "      <td>8.000000</td>\n",
       "      <td>19.000000</td>\n",
       "      <td>27.000000</td>\n",
       "    </tr>\n",
       "    <tr>\n",
       "      <td>max</td>\n",
       "      <td>7.000000</td>\n",
       "      <td>2008.000000</td>\n",
       "      <td>8.000000</td>\n",
       "      <td>35.000000</td>\n",
       "      <td>44.000000</td>\n",
       "    </tr>\n",
       "  </tbody>\n",
       "</table>\n",
       "</div>"
      ],
      "text/plain": [
       "       displacement         year    cylinder         mpg  highway_mileage\n",
       "count    234.000000   234.000000  234.000000  234.000000       234.000000\n",
       "mean       3.471795  2003.500000    5.888889   16.858974        23.440171\n",
       "std        1.291959     4.509646    1.611534    4.255946         5.954643\n",
       "min        1.600000  1999.000000    4.000000    9.000000        12.000000\n",
       "25%        2.400000  1999.000000    4.000000   14.000000        18.000000\n",
       "50%        3.300000  2003.500000    6.000000   17.000000        24.000000\n",
       "75%        4.600000  2008.000000    8.000000   19.000000        27.000000\n",
       "max        7.000000  2008.000000    8.000000   35.000000        44.000000"
      ]
     },
     "execution_count": 7,
     "metadata": {},
     "output_type": "execute_result"
    }
   ],
   "source": [
    "df.describe() #숫자로 된 거 다 계산해서 여러가지 계산한거 보여줌. 전체 몇개인지, 평균, 이런거"
   ]
  },
  {
   "cell_type": "code",
   "execution_count": 8,
   "metadata": {},
   "outputs": [
    {
     "data": {
      "text/html": [
       "<div>\n",
       "<style scoped>\n",
       "    .dataframe tbody tr th:only-of-type {\n",
       "        vertical-align: middle;\n",
       "    }\n",
       "\n",
       "    .dataframe tbody tr th {\n",
       "        vertical-align: top;\n",
       "    }\n",
       "\n",
       "    .dataframe thead tr th {\n",
       "        text-align: left;\n",
       "    }\n",
       "\n",
       "    .dataframe thead tr:last-of-type th {\n",
       "        text-align: right;\n",
       "    }\n",
       "</style>\n",
       "<table border=\"1\" class=\"dataframe\">\n",
       "  <thead>\n",
       "    <tr>\n",
       "      <th></th>\n",
       "      <th colspan=\"8\" halign=\"left\">mpg</th>\n",
       "    </tr>\n",
       "    <tr>\n",
       "      <th></th>\n",
       "      <th>count</th>\n",
       "      <th>mean</th>\n",
       "      <th>std</th>\n",
       "      <th>min</th>\n",
       "      <th>25%</th>\n",
       "      <th>50%</th>\n",
       "      <th>75%</th>\n",
       "      <th>max</th>\n",
       "    </tr>\n",
       "    <tr>\n",
       "      <th>model</th>\n",
       "      <th></th>\n",
       "      <th></th>\n",
       "      <th></th>\n",
       "      <th></th>\n",
       "      <th></th>\n",
       "      <th></th>\n",
       "      <th></th>\n",
       "      <th></th>\n",
       "    </tr>\n",
       "  </thead>\n",
       "  <tbody>\n",
       "    <tr>\n",
       "      <td>4runner 4wd</td>\n",
       "      <td>6.0</td>\n",
       "      <td>15.166667</td>\n",
       "      <td>0.752773</td>\n",
       "      <td>14.0</td>\n",
       "      <td>15.00</td>\n",
       "      <td>15.0</td>\n",
       "      <td>15.75</td>\n",
       "      <td>16.0</td>\n",
       "    </tr>\n",
       "    <tr>\n",
       "      <td>a4</td>\n",
       "      <td>7.0</td>\n",
       "      <td>18.857143</td>\n",
       "      <td>1.864454</td>\n",
       "      <td>16.0</td>\n",
       "      <td>18.00</td>\n",
       "      <td>18.0</td>\n",
       "      <td>20.50</td>\n",
       "      <td>21.0</td>\n",
       "    </tr>\n",
       "    <tr>\n",
       "      <td>a4 quattro</td>\n",
       "      <td>8.0</td>\n",
       "      <td>17.125000</td>\n",
       "      <td>1.807722</td>\n",
       "      <td>15.0</td>\n",
       "      <td>15.75</td>\n",
       "      <td>17.0</td>\n",
       "      <td>18.25</td>\n",
       "      <td>20.0</td>\n",
       "    </tr>\n",
       "    <tr>\n",
       "      <td>a6 quattro</td>\n",
       "      <td>3.0</td>\n",
       "      <td>16.000000</td>\n",
       "      <td>1.000000</td>\n",
       "      <td>15.0</td>\n",
       "      <td>15.50</td>\n",
       "      <td>16.0</td>\n",
       "      <td>16.50</td>\n",
       "      <td>17.0</td>\n",
       "    </tr>\n",
       "    <tr>\n",
       "      <td>altima</td>\n",
       "      <td>6.0</td>\n",
       "      <td>20.666667</td>\n",
       "      <td>1.966384</td>\n",
       "      <td>19.0</td>\n",
       "      <td>19.00</td>\n",
       "      <td>20.0</td>\n",
       "      <td>22.50</td>\n",
       "      <td>23.0</td>\n",
       "    </tr>\n",
       "    <tr>\n",
       "      <td>c1500 suburban 2wd</td>\n",
       "      <td>5.0</td>\n",
       "      <td>12.800000</td>\n",
       "      <td>1.303840</td>\n",
       "      <td>11.0</td>\n",
       "      <td>12.00</td>\n",
       "      <td>13.0</td>\n",
       "      <td>14.00</td>\n",
       "      <td>14.0</td>\n",
       "    </tr>\n",
       "    <tr>\n",
       "      <td>camry</td>\n",
       "      <td>7.0</td>\n",
       "      <td>19.857143</td>\n",
       "      <td>1.463850</td>\n",
       "      <td>18.0</td>\n",
       "      <td>18.50</td>\n",
       "      <td>21.0</td>\n",
       "      <td>21.00</td>\n",
       "      <td>21.0</td>\n",
       "    </tr>\n",
       "    <tr>\n",
       "      <td>camry solara</td>\n",
       "      <td>7.0</td>\n",
       "      <td>19.857143</td>\n",
       "      <td>1.772811</td>\n",
       "      <td>18.0</td>\n",
       "      <td>18.00</td>\n",
       "      <td>21.0</td>\n",
       "      <td>21.00</td>\n",
       "      <td>22.0</td>\n",
       "    </tr>\n",
       "    <tr>\n",
       "      <td>caravan 2wd</td>\n",
       "      <td>11.0</td>\n",
       "      <td>15.818182</td>\n",
       "      <td>1.834022</td>\n",
       "      <td>11.0</td>\n",
       "      <td>15.50</td>\n",
       "      <td>16.0</td>\n",
       "      <td>17.00</td>\n",
       "      <td>18.0</td>\n",
       "    </tr>\n",
       "    <tr>\n",
       "      <td>civic</td>\n",
       "      <td>9.0</td>\n",
       "      <td>24.444444</td>\n",
       "      <td>1.943651</td>\n",
       "      <td>21.0</td>\n",
       "      <td>24.00</td>\n",
       "      <td>24.0</td>\n",
       "      <td>25.00</td>\n",
       "      <td>28.0</td>\n",
       "    </tr>\n",
       "    <tr>\n",
       "      <td>corolla</td>\n",
       "      <td>5.0</td>\n",
       "      <td>25.600000</td>\n",
       "      <td>1.673320</td>\n",
       "      <td>24.0</td>\n",
       "      <td>24.00</td>\n",
       "      <td>26.0</td>\n",
       "      <td>26.00</td>\n",
       "      <td>28.0</td>\n",
       "    </tr>\n",
       "    <tr>\n",
       "      <td>corvette</td>\n",
       "      <td>5.0</td>\n",
       "      <td>15.400000</td>\n",
       "      <td>0.547723</td>\n",
       "      <td>15.0</td>\n",
       "      <td>15.00</td>\n",
       "      <td>15.0</td>\n",
       "      <td>16.00</td>\n",
       "      <td>16.0</td>\n",
       "    </tr>\n",
       "    <tr>\n",
       "      <td>dakota pickup 4wd</td>\n",
       "      <td>9.0</td>\n",
       "      <td>12.777778</td>\n",
       "      <td>1.986063</td>\n",
       "      <td>9.0</td>\n",
       "      <td>11.00</td>\n",
       "      <td>14.0</td>\n",
       "      <td>14.00</td>\n",
       "      <td>15.0</td>\n",
       "    </tr>\n",
       "    <tr>\n",
       "      <td>durango 4wd</td>\n",
       "      <td>7.0</td>\n",
       "      <td>11.857143</td>\n",
       "      <td>1.573592</td>\n",
       "      <td>9.0</td>\n",
       "      <td>11.00</td>\n",
       "      <td>13.0</td>\n",
       "      <td>13.00</td>\n",
       "      <td>13.0</td>\n",
       "    </tr>\n",
       "    <tr>\n",
       "      <td>expedition 2wd</td>\n",
       "      <td>3.0</td>\n",
       "      <td>11.333333</td>\n",
       "      <td>0.577350</td>\n",
       "      <td>11.0</td>\n",
       "      <td>11.00</td>\n",
       "      <td>11.0</td>\n",
       "      <td>11.50</td>\n",
       "      <td>12.0</td>\n",
       "    </tr>\n",
       "    <tr>\n",
       "      <td>explorer 4wd</td>\n",
       "      <td>6.0</td>\n",
       "      <td>13.666667</td>\n",
       "      <td>0.816497</td>\n",
       "      <td>13.0</td>\n",
       "      <td>13.00</td>\n",
       "      <td>13.5</td>\n",
       "      <td>14.00</td>\n",
       "      <td>15.0</td>\n",
       "    </tr>\n",
       "    <tr>\n",
       "      <td>f150 pickup 4wd</td>\n",
       "      <td>7.0</td>\n",
       "      <td>13.000000</td>\n",
       "      <td>1.000000</td>\n",
       "      <td>11.0</td>\n",
       "      <td>13.00</td>\n",
       "      <td>13.0</td>\n",
       "      <td>13.50</td>\n",
       "      <td>14.0</td>\n",
       "    </tr>\n",
       "    <tr>\n",
       "      <td>forester awd</td>\n",
       "      <td>6.0</td>\n",
       "      <td>18.833333</td>\n",
       "      <td>0.983192</td>\n",
       "      <td>18.0</td>\n",
       "      <td>18.00</td>\n",
       "      <td>18.5</td>\n",
       "      <td>19.75</td>\n",
       "      <td>20.0</td>\n",
       "    </tr>\n",
       "    <tr>\n",
       "      <td>grand cherokee 4wd</td>\n",
       "      <td>8.0</td>\n",
       "      <td>13.500000</td>\n",
       "      <td>2.507133</td>\n",
       "      <td>9.0</td>\n",
       "      <td>12.50</td>\n",
       "      <td>14.0</td>\n",
       "      <td>15.00</td>\n",
       "      <td>17.0</td>\n",
       "    </tr>\n",
       "    <tr>\n",
       "      <td>grand prix</td>\n",
       "      <td>5.0</td>\n",
       "      <td>17.000000</td>\n",
       "      <td>1.000000</td>\n",
       "      <td>16.0</td>\n",
       "      <td>16.00</td>\n",
       "      <td>17.0</td>\n",
       "      <td>18.00</td>\n",
       "      <td>18.0</td>\n",
       "    </tr>\n",
       "    <tr>\n",
       "      <td>gti</td>\n",
       "      <td>5.0</td>\n",
       "      <td>20.000000</td>\n",
       "      <td>2.000000</td>\n",
       "      <td>17.0</td>\n",
       "      <td>19.00</td>\n",
       "      <td>21.0</td>\n",
       "      <td>21.00</td>\n",
       "      <td>22.0</td>\n",
       "    </tr>\n",
       "    <tr>\n",
       "      <td>impreza awd</td>\n",
       "      <td>8.0</td>\n",
       "      <td>19.625000</td>\n",
       "      <td>0.744024</td>\n",
       "      <td>19.0</td>\n",
       "      <td>19.00</td>\n",
       "      <td>19.5</td>\n",
       "      <td>20.00</td>\n",
       "      <td>21.0</td>\n",
       "    </tr>\n",
       "    <tr>\n",
       "      <td>jetta</td>\n",
       "      <td>9.0</td>\n",
       "      <td>21.222222</td>\n",
       "      <td>4.867694</td>\n",
       "      <td>16.0</td>\n",
       "      <td>19.00</td>\n",
       "      <td>21.0</td>\n",
       "      <td>21.00</td>\n",
       "      <td>33.0</td>\n",
       "    </tr>\n",
       "    <tr>\n",
       "      <td>k1500 tahoe 4wd</td>\n",
       "      <td>4.0</td>\n",
       "      <td>12.500000</td>\n",
       "      <td>1.732051</td>\n",
       "      <td>11.0</td>\n",
       "      <td>11.00</td>\n",
       "      <td>12.5</td>\n",
       "      <td>14.00</td>\n",
       "      <td>14.0</td>\n",
       "    </tr>\n",
       "    <tr>\n",
       "      <td>land cruiser wagon 4wd</td>\n",
       "      <td>2.0</td>\n",
       "      <td>12.000000</td>\n",
       "      <td>1.414214</td>\n",
       "      <td>11.0</td>\n",
       "      <td>11.50</td>\n",
       "      <td>12.0</td>\n",
       "      <td>12.50</td>\n",
       "      <td>13.0</td>\n",
       "    </tr>\n",
       "    <tr>\n",
       "      <td>malibu</td>\n",
       "      <td>5.0</td>\n",
       "      <td>18.800000</td>\n",
       "      <td>1.923538</td>\n",
       "      <td>17.0</td>\n",
       "      <td>18.00</td>\n",
       "      <td>18.0</td>\n",
       "      <td>19.00</td>\n",
       "      <td>22.0</td>\n",
       "    </tr>\n",
       "    <tr>\n",
       "      <td>maxima</td>\n",
       "      <td>3.0</td>\n",
       "      <td>18.666667</td>\n",
       "      <td>0.577350</td>\n",
       "      <td>18.0</td>\n",
       "      <td>18.50</td>\n",
       "      <td>19.0</td>\n",
       "      <td>19.00</td>\n",
       "      <td>19.0</td>\n",
       "    </tr>\n",
       "    <tr>\n",
       "      <td>mountaineer 4wd</td>\n",
       "      <td>4.0</td>\n",
       "      <td>13.250000</td>\n",
       "      <td>0.500000</td>\n",
       "      <td>13.0</td>\n",
       "      <td>13.00</td>\n",
       "      <td>13.0</td>\n",
       "      <td>13.25</td>\n",
       "      <td>14.0</td>\n",
       "    </tr>\n",
       "    <tr>\n",
       "      <td>mustang</td>\n",
       "      <td>9.0</td>\n",
       "      <td>15.888889</td>\n",
       "      <td>1.452966</td>\n",
       "      <td>14.0</td>\n",
       "      <td>15.00</td>\n",
       "      <td>15.0</td>\n",
       "      <td>17.00</td>\n",
       "      <td>18.0</td>\n",
       "    </tr>\n",
       "    <tr>\n",
       "      <td>navigator 2wd</td>\n",
       "      <td>3.0</td>\n",
       "      <td>11.333333</td>\n",
       "      <td>0.577350</td>\n",
       "      <td>11.0</td>\n",
       "      <td>11.00</td>\n",
       "      <td>11.0</td>\n",
       "      <td>11.50</td>\n",
       "      <td>12.0</td>\n",
       "    </tr>\n",
       "    <tr>\n",
       "      <td>new beetle</td>\n",
       "      <td>6.0</td>\n",
       "      <td>24.000000</td>\n",
       "      <td>6.511528</td>\n",
       "      <td>19.0</td>\n",
       "      <td>20.00</td>\n",
       "      <td>20.5</td>\n",
       "      <td>27.00</td>\n",
       "      <td>35.0</td>\n",
       "    </tr>\n",
       "    <tr>\n",
       "      <td>passat</td>\n",
       "      <td>7.0</td>\n",
       "      <td>18.571429</td>\n",
       "      <td>1.902379</td>\n",
       "      <td>16.0</td>\n",
       "      <td>17.50</td>\n",
       "      <td>18.0</td>\n",
       "      <td>20.00</td>\n",
       "      <td>21.0</td>\n",
       "    </tr>\n",
       "    <tr>\n",
       "      <td>pathfinder 4wd</td>\n",
       "      <td>4.0</td>\n",
       "      <td>13.750000</td>\n",
       "      <td>1.258306</td>\n",
       "      <td>12.0</td>\n",
       "      <td>13.50</td>\n",
       "      <td>14.0</td>\n",
       "      <td>14.25</td>\n",
       "      <td>15.0</td>\n",
       "    </tr>\n",
       "    <tr>\n",
       "      <td>ram 1500 pickup 4wd</td>\n",
       "      <td>10.0</td>\n",
       "      <td>11.400000</td>\n",
       "      <td>1.505545</td>\n",
       "      <td>9.0</td>\n",
       "      <td>11.00</td>\n",
       "      <td>11.5</td>\n",
       "      <td>12.75</td>\n",
       "      <td>13.0</td>\n",
       "    </tr>\n",
       "    <tr>\n",
       "      <td>range rover</td>\n",
       "      <td>4.0</td>\n",
       "      <td>11.500000</td>\n",
       "      <td>0.577350</td>\n",
       "      <td>11.0</td>\n",
       "      <td>11.00</td>\n",
       "      <td>11.5</td>\n",
       "      <td>12.00</td>\n",
       "      <td>12.0</td>\n",
       "    </tr>\n",
       "    <tr>\n",
       "      <td>sonata</td>\n",
       "      <td>7.0</td>\n",
       "      <td>19.000000</td>\n",
       "      <td>1.414214</td>\n",
       "      <td>18.0</td>\n",
       "      <td>18.00</td>\n",
       "      <td>18.0</td>\n",
       "      <td>20.00</td>\n",
       "      <td>21.0</td>\n",
       "    </tr>\n",
       "    <tr>\n",
       "      <td>tiburon</td>\n",
       "      <td>7.0</td>\n",
       "      <td>18.285714</td>\n",
       "      <td>1.603567</td>\n",
       "      <td>16.0</td>\n",
       "      <td>17.00</td>\n",
       "      <td>19.0</td>\n",
       "      <td>19.50</td>\n",
       "      <td>20.0</td>\n",
       "    </tr>\n",
       "    <tr>\n",
       "      <td>toyota tacoma 4wd</td>\n",
       "      <td>7.0</td>\n",
       "      <td>15.571429</td>\n",
       "      <td>0.786796</td>\n",
       "      <td>15.0</td>\n",
       "      <td>15.00</td>\n",
       "      <td>15.0</td>\n",
       "      <td>16.00</td>\n",
       "      <td>17.0</td>\n",
       "    </tr>\n",
       "  </tbody>\n",
       "</table>\n",
       "</div>"
      ],
      "text/plain": [
       "                         mpg                                                 \\\n",
       "                       count       mean       std   min    25%   50%    75%   \n",
       "model                                                                         \n",
       "4runner 4wd              6.0  15.166667  0.752773  14.0  15.00  15.0  15.75   \n",
       "a4                       7.0  18.857143  1.864454  16.0  18.00  18.0  20.50   \n",
       "a4 quattro               8.0  17.125000  1.807722  15.0  15.75  17.0  18.25   \n",
       "a6 quattro               3.0  16.000000  1.000000  15.0  15.50  16.0  16.50   \n",
       "altima                   6.0  20.666667  1.966384  19.0  19.00  20.0  22.50   \n",
       "c1500 suburban 2wd       5.0  12.800000  1.303840  11.0  12.00  13.0  14.00   \n",
       "camry                    7.0  19.857143  1.463850  18.0  18.50  21.0  21.00   \n",
       "camry solara             7.0  19.857143  1.772811  18.0  18.00  21.0  21.00   \n",
       "caravan 2wd             11.0  15.818182  1.834022  11.0  15.50  16.0  17.00   \n",
       "civic                    9.0  24.444444  1.943651  21.0  24.00  24.0  25.00   \n",
       "corolla                  5.0  25.600000  1.673320  24.0  24.00  26.0  26.00   \n",
       "corvette                 5.0  15.400000  0.547723  15.0  15.00  15.0  16.00   \n",
       "dakota pickup 4wd        9.0  12.777778  1.986063   9.0  11.00  14.0  14.00   \n",
       "durango 4wd              7.0  11.857143  1.573592   9.0  11.00  13.0  13.00   \n",
       "expedition 2wd           3.0  11.333333  0.577350  11.0  11.00  11.0  11.50   \n",
       "explorer 4wd             6.0  13.666667  0.816497  13.0  13.00  13.5  14.00   \n",
       "f150 pickup 4wd          7.0  13.000000  1.000000  11.0  13.00  13.0  13.50   \n",
       "forester awd             6.0  18.833333  0.983192  18.0  18.00  18.5  19.75   \n",
       "grand cherokee 4wd       8.0  13.500000  2.507133   9.0  12.50  14.0  15.00   \n",
       "grand prix               5.0  17.000000  1.000000  16.0  16.00  17.0  18.00   \n",
       "gti                      5.0  20.000000  2.000000  17.0  19.00  21.0  21.00   \n",
       "impreza awd              8.0  19.625000  0.744024  19.0  19.00  19.5  20.00   \n",
       "jetta                    9.0  21.222222  4.867694  16.0  19.00  21.0  21.00   \n",
       "k1500 tahoe 4wd          4.0  12.500000  1.732051  11.0  11.00  12.5  14.00   \n",
       "land cruiser wagon 4wd   2.0  12.000000  1.414214  11.0  11.50  12.0  12.50   \n",
       "malibu                   5.0  18.800000  1.923538  17.0  18.00  18.0  19.00   \n",
       "maxima                   3.0  18.666667  0.577350  18.0  18.50  19.0  19.00   \n",
       "mountaineer 4wd          4.0  13.250000  0.500000  13.0  13.00  13.0  13.25   \n",
       "mustang                  9.0  15.888889  1.452966  14.0  15.00  15.0  17.00   \n",
       "navigator 2wd            3.0  11.333333  0.577350  11.0  11.00  11.0  11.50   \n",
       "new beetle               6.0  24.000000  6.511528  19.0  20.00  20.5  27.00   \n",
       "passat                   7.0  18.571429  1.902379  16.0  17.50  18.0  20.00   \n",
       "pathfinder 4wd           4.0  13.750000  1.258306  12.0  13.50  14.0  14.25   \n",
       "ram 1500 pickup 4wd     10.0  11.400000  1.505545   9.0  11.00  11.5  12.75   \n",
       "range rover              4.0  11.500000  0.577350  11.0  11.00  11.5  12.00   \n",
       "sonata                   7.0  19.000000  1.414214  18.0  18.00  18.0  20.00   \n",
       "tiburon                  7.0  18.285714  1.603567  16.0  17.00  19.0  19.50   \n",
       "toyota tacoma 4wd        7.0  15.571429  0.786796  15.0  15.00  15.0  16.00   \n",
       "\n",
       "                              \n",
       "                         max  \n",
       "model                         \n",
       "4runner 4wd             16.0  \n",
       "a4                      21.0  \n",
       "a4 quattro              20.0  \n",
       "a6 quattro              17.0  \n",
       "altima                  23.0  \n",
       "c1500 suburban 2wd      14.0  \n",
       "camry                   21.0  \n",
       "camry solara            22.0  \n",
       "caravan 2wd             18.0  \n",
       "civic                   28.0  \n",
       "corolla                 28.0  \n",
       "corvette                16.0  \n",
       "dakota pickup 4wd       15.0  \n",
       "durango 4wd             13.0  \n",
       "expedition 2wd          12.0  \n",
       "explorer 4wd            15.0  \n",
       "f150 pickup 4wd         14.0  \n",
       "forester awd            20.0  \n",
       "grand cherokee 4wd      17.0  \n",
       "grand prix              18.0  \n",
       "gti                     22.0  \n",
       "impreza awd             21.0  \n",
       "jetta                   33.0  \n",
       "k1500 tahoe 4wd         14.0  \n",
       "land cruiser wagon 4wd  13.0  \n",
       "malibu                  22.0  \n",
       "maxima                  19.0  \n",
       "mountaineer 4wd         14.0  \n",
       "mustang                 18.0  \n",
       "navigator 2wd           12.0  \n",
       "new beetle              35.0  \n",
       "passat                  21.0  \n",
       "pathfinder 4wd          15.0  \n",
       "ram 1500 pickup 4wd     13.0  \n",
       "range rover             12.0  \n",
       "sonata                  21.0  \n",
       "tiburon                 20.0  \n",
       "toyota tacoma 4wd       17.0  "
      ]
     },
     "execution_count": 8,
     "metadata": {},
     "output_type": "execute_result"
    }
   ],
   "source": [
    "ds = df[['model', 'mpg']]\n",
    "ds.groupby('model').describe() #그룹지어서 처리\n"
   ]
  },
  {
   "cell_type": "code",
   "execution_count": 9,
   "metadata": {},
   "outputs": [
    {
     "data": {
      "text/html": [
       "<div>\n",
       "<style scoped>\n",
       "    .dataframe tbody tr th:only-of-type {\n",
       "        vertical-align: middle;\n",
       "    }\n",
       "\n",
       "    .dataframe tbody tr th {\n",
       "        vertical-align: top;\n",
       "    }\n",
       "\n",
       "    .dataframe thead th {\n",
       "        text-align: right;\n",
       "    }\n",
       "</style>\n",
       "<table border=\"1\" class=\"dataframe\">\n",
       "  <thead>\n",
       "    <tr style=\"text-align: right;\">\n",
       "      <th></th>\n",
       "      <th>Count</th>\n",
       "      <th>CumCnt</th>\n",
       "      <th>Percent</th>\n",
       "      <th>CumPct</th>\n",
       "    </tr>\n",
       "  </thead>\n",
       "  <tbody>\n",
       "    <tr>\n",
       "      <td>audi</td>\n",
       "      <td>18</td>\n",
       "      <td>18</td>\n",
       "      <td>7.692308</td>\n",
       "      <td>7.692308</td>\n",
       "    </tr>\n",
       "    <tr>\n",
       "      <td>chevrolet</td>\n",
       "      <td>19</td>\n",
       "      <td>37</td>\n",
       "      <td>8.119658</td>\n",
       "      <td>15.811966</td>\n",
       "    </tr>\n",
       "    <tr>\n",
       "      <td>dodge</td>\n",
       "      <td>37</td>\n",
       "      <td>74</td>\n",
       "      <td>15.811966</td>\n",
       "      <td>31.623932</td>\n",
       "    </tr>\n",
       "    <tr>\n",
       "      <td>ford</td>\n",
       "      <td>25</td>\n",
       "      <td>99</td>\n",
       "      <td>10.683761</td>\n",
       "      <td>42.307692</td>\n",
       "    </tr>\n",
       "    <tr>\n",
       "      <td>honda</td>\n",
       "      <td>9</td>\n",
       "      <td>108</td>\n",
       "      <td>3.846154</td>\n",
       "      <td>46.153846</td>\n",
       "    </tr>\n",
       "    <tr>\n",
       "      <td>hyundai</td>\n",
       "      <td>14</td>\n",
       "      <td>122</td>\n",
       "      <td>5.982906</td>\n",
       "      <td>52.136752</td>\n",
       "    </tr>\n",
       "    <tr>\n",
       "      <td>jeep</td>\n",
       "      <td>8</td>\n",
       "      <td>130</td>\n",
       "      <td>3.418803</td>\n",
       "      <td>55.555556</td>\n",
       "    </tr>\n",
       "    <tr>\n",
       "      <td>land rover</td>\n",
       "      <td>4</td>\n",
       "      <td>134</td>\n",
       "      <td>1.709402</td>\n",
       "      <td>57.264957</td>\n",
       "    </tr>\n",
       "    <tr>\n",
       "      <td>lincoln</td>\n",
       "      <td>3</td>\n",
       "      <td>137</td>\n",
       "      <td>1.282051</td>\n",
       "      <td>58.547009</td>\n",
       "    </tr>\n",
       "    <tr>\n",
       "      <td>mercury</td>\n",
       "      <td>4</td>\n",
       "      <td>141</td>\n",
       "      <td>1.709402</td>\n",
       "      <td>60.256410</td>\n",
       "    </tr>\n",
       "    <tr>\n",
       "      <td>nissan</td>\n",
       "      <td>13</td>\n",
       "      <td>154</td>\n",
       "      <td>5.555556</td>\n",
       "      <td>65.811966</td>\n",
       "    </tr>\n",
       "    <tr>\n",
       "      <td>pontiac</td>\n",
       "      <td>5</td>\n",
       "      <td>159</td>\n",
       "      <td>2.136752</td>\n",
       "      <td>67.948718</td>\n",
       "    </tr>\n",
       "    <tr>\n",
       "      <td>subaru</td>\n",
       "      <td>14</td>\n",
       "      <td>173</td>\n",
       "      <td>5.982906</td>\n",
       "      <td>73.931624</td>\n",
       "    </tr>\n",
       "    <tr>\n",
       "      <td>toyota</td>\n",
       "      <td>34</td>\n",
       "      <td>207</td>\n",
       "      <td>14.529915</td>\n",
       "      <td>88.461538</td>\n",
       "    </tr>\n",
       "    <tr>\n",
       "      <td>volkswagen</td>\n",
       "      <td>27</td>\n",
       "      <td>234</td>\n",
       "      <td>11.538462</td>\n",
       "      <td>100.000000</td>\n",
       "    </tr>\n",
       "  </tbody>\n",
       "</table>\n",
       "</div>"
      ],
      "text/plain": [
       "            Count  CumCnt    Percent      CumPct\n",
       "audi           18      18   7.692308    7.692308\n",
       "chevrolet      19      37   8.119658   15.811966\n",
       "dodge          37      74  15.811966   31.623932\n",
       "ford           25      99  10.683761   42.307692\n",
       "honda           9     108   3.846154   46.153846\n",
       "hyundai        14     122   5.982906   52.136752\n",
       "jeep            8     130   3.418803   55.555556\n",
       "land rover      4     134   1.709402   57.264957\n",
       "lincoln         3     137   1.282051   58.547009\n",
       "mercury         4     141   1.709402   60.256410\n",
       "nissan         13     154   5.555556   65.811966\n",
       "pontiac         5     159   2.136752   67.948718\n",
       "subaru         14     173   5.982906   73.931624\n",
       "toyota         34     207  14.529915   88.461538\n",
       "volkswagen     27     234  11.538462  100.000000"
      ]
     },
     "execution_count": 9,
     "metadata": {},
     "output_type": "execute_result"
    }
   ],
   "source": [
    "count = df['manufacturer'].value_counts().sort_index() #속성값 개수랑 순서대로 정렬한는거\n",
    "cumcnt = np.cumsum(count) #수 누적으로 더해버려 \n",
    "percent = count /sum(count) * 100 # 비율 구하기\n",
    "cumpct = np.cumsum(percent) #누적 비율 구하기 \n",
    "\n",
    "#DataFrame{(이름:값)} -> 새로 데이터 테이블 만들어줌\n",
    "count_data = pd.DataFrame({'Count':count, 'CumCnt':cumcnt, 'Percent':percent, 'CumPct':cumpct}) \n",
    "\n",
    "count_data"
   ]
  },
  {
   "cell_type": "markdown",
   "metadata": {},
   "source": [
    "# 정규분포 관련 코드 "
   ]
  },
  {
   "cell_type": "markdown",
   "metadata": {},
   "source": [
    "대충 평균, 표준편차 주어지고, 대상값 주어준 다음에 비율 뭐냐고 물어보는 문제 "
   ]
  },
  {
   "cell_type": "code",
   "execution_count": 7,
   "metadata": {},
   "outputs": [
    {
     "name": "stdout",
     "output_type": "stream",
     "text": [
      "35분 이상 걸리는 A/S 작업 비율 : 0.0%\n",
      "35분 이상 걸리는 A/S 작업 비율 : 0.0%\n"
     ]
    }
   ],
   "source": [
    "mu = 25.45\n",
    "sigma = 4.76\n",
    "x= 35\n",
    "\n",
    "#이거 확률 구하는 게 중요하다. 누적으로 해서 구해버림 -> 그리고 이상이라면 1-prob로 하고 이하면 그냥 그 값 쓰면되고\n",
    "prob = stats.t.cdf(x,mu,sigma) #대상,평균,표준편차\n",
    "print(\"{0}분 이상 걸리는 A/S 작업 비율 : {1:.1f}%\".format(x,(1-prob)*100))\n",
    "print(\"%s분 이상 걸리는 A/S 작업 비율 : %.1f\" %(x,(1-prob)*100)+\"%\")"
   ]
  },
  {
   "cell_type": "markdown",
   "metadata": {},
   "source": [
    "# t분포 관련코드"
   ]
  },
  {
   "cell_type": "code",
   "execution_count": 13,
   "metadata": {},
   "outputs": [
    {
     "name": "stdout",
     "output_type": "stream",
     "text": [
      "P(T<=F): 0.976\n"
     ]
    }
   ],
   "source": [
    "t = 2.0\n",
    "df = 100\n",
    "\n",
    "#이게 t분포에서 누적확률 구할때 쓰는건데 t분포의 t를 따서 사용하니까 무난한데 parameter가 t값(이건주어짐)이랑 자유도가 들어간다.\n",
    "prob = stats.t.cdf(t,df)\n",
    "\n",
    "print(\"P(T<=F): %.3f\"%(prob)) "
   ]
  },
  {
   "cell_type": "markdown",
   "metadata": {},
   "source": [
    "# 카이제곱 관련코드"
   ]
  },
  {
   "cell_type": "code",
   "execution_count": 15,
   "metadata": {},
   "outputs": [
    {
     "name": "stdout",
     "output_type": "stream",
     "text": [
      "P(X<=10) : 0.0002\n"
     ]
    }
   ],
   "source": [
    "chisq = 10\n",
    "df = 30\n",
    "\n",
    "#카이제곱값이랑 자유도 줌 역시 카이제곱은 chi2이니까 비슷.\n",
    "prob = stats.chi2.cdf(chisq,df)\n",
    "print(\"P(X<=%d) : %.4f\" %(chisq,prob))"
   ]
  },
  {
   "cell_type": "markdown",
   "metadata": {},
   "source": [
    "# F분포 관련코드"
   ]
  },
  {
   "cell_type": "code",
   "execution_count": 18,
   "metadata": {},
   "outputs": [
    {
     "name": "stdout",
     "output_type": "stream",
     "text": [
      "P(X<=F):0.904\n"
     ]
    }
   ],
   "source": [
    "f = 2.0\n",
    "dfnum = 15\n",
    "dfden = 15\n",
    "\n",
    "#f분포니까 f이고, 자유도 2개를 준다 f통계량값도 주고 확률 구하는거야 그 다음이니까 쉽지\n",
    "prob = stats.f.cdf(x=f, dfn = dfnum, dfd=dfden)\n",
    "print(\"P(X<=F):%.3f\" %(prob))"
   ]
  },
  {
   "cell_type": "markdown",
   "metadata": {},
   "source": [
    "# 이항분포 관련코드 "
   ]
  },
  {
   "cell_type": "code",
   "execution_count": 5,
   "metadata": {},
   "outputs": [
    {
     "name": "stdout",
     "output_type": "stream",
     "text": [
      "P(X=0) = 0.774\n",
      "P(X=1) = 0.204\n",
      "P(X=2) = 0.021\n",
      "P(X=3) = 0.001\n",
      "P(X=4) = 0.000\n",
      "P(X=5) = 0.000\n",
      "0.02200000000000002\n"
     ]
    }
   ],
   "source": [
    "n = 5\n",
    "for i in range(n+1):\n",
    "    \n",
    "    \n",
    "    #bi=2항 nom=분포 => 이항분포 (대상, 총개수, 확률)\n",
    "    prob = stats.binom.pmf(k=i, n=n, p=0.05)\n",
    "    prob1 = stats.binom.pmf(k=i, n=n, p=0.6)\n",
    "    print(\"P(X=%d) = %.3f\" %(i, prob))\n",
    "\n",
    "print(1-0.978)\n",
    "    \n",
    "#     print(\"P1(X=%d) = %.3f\" %(i, prob))"
   ]
  },
  {
   "cell_type": "markdown",
   "metadata": {},
   "source": [
    "# 포아송분포 관련코드"
   ]
  },
  {
   "cell_type": "code",
   "execution_count": 23,
   "metadata": {},
   "outputs": [
    {
     "name": "stdout",
     "output_type": "stream",
     "text": [
      "1분당 2번의 전화가 걸어올 확률 : 27.1%\n",
      "1분당 2번 이하의 전화가 걸어올 확률 : 67.7%\n",
      "1분당 2번 이상의 전화가 걸어올 확률 : 59.4%\n",
      "1분당 2번 초과의 전화가 걸어올 확률 : 32.3%\n"
     ]
    }
   ],
   "source": [
    "mu = 2\n",
    "\n",
    "#포아송(대상 ,평균)\n",
    "prob= stats.poisson.pmf(2,mu)\n",
    "cdf_prob = stats.poisson.cdf(2,mu)\n",
    "print(\"1분당 %d번의 전화가 걸어올 확률 : %.1f\" %(mu, prob*100)+\"%\")\n",
    "print(\"1분당 %d번 이하의 전화가 걸어올 확률 : %.1f\" %(2, cdf_prob*100)+\"%\")\n",
    "print(\"1분당 %d번 이상의 전화가 걸어올 확률 : %.1f\" %(2, (1-cdf_prob+prob)*100)+\"%\")\n",
    "print(\"1분당 %d번 초과의 전화가 걸어올 확률 : %.1f\" %(2, (1-cdf_prob)*100)+\"%\")"
   ]
  },
  {
   "cell_type": "markdown",
   "metadata": {},
   "source": [
    "# 정규성 검정"
   ]
  },
  {
   "cell_type": "code",
   "execution_count": 25,
   "metadata": {},
   "outputs": [
    {
     "data": {
      "text/plain": [
       "(0.9788156747817993, 0.10744144767522812)"
      ]
     },
     "execution_count": 25,
     "metadata": {},
     "output_type": "execute_result"
    }
   ],
   "source": [
    "from scipy.stats import shapiro\n",
    "\n",
    "camshaft = pd.read_csv(\"camshaft.csv\", engine=\"python\")\n",
    "camshaft.head() \n",
    "data = camshaft['Supp1']\n",
    "shapiro(data)\n",
    "\n",
    "#여기보면 shapiro를 통해 정규성을 검정했을 때 p값이 0.05보다 크니까 안정권에 들어온건 맞지? -> 그니까 정규분포를 따른다 이말이야/\n",
    "#p-value가 유의수준보다 커야 의미가 있음."
   ]
  },
  {
   "cell_type": "markdown",
   "metadata": {},
   "source": [
    "# 모평균추정(모표준편차 아는경우)"
   ]
  },
  {
   "cell_type": "code",
   "execution_count": 26,
   "metadata": {},
   "outputs": [
    {
     "name": "stdout",
     "output_type": "stream",
     "text": [
      "신뢰구간 : 2.571971, 2.818029\n"
     ]
    }
   ],
   "source": [
    "df = pd.DataFrame({\"sample\": [3.6,2.9,2.8,2.6,3.4,3.2,2.2,2.6,2.6,2.4\n",
    "                              ,2.4,2.6,3.4,2.4,2.1,2.6,3.0,2.4,2.7,2.4\n",
    "                              ,2.6,2.9,2.9,2.0,2.7,2.2,2.8,2.7,1.8,2.5\n",
    "                              ,3.0,3.2,2.8,2.6,3.2,3.1,2.9,2.7,2.7,2.2]})\n",
    "df.head()\n",
    "\n",
    "#모표준편차 아니까 norm이겠지? -> 신뢰수준, loc=평균, scale=표준편차\n",
    "lower, upper = stats.norm.interval(0.95, loc=np.mean(df), scale =0.397/np.sqrt(40))\n",
    "print(\"신뢰구간 : %f, %f\" %(lower, upper))"
   ]
  },
  {
   "cell_type": "markdown",
   "metadata": {},
   "source": []
  },
  {
   "cell_type": "code",
   "execution_count": null,
   "metadata": {},
   "outputs": [],
   "source": []
  },
  {
   "cell_type": "markdown",
   "metadata": {},
   "source": [
    "# 모평균추정(모표준편차 모르는경우)"
   ]
  },
  {
   "cell_type": "code",
   "execution_count": 29,
   "metadata": {},
   "outputs": [
    {
     "name": "stdout",
     "output_type": "stream",
     "text": [
      "신뢰구간 : 54.39, 55.33\n"
     ]
    }
   ],
   "source": [
    "df =pd.DataFrame({\"sample\":[54.1,53.3,56.1,55.7,54.0,54.1,54.5,57.1,55.2,53.8\n",
    "                           ,54.1,54.1,56.1,55.0,55.9,56.0,54.9,54.3,53.9,55.0]})\n",
    "\n",
    "#표본표준편차라고 함. 표본이니까 sample이다 기억해~!\n",
    "#아까 모표준편차 모르면 t분포 쓴다고했지? 그걸로 가는건데, 이건 이제 자유도가 하나 들어가야해, scale=scipy.stats.sem(df) 쓰는거지\n",
    "lower, upper = stats.t.interval(0.95, len(df)-1, loc=np.mean(df), scale=scipy.stats.sem(df))\n",
    "print(\"신뢰구간 : %.2f, %.2f\" %(lower,upper))"
   ]
  },
  {
   "cell_type": "markdown",
   "metadata": {},
   "source": [
    "# 평균검정할때(1 sample t-test)\n"
   ]
  },
  {
   "cell_type": "code",
   "execution_count": 34,
   "metadata": {},
   "outputs": [
    {
     "name": "stdout",
     "output_type": "stream",
     "text": [
      "(0.8473219275474548, 0.053975414484739304)\n",
      "1-sample t-test \n",
      "t통계량 3.379000\n",
      "p-value 0.008000\n",
      "\n",
      "shapiro함수를 통해 정규성을 검사한 결과 검정통계량이 약 0.054로 0.05보다 높으므로 정규성을 만족한다고 볼 수 있다.\n",
      "\n",
      "1. 가설수립\n",
      "귀무가설(HO):mu = 78.0\n",
      "대립가설(H1):mu != 78.0\n",
      "유의수준(a) = 0.05\n",
      "\n",
      "2. 가설검정수행\n",
      "a = 0.05수준에서 귀무가설을 기각하기 위해서 요구되는 최소한의 t값(임계값)\n",
      "t(0.025,9) = 2.262157\n",
      "\n",
      "3. 검정결과판단\n",
      "p-value가 유의수준 0.05보다 작고, t통계량(검정통계량)이 임계값보다 크므로 귀무가설 H0을 기각하고 대립가설 H1를 채택한다.\n",
      "즉 과제 수행자의 개선활동이 고객만족도를 변화시켰다고 볼 수 있다.\n"
     ]
    }
   ],
   "source": [
    "df = pd.DataFrame({\"sample\" :[85.0,79.0,79.1,79.9,81.6,78.6,85.4,83.4,78.1,79.2]})\n",
    "\n",
    "#우선 1 sample t-test 진행해서 t값이랑 p값 구함\n",
    "t_result = stats.ttest_1samp(df,78.0)\n",
    "\n",
    "#그 값을 바탕으로 임계값 구하는데 이건 양측검정이니까 유의수준 반으로 나누고, 자유도 넣어줌\n",
    "z = stats.t.ppf(0.975,9)\n",
    "\n",
    "t,p = t_result.statistic.round(3), t_result.pvalue.round(3)\n",
    "\n",
    "print(shapiro(df))\n",
    "print(\"1-sample t-test \")\n",
    "print(\"t통계량 %f\" %(t))\n",
    "print(\"p-value %f\" %(p))\n",
    "print()\n",
    "print(\"shapiro함수를 통해 정규성을 검사한 결과 검정통계량이 약 0.054로 0.05보다 높으므로 정규성을 만족한다고 볼 수 있다.\")\n",
    "print()\n",
    "print(\"1. 가설수립\")\n",
    "print(\"귀무가설(HO):mu = 78.0\")\n",
    "print(\"대립가설(H1):mu != 78.0\")\n",
    "print(\"유의수준(a) = 0.05\")\n",
    "print()\n",
    "print(\"2. 가설검정수행\")\n",
    "print(\"a = 0.05수준에서 귀무가설을 기각하기 위해서 요구되는 최소한의 t값(임계값)\\nt(0.025,9) = %f\" %(z))\n",
    "print()\n",
    "print(\"3. 검정결과판단\")\n",
    "print(\"p-value가 유의수준 0.05보다 작고, t통계량(검정통계량)이 임계값보다 크므로 귀무가설 H0을 기각하고 대립가설 H1를 채택한다.\\n\\\n",
    "즉 과제 수행자의 개선활동이 고객만족도를 변화시켰다고 볼 수 있다.\")"
   ]
  },
  {
   "cell_type": "markdown",
   "metadata": {},
   "source": [
    "# 모분산 신뢰구간추정"
   ]
  },
  {
   "cell_type": "code",
   "execution_count": 30,
   "metadata": {},
   "outputs": [
    {
     "name": "stdout",
     "output_type": "stream",
     "text": [
      "신뢰구간 : 0.05, 0.07\n"
     ]
    }
   ],
   "source": [
    "prop1 = stats.norm.ppf(0.95,0,1) #Z,a/2\n",
    "prop1\n",
    "\n",
    "sample = 1600\n",
    "target = 96\n",
    "p = target/sample\n",
    "lower,upper = p-np.sqrt(prop1*(p*(1-p)/sample)), p+np.sqrt(prop1*(p*(1-p)/sample))\n",
    "print(\"신뢰구간 : %.2f, %.2f\" %(lower,upper))"
   ]
  },
  {
   "cell_type": "markdown",
   "metadata": {},
   "source": [
    "# 카이제곱 쓰는거 "
   ]
  },
  {
   "cell_type": "code",
   "execution_count": 31,
   "metadata": {},
   "outputs": [
    {
     "name": "stdout",
     "output_type": "stream",
     "text": [
      "신뢰구간 : 10.85, 24.15\n"
     ]
    }
   ],
   "source": [
    "df =pd.DataFrame({\"sample\":[12,9,10,5,16\n",
    "                           ,13,5,9,8,13\n",
    "                           ,16,12,12,4,14\n",
    "                           ,9,11,14,9,17\n",
    "                           ,5,8,9,6,11\n",
    "                           ,19,6,6,8,9\n",
    "                           ,13,10,8,13,19\n",
    "                           ,8,12,14,16,16\n",
    "                           ,11,17,5,9,12\n",
    "                           ,17,11,8,5,8]})\n",
    "\n",
    "prop1 = stats.chi2.ppf(0.975, 49)\n",
    "prop2 = stats.chi2.ppf(0.025, 49) #카이제곱 임계값 구하는거\n",
    "\n",
    "s = np.var(df['sample']) \n",
    "lower, upper = ((len(df)-1) * s) / prop1, ((len(df)-1)*s)/prop2\n",
    "print(\"신뢰구간 : %.2f, %.2f\" %(lower,upper)) #과제\n",
    "\n"
   ]
  },
  {
   "cell_type": "markdown",
   "metadata": {},
   "source": [
    "# 카이제곱검정"
   ]
  },
  {
   "cell_type": "code",
   "execution_count": 15,
   "metadata": {},
   "outputs": [
    {
     "name": "stdout",
     "output_type": "stream",
     "text": [
      "43.77297182574219\n",
      "7.878211595034106\n",
      "0.019465613164995288\n",
      "2\n",
      "[[200.928 209.898 187.174]\n",
      " [135.072 141.102 125.826]]\n"
     ]
    },
    {
     "data": {
      "text/plain": [
       "'\\n카이제곱 통계량은 98, 임계값은 43이며 p값이 0.05보다 작으니까 귀무가설 기각하고, 대립가설 채택임\\n\\n'"
      ]
     },
     "execution_count": 15,
     "metadata": {},
     "output_type": "execute_result"
    }
   ],
   "source": [
    "df = pd.DataFrame({\"A\":[182,154], \"B\":[213,138], \"C\":[203,110]\n",
    "                  })\n",
    "\n",
    "#카이제곱검정\n",
    "chi2, p, f, ex = stats.chi2_contingency(df)\n",
    "\n",
    "#임계값은 단측검정이라 0.975가 아니라 0.95임 30은 자유도 결과값에서 나온거 넣음\n",
    "\n",
    "th = stats.chi2.ppf(0.95,30)\n",
    "print(th)\n",
    "print(chi2)\n",
    "print(p)\n",
    "print(f)\n",
    "print(ex)\n",
    "\n",
    "\"\"\"\n",
    "카이제곱 통계량은 98, 임계값은 43이며 p값이 0.05보다 작으니까 귀무가설 기각하고, 대립가설 채택임\n",
    "\n",
    "\"\"\""
   ]
  },
  {
   "cell_type": "markdown",
   "metadata": {},
   "source": [
    "# ANOVA 검정"
   ]
  },
  {
   "cell_type": "code",
   "execution_count": 43,
   "metadata": {},
   "outputs": [
    {
     "name": "stdout",
     "output_type": "stream",
     "text": [
      "gangjong     a     b     c     d\n",
      "charge                          \n",
      "A         32.2  33.1  32.6  26.7\n",
      "B         30.4  29.9  32.7  28.5\n",
      "C         33.6  31.7  29.3  30.9\n",
      "D         36.4  27.5  25.9  26.2\n",
      "E         33.9  34.0  31.1  32.3\n",
      "F         34.9  30.7  23.8  23.7\n",
      "One-way\n",
      "F 통계량 : 4.172000\n",
      "p-value: 0.019000\n",
      "\n",
      "1. 가설수립\n",
      "귀무가설(HO):강종별 2차정련 시간에 차이가 없다.\n",
      "대립가설(H1):적어도 2개이상의 강종별 2차정련 시간에 차이가 있다.\n",
      "유의수준(a) = 0.05\n",
      "\n",
      "2. 가설검정수행\n",
      "유의수준 5%에서 검정결과 p-value값이 0.05보다 작은 0.019이므로 귀무가설을 기각한다.\n",
      "\n",
      "3. 검정결과판단\n",
      "귀무가설 H0을 기각하고 대립가설 H1를 채택한다.\n",
      " 즉 적어도 2개이상의 강종별 2차정련 시간에 차이가 있다고 볼 수 있다.\n"
     ]
    }
   ],
   "source": [
    "fe = pd.read_csv(\"ANOVA.csv\", engine=\"python\")\n",
    "fe_remake = pd.pivot_table(fe,index = 'charge', values = 'time', columns='gangjong')\n",
    "print(fe_remake)\n",
    "\n",
    "fe_result = stats.f_oneway(fe_remake['a'], fe_remake['b'],fe_remake['c'],fe_remake['d'])\n",
    "f, p = fe_result.statistic.round(3), fe_result.pvalue.round(3)\n",
    "\n",
    "\n",
    "print(\"One-way\")\n",
    "print(\"F 통계량 : %f\" %f)\n",
    "print(\"p-value: %f\" %p)\n",
    "print()\n",
    "print(\"1. 가설수립\")\n",
    "print(\"귀무가설(HO):강종별 2차정련 시간에 차이가 없다.\")\n",
    "print(\"대립가설(H1):적어도 2개이상의 강종별 2차정련 시간에 차이가 있다.\")\n",
    "print(\"유의수준(a) = 0.05\")\n",
    "print()\n",
    "print(\"2. 가설검정수행\")\n",
    "print(\"유의수준 5%에서 검정결과 p-value값이 0.05보다 작은 0.019이므로 귀무가설을 기각한다.\")\n",
    "print()\n",
    "print(\"3. 검정결과판단\")\n",
    "print(\"귀무가설 H0을 기각하고 대립가설 H1를 채택한다.\\n 즉 적어도 2개이상의 강종별 2차정련 시간에 차이가 있다고 볼 수 있다.\")\n",
    "\n"
   ]
  },
  {
   "cell_type": "markdown",
   "metadata": {},
   "source": [
    "\n",
    "\n",
    "# 2sample t-test"
   ]
  },
  {
   "cell_type": "code",
   "execution_count": 36,
   "metadata": {},
   "outputs": [
    {
     "name": "stdout",
     "output_type": "stream",
     "text": [
      "(0.9094840288162231, 0.06230909377336502)\n",
      "(0.8978105783462524, 0.03752673789858818)\n",
      "LeveneResult(statistic=0.04810126582278468, pvalue=0.8275746090758196)\n",
      "[-3.12230485] [0.00342365] -2.0930240544082634\n"
     ]
    }
   ],
   "source": [
    "\"\"\"\n",
    "2sample 순서\n",
    "1. 정규성 검정(shapiro를 이용해서)\n",
    "2. 등분산성 검정 (stats.levene(대상1, 대상2)) 하고 만족여부에 따라 equal_var값이 True or False가 될 수 있음\n",
    "3. 2sample 검정 시작 -> stats.ttest_ind(대상1,대상2,equal_var)\n",
    "4. 프린트해서 값 확인한 후 임계값 설정(stats.t.ppf)\n",
    "5. 검정통계량이랑 임계값 비교\n",
    "\"\"\"\n",
    "\n",
    "+"
   ]
  },
  {
   "cell_type": "markdown",
   "metadata": {},
   "source": [
    "# paired t-test"
   ]
  },
  {
   "cell_type": "code",
   "execution_count": 38,
   "metadata": {},
   "outputs": [
    {
     "name": "stdout",
     "output_type": "stream",
     "text": [
      "[-2.26606522] [0.04968162]\n",
      "-2.262157162740992\n"
     ]
    }
   ],
   "source": [
    "dfb = pd.DataFrame({\"before\" : [720,589,780,648,720,589,780,648,780,648]})\n",
    "dfa = pd.DataFrame({\"after\" : [710,580,787,712,750,600,782,670,790,680]})\n",
    "\n",
    "#paired ttest는 정규성 검정 안해도됨\n",
    "#t값이 음수가 나오면 더 안좋아진거고, 양수가 나오면 더 좋아진거\n",
    "\n",
    "t_result = stats.ttest_rel(dfb,dfa)\n",
    "t, p = t_result.statistic, t_result.pvalue\n",
    "print(t,p)\n",
    "th = stats.t.ppf(0.025,9)\n",
    "print(th)"
   ]
  },
  {
   "cell_type": "markdown",
   "metadata": {},
   "source": [
    "# 1proportion test"
   ]
  },
  {
   "cell_type": "code",
   "execution_count": 39,
   "metadata": {},
   "outputs": [
    {
     "name": "stdout",
     "output_type": "stream",
     "text": [
      "1.4002800840280094 0.16142946236708322 1.959963984540054\n"
     ]
    }
   ],
   "source": [
    "count = 15\n",
    "n = 100\n",
    "p = 0.1\n",
    "\n",
    "#얘네는 ztest쓰는데 원래 비율과 비교도 함 그리고 z니까 임계값도 norm.ppf 써서 구한다 이말이지\n",
    "stat,p = proportions_ztest(count, n, p)\n",
    "th = stats.norm.ppf(0.975)\n",
    "print(stat, p,th)"
   ]
  },
  {
   "cell_type": "markdown",
   "metadata": {},
   "source": [
    "# 2proportion test"
   ]
  },
  {
   "cell_type": "code",
   "execution_count": 40,
   "metadata": {},
   "outputs": [
    {
     "name": "stdout",
     "output_type": "stream",
     "text": [
      "1.553109404737079 0.12039699966295712\n",
      "1.959963984540054\n"
     ]
    }
   ],
   "source": [
    "count = np.array([4,1]) #여기서 np.array로 짝지어줌\n",
    "n = np.array([1000,1200]) # 시도횟수도 그렇게\n",
    "stat, p = proportions_ztest(count, n) #검정 진행 \n",
    "print(stat,p)\n",
    "th = stats.norm.ppf(0.975)\n",
    "print(th)"
   ]
  },
  {
   "cell_type": "markdown",
   "metadata": {},
   "source": [
    "# 상관분석"
   ]
  },
  {
   "cell_type": "code",
   "execution_count": 45,
   "metadata": {},
   "outputs": [
    {
     "name": "stdout",
     "output_type": "stream",
     "text": [
      "Correlation Analysis \n",
      "corr :-0.723107\n",
      "p-value :0.000315\n",
      "\n",
      "1. 가설수립\n",
      "귀무가설(HO):초코칩의 강도와 재료 반죽온도간의 상관계수는 0이다.\n",
      "대립가설(H1):초코칩의 강도와 재료 반죽온도간의 상관계수가 0이 아니다.\n",
      "\n",
      "2. 가설검정수행\n",
      "검정결과 p-value값이 0.05보다 작은 0.000315이므로 귀무가설을 기각한다.\n",
      "\n",
      "3. 검정결과판단\n",
      "귀무가설 H0을 기각하고 대립가설 H1를 채택한다.\n",
      " 즉 초코칩의 강도와 재료 반죽 온도간의 상관계수는 0이 아니며, 서로 음의 상관 관계를 가진다.\n"
     ]
    }
   ],
   "source": [
    "strength = [37.6,38.6,37.2,36.4,38.6,39,37.2,36.1,35.9,37.1,\n",
    "            36.9,37.5,36.3,38.1,39,36.9,36.8,37.6,33,33.5]\n",
    "temper = [14,15,14,16,17,14,17,16,15,16,14,16,18,13,15,17,14,16,20,21]\n",
    "\n",
    "\n",
    "#stats.pearsonr쓰면 상관관계 분석가능 \n",
    "corr, pval = stats.pearsonr(strength, temper)\n",
    "\n",
    "print(\"Correlation Analysis \")\n",
    "print(\"corr :%f\" %corr)\n",
    "print(\"p-value :%f\" %pval)\n",
    "print()\n",
    "print(\"1. 가설수립\")\n",
    "print(\"귀무가설(HO):초코칩의 강도와 재료 반죽온도간의 상관계수는 0이다.\")\n",
    "print(\"대립가설(H1):초코칩의 강도와 재료 반죽온도간의 상관계수가 0이 아니다.\")\n",
    "print()\n",
    "print(\"2. 가설검정수행\")\n",
    "print(\"검정결과 p-value값이 0.05보다 작은 0.000315이므로 귀무가설을 기각한다.\")\n",
    "print()\n",
    "print(\"3. 검정결과판단\")\n",
    "print(\"귀무가설 H0을 기각하고 대립가설 H1를 채택한다.\\n 즉 초코칩의 강도와 재료 반죽 온도간의 상관계수는 0이 아니며, 서로 음의 상관 관계를 가진다.\")\n",
    "\n"
   ]
  },
  {
   "cell_type": "markdown",
   "metadata": {},
   "source": [
    "# 회귀분석"
   ]
  },
  {
   "cell_type": "code",
   "execution_count": 13,
   "metadata": {},
   "outputs": [
    {
     "name": "stdout",
     "output_type": "stream",
     "text": [
      "                            OLS Regression Results                            \n",
      "==============================================================================\n",
      "Dep. Variable:                      y   R-squared:                       0.257\n",
      "Model:                            OLS   Adj. R-squared:                  0.108\n",
      "Method:                 Least Squares   F-statistic:                     1.729\n",
      "Date:                Fri, 31 Jan 2020   Prob (F-statistic):              0.246\n",
      "Time:                        17:57:44   Log-Likelihood:                -6.3003\n",
      "No. Observations:                   7   AIC:                             16.60\n",
      "Df Residuals:                       5   BIC:                             16.49\n",
      "Df Model:                           1                                         \n",
      "Covariance Type:            nonrobust                                         \n",
      "==============================================================================\n",
      "                 coef    std err          t      P>|t|      [0.025      0.975]\n",
      "------------------------------------------------------------------------------\n",
      "const          1.7571      0.266      6.602      0.001       1.073       2.441\n",
      "x1             0.1750      0.133      1.315      0.246      -0.167       0.517\n",
      "==============================================================================\n",
      "Omnibus:                          nan   Durbin-Watson:                   0.778\n",
      "Prob(Omnibus):                    nan   Jarque-Bera (JB):                0.673\n",
      "Skew:                          -0.209   Prob(JB):                        0.714\n",
      "Kurtosis:                       1.539   Cond. No.                         2.00\n",
      "==============================================================================\n",
      "\n",
      "Warnings:\n",
      "[1] Standard Errors assume that the covariance matrix of the errors is correctly specified.\n",
      "\n",
      "결론 : 회귀식은 strength = 13.0013 + 30.8722*baking time\n",
      " 설명력은 R-Sq = 64.6%이다.\n",
      "\n",
      "1. 가설수립\n",
      "귀무가설(HO):초코칩의 강도와 굽는 시간과의 인과관계는 없다.\n",
      "대립가설(H1):초코칩의 강도와 굽는 시간과의 인과관계가 있다.\n",
      "\n",
      "2. 가설검정수행\n",
      "검정결과 p-value값이 0.05보다 작으므로 귀무가설을 기각한다.\n",
      "\n",
      "3. 검정결과판단\n",
      "귀무가설 H0을 기각하고 대립가설 H1를 채택한다.\n",
      " 즉 초코칩의 강도와 재료 반죽 온도간의 인과관계가 존재한다.\n"
     ]
    },
    {
     "name": "stderr",
     "output_type": "stream",
     "text": [
      "/home/pirl/anaconda3/lib/python3.7/site-packages/statsmodels/stats/stattools.py:71: ValueWarning: omni_normtest is not valid with less than 8 observations; 7 samples were given.\n",
      "  \"samples were given.\" % int(n), ValueWarning)\n"
     ]
    }
   ],
   "source": [
    "streng = [0.4,1.3,2.2,2.5,2.4,2.0,1.5]\n",
    "bake_time = [-3,-2,-1,0,1,2,3]\n",
    "\n",
    "#이걸로 절편구하는건데, X값 넣어주는거다.\n",
    "bake_time = sm.add_constant(bake_time)\n",
    "\n",
    "#Y, X순으로 parameter입력\n",
    "model = sm.OLS(streng, bake_time)\n",
    "result = model.fit()\n",
    "print(result.summary())\n",
    "print()\n",
    "print(\"결론 : 회귀식은 strength = 13.0013 + 30.8722*baking time\\n 설명력은 R-Sq = 64.6%이다.\")\n",
    "print()\n",
    "print(\"1. 가설수립\")\n",
    "print(\"귀무가설(HO):초코칩의 강도와 굽는 시간과의 인과관계는 없다.\")\n",
    "print(\"대립가설(H1):초코칩의 강도와 굽는 시간과의 인과관계가 있다.\")\n",
    "print()\n",
    "print(\"2. 가설검정수행\")\n",
    "print(\"검정결과 p-value값이 0.05보다 작으므로 귀무가설을 기각한다.\")\n",
    "print()\n",
    "print(\"3. 검정결과판단\")\n",
    "print(\"귀무가설 H0을 기각하고 대립가설 H1를 채택한다.\\n 즉 초코칩의 강도와 재료 반죽 온도간의 인과관계가 존재한다.\")"
   ]
  },
  {
   "cell_type": "code",
   "execution_count": 48,
   "metadata": {},
   "outputs": [
    {
     "name": "stdout",
     "output_type": "stream",
     "text": [
      "등분산성 검정\n",
      "표준화된 잔차들을 이용하여 변수들의 산점도를 그려보면, 이들 잔차들이 0을 중심으로 랜덤하게는 보이나, 대칭적이지 않다. 그러므로 등분산성을 만족한다고 볼 수 없다.\n"
     ]
    },
    {
     "data": {
      "image/png": "[encoded data removed]",
      "text/plain": [
       "<Figure size 432x288 with 1 Axes>"
      ]
     },
     "metadata": {
      "needs_background": "light"
     },
     "output_type": "display_data"
    }
   ],
   "source": [
    "\"\"\"\n",
    "잔차검증은 정규성, 등분산성, 독립성 이렇게 3개를 확인해야함 \n",
    "그래서 정규성은 shapiro쓰고 0.05넘는지 확인\n",
    "독립성은 \n",
    "Durbin - Watson값 확인할껀데 이게 0에가까우면 양의 상관관계, 2에 가까우면 아무상관x, 4에 가까우면 음의 상관관계를 지님 -> 독립성이 있다는건 상관관계를 지니지 않는다는것\n",
    "\"\"\"\n",
    "\n",
    "print(\"등분산성 검정\")\n",
    "plt.scatter(result.fittedvalues,result.resid)\n",
    "plt.xlabel(\"fitted value\")\n",
    "plt.ylabel(\"residual\")\n",
    "plt.axhline(y=0, linestyle=\"--\")\n",
    "print(\"표준화된 잔차들을 이용하여 변수들의 산점도를 그려보면, 이들 잔차들이 0을 중심으로 랜덤하게는 보이나, 대칭적이지 않다. 그러므로 등분산성을 만족한다고 볼 수 없다.\")"
   ]
  },
  {
   "cell_type": "code",
   "execution_count": 14,
   "metadata": {},
   "outputs": [
    {
     "data": {
      "text/plain": [
       "(0.8914536833763123, 0.28233224153518677)"
      ]
     },
     "execution_count": 14,
     "metadata": {},
     "output_type": "execute_result"
    }
   ],
   "source": [
    "shapiro(result.resid)\n"
   ]
  },
  {
   "cell_type": "code",
   "execution_count": null,
   "metadata": {},
   "outputs": [],
   "source": []
  }
 ],
 "metadata": {
  "kernelspec": {
   "display_name": "Python 3",
   "language": "python",
   "name": "python3"
  },
  "language_info": {
   "codemirror_mode": {
    "name": "ipython",
    "version": 3
   },
   "file_extension": ".py",
   "mimetype": "text/x-python",
   "name": "python",
   "nbconvert_exporter": "python",
   "pygments_lexer": "ipython3",
   "version": "3.7.4"
  }
 },
 "nbformat": 4,
 "nbformat_minor": 2
}
