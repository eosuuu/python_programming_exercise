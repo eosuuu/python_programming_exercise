{
 "cells": [
  {
   "cell_type": "markdown",
   "metadata": {},
   "source": [
    "범주형 -> 범주로 나는 자료 <br>\n",
    "명목형 -> 그냥 단순하게 분류한거 <br>\n",
    "순서형 -> 1등, 2등, 3등처럼 자기들끼리 뭔가 순서가 존재하는거 <br>\n",
    "\n",
    "수치형 -> 이산 + 연속<br>\n",
    "이산 : 이산적인 값 = 횟수, 셀수있는거 ,빈도<br>\n",
    "연속 : 연속적인값 신장,체중 같은거<br>"
   ]
  },
  {
   "cell_type": "code",
   "execution_count": null,
   "metadata": {},
   "outputs": [],
   "source": []
  }
 ],
 "metadata": {
  "kernelspec": {
   "display_name": "Python 3",
   "language": "python",
   "name": "python3"
  },
  "language_info": {
   "codemirror_mode": {
    "name": "ipython",
    "version": 3
   },
   "file_extension": ".py",
   "mimetype": "text/x-python",
   "name": "python",
   "nbconvert_exporter": "python",
   "pygments_lexer": "ipython3",
   "version": "3.7.4"
  }
 },
 "nbformat": 4,
 "nbformat_minor": 2
}
