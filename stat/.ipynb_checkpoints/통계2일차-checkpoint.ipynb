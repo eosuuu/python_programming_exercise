{
 "cells": [
  {
   "cell_type": "code",
   "execution_count": 3,
   "metadata": {},
   "outputs": [],
   "source": [
    "import numpy as np\n",
    "from scipy import stats\n",
    "import scipy.stats\n",
    "import pandas as pd\n",
    "import statsmodels.api as sm\n",
    "import matplotlib.pyplot as plt\n",
    "import seaborn as sns\n",
    "from statsmodels.stats.proportion import proportions_ztest\n",
    "import matplotlib\n",
    "import matplotlib.font_manager as fm\n"
   ]
  },
  {
   "cell_type": "code",
   "execution_count": 7,
   "metadata": {},
   "outputs": [
    {
     "name": "stdout",
     "output_type": "stream",
     "text": [
      "P(X=0) = 0.216\n",
      "P1(X=0) = 0.216\n",
      "P(X=1) = 0.432\n",
      "P1(X=1) = 0.432\n",
      "P(X=2) = 0.288\n",
      "P1(X=2) = 0.288\n",
      "P(X=3) = 0.064\n",
      "P1(X=3) = 0.064\n"
     ]
    }
   ],
   "source": [
    "n = 3\n",
    "for i in range(n+1):\n",
    "    prob = stats.binom.pmf(k=i, n=n, p=0.4)\n",
    "    prob1 = stats.binom.pmf(k=i, n=n, p=0.6)\n",
    "    print(\"P(X=%d) = %.3f\" %(i, prob))\n",
    "    print(\"P1(X=%d) = %.3f\" %(i, prob))"
   ]
  },
  {
   "cell_type": "code",
   "execution_count": 8,
   "metadata": {},
   "outputs": [
    {
     "name": "stdout",
     "output_type": "stream",
     "text": [
      "P(X=0) = 0.168\n",
      "P(X=1) = 0.360\n",
      "P(X=2) = 0.309\n",
      "P(X=3) = 0.132\n",
      "P(X=4) = 0.028\n",
      "P(X=5) = 0.002\n"
     ]
    }
   ],
   "source": [
    "n = 5\n",
    "for i in range(n+1):\n",
    "    prob = stats.binom.pmf(k=i, n=n, p=0.3)\n",
    "    print(\"P(X=%d) = %.3f\" %(i, prob))\n"
   ]
  },
  {
   "cell_type": "code",
   "execution_count": 20,
   "metadata": {},
   "outputs": [
    {
     "name": "stdout",
     "output_type": "stream",
     "text": [
      "1분당 2번의 전화가 걸어올 확률 : 27.1%\n",
      "1분당 2번 이하의 전화가 걸어올 확률 : 67.7%\n",
      "1분당 2번 이상의 전화가 걸어올 확률 : 59.4%\n",
      "1분당 2번 초과의 전화가 걸어올 확률 : 32.3%\n"
     ]
    }
   ],
   "source": [
    "mu = 2\n",
    "prob= stats.poisson.pmf(2,mu)\n",
    "cdf_prob = stats.poisson.cdf(2,mu)\n",
    "print(\"1분당 %d번의 전화가 걸어올 확률 : %.1f\" %(mu, prob*100)+\"%\")\n",
    "print(\"1분당 %d번 이하의 전화가 걸어올 확률 : %.1f\" %(2, cdf_prob*100)+\"%\")\n",
    "print(\"1분당 %d번 이상의 전화가 걸어올 확률 : %.1f\" %(2, (1-cdf_prob+prob)*100)+\"%\")\n",
    "print(\"1분당 %d번 초과의 전화가 걸어올 확률 : %.1f\" %(2, (1-cdf_prob)*100)+\"%\")"
   ]
  },
  {
   "cell_type": "code",
   "execution_count": 23,
   "metadata": {},
   "outputs": [
    {
     "name": "stdout",
     "output_type": "stream",
     "text": [
      "2명의 손님이 도착 : 22.4%\n",
      "1명 이하의 손님이 도착 : 19.9%\n",
      "3명 이상의 손님이 도착 : 57.7%\n"
     ]
    }
   ],
   "source": [
    "mu = 3\n",
    "prob= stats.poisson.pmf(2,mu)\n",
    "prob2 = stats.poisson.pmf(3,mu)\n",
    "cdf_prob = stats.poisson.cdf(1,mu)\n",
    "cdf_prob2 = stats.poisson.cdf(3,mu)\n",
    "\n",
    "print(\"2명의 손님이 도착 : %.1f\" %(prob*100)+\"%\")\n",
    "print(\"1명 이하의 손님이 도착 : %.1f\" %(cdf_prob*100)+\"%\")\n",
    "print(\"3명 이상의 손님이 도착 : %.1f\" %((1-cdf_prob2 + prob2)*100)+\"%\")"
   ]
  },
  {
   "cell_type": "code",
   "execution_count": 47,
   "metadata": {},
   "outputs": [
    {
     "data": {
      "text/plain": [
       "(0.9788156747817993, 0.10744144767522812)"
      ]
     },
     "execution_count": 47,
     "metadata": {},
     "output_type": "execute_result"
    }
   ],
   "source": [
    "from scipy.stats import shapiro\n",
    "\n",
    "camshaft = pd.read_csv(\"camshaft.csv\", engine=\"python\")\n",
    "camshaft.head()\n",
    "data = camshaft['Supp1']\n",
    "shapiro(data)"
   ]
  },
  {
   "cell_type": "code",
   "execution_count": 58,
   "metadata": {},
   "outputs": [
    {
     "name": "stdout",
     "output_type": "stream",
     "text": [
      "mat_a:  (0.9062636494636536, 0.2562994360923767)\n",
      "mat_b:  (0.9729753732681274, 0.9169777035713196)\n"
     ]
    }
   ],
   "source": [
    "mat = pd.read_csv(\"2sample_t_test.csv\", engine=\"python\")\n",
    "mat = mat.dropna(axis=0)\n",
    "data = []\n",
    "data_a = mat['Mat_A']\n",
    "data_b = mat['Mat_B']\n",
    "# data_a = mat['Mat_A'][:10]\n",
    "# data_b = mat['Mat_B'][:10]\n",
    "data.append(shapiro(data_a))\n",
    "data.append(shapiro(data_b))\n",
    "print(\"mat_a: \" ,data[0])\n",
    "print(\"mat_b: \", data[1])"
   ]
  },
  {
   "cell_type": "code",
   "execution_count": 62,
   "metadata": {},
   "outputs": [
    {
     "name": "stdout",
     "output_type": "stream",
     "text": [
      "신뢰구간 : 2.571971, 2.818029\n"
     ]
    }
   ],
   "source": [
    "df = pd.DataFrame({\"sample\": [3.6,2.9,2.8,2.6,3.4,3.2,2.2,2.6,2.6,2.4\n",
    "                              ,2.4,2.6,3.4,2.4,2.1,2.6,3.0,2.4,2.7,2.4\n",
    "                              ,2.6,2.9,2.9,2.0,2.7,2.2,2.8,2.7,1.8,2.5\n",
    "                              ,3.0,3.2,2.8,2.6,3.2,3.1,2.9,2.7,2.7,2.2]})\n",
    "df.head()\n",
    "lower, upper = stats.norm.interval(0.95, loc=np.mean(df), scale =0.397/np.sqrt(40))\n",
    "print(\"신뢰구간 : %f, %f\" %(lower, upper))"
   ]
  },
  {
   "cell_type": "code",
   "execution_count": 61,
   "metadata": {},
   "outputs": [
    {
     "name": "stdout",
     "output_type": "stream",
     "text": [
      "신뢰구간 : 17.83, 21.17\n"
     ]
    }
   ],
   "source": [
    "df = pd.DataFrame({\"sample\": [18,18,20,21,20,23,19,18,17,21\n",
    "                             ,22,20,20,21,20,19,19,18,17,19]})\n",
    "df.head()\n",
    "lower, upper = stats.norm.interval(0.95, loc=np.mean(df), scale =3.8/np.sqrt(20))\n",
    "print(\"신뢰구간 : %.2f, %.2f\" %(lower, upper))#과제"
   ]
  },
  {
   "cell_type": "code",
   "execution_count": 63,
   "metadata": {},
   "outputs": [
    {
     "name": "stdout",
     "output_type": "stream",
     "text": [
      "신뢰구간 : 54.39, 55.33\n"
     ]
    }
   ],
   "source": [
    "df =pd.DataFrame({\"sample\":[54.1,53.3,56.1,55.7,54.0,54.1,54.5,57.1,55.2,53.8\n",
    "                           ,54.1,54.1,56.1,55.0,55.9,56.0,54.9,54.3,53.9,55.0]})\n",
    "\n",
    "lower, upper = stats.t.interval(0.95, len(df)-1, loc=np.mean(df), scale=scipy.stats.sem(df))\n",
    "print(\"신뢰구간 : %.2f, %.2f\" %(lower,upper))"
   ]
  },
  {
   "cell_type": "code",
   "execution_count": 64,
   "metadata": {},
   "outputs": [
    {
     "name": "stdout",
     "output_type": "stream",
     "text": [
      "신뢰구간 : 70.60, 72.40\n"
     ]
    }
   ],
   "source": [
    "df =pd.DataFrame({\"sample\":[73,71,74,69,70,73,70,68,75,72\n",
    "                           ,70,72,73,70,70,72,71,70,75,72]})\n",
    "\n",
    "lower, upper = stats.t.interval(0.95, len(df)-1, loc=np.mean(df), scale=scipy.stats.sem(df))\n",
    "print(\"신뢰구간 : %.2f, %.2f\" %(lower,upper)) #과제\n"
   ]
  },
  {
   "cell_type": "code",
   "execution_count": 79,
   "metadata": {},
   "outputs": [
    {
     "data": {
      "text/plain": [
       "70.222"
      ]
     },
     "execution_count": 79,
     "metadata": {},
     "output_type": "execute_result"
    }
   ],
   "source": [
    "prop = stats.chi2.ppf(0.05, 9)\n",
    "prop.round(3)\n",
    "prop1 = stats.chi2.ppf(0.025, 49)\n",
    "prop1.round(3)\n",
    "prop2 = stats.chi2.ppf(0.975, 49)\n",
    "prop2.round(3)"
   ]
  },
  {
   "cell_type": "code",
   "execution_count": 85,
   "metadata": {},
   "outputs": [
    {
     "name": "stdout",
     "output_type": "stream",
     "text": [
      "신뢰구간 : 10.85, 24.15\n"
     ]
    }
   ],
   "source": [
    "df =pd.DataFrame({\"sample\":[12,9,10,5,16\n",
    "                           ,13,5,9,8,13\n",
    "                           ,16,12,12,4,14\n",
    "                           ,9,11,14,9,17\n",
    "                           ,5,8,9,6,11\n",
    "                           ,19,6,6,8,9\n",
    "                           ,13,10,8,13,19\n",
    "                           ,8,12,14,16,16\n",
    "                           ,11,17,5,9,12\n",
    "                           ,17,11,8,5,8]})\n",
    "\n",
    "prop1 = stats.chi2.ppf(0.975, 49)\n",
    "prop2 = stats.chi2.ppf(0.025, 49)\n",
    "\n",
    "s = np.var(df['sample']) \n",
    "lower, upper = ((len(df)-1) * s) / prop1, ((len(df)-1)*s)/prop2\n",
    "print(\"신뢰구간 : %.2f, %.2f\" %(lower,upper)) #과제\n"
   ]
  },
  {
   "cell_type": "code",
   "execution_count": 91,
   "metadata": {},
   "outputs": [
    {
     "name": "stdout",
     "output_type": "stream",
     "text": [
      "신뢰구간 : 0.05, 0.07\n"
     ]
    }
   ],
   "source": [
    "prop1 = stats.norm.ppf(0.95,0,1)\n",
    "prop1\n",
    "\n",
    "sample = 1600\n",
    "target = 96\n",
    "p = target/sample\n",
    "lower,upper = p-np.sqrt(prop1*(p*(1-p)/sample)), p+np.sqrt(prop1*(p*(1-p)/sample))\n",
    "print(\"신뢰구간 : %.2f, %.2f\" %(lower,upper))"
   ]
  },
  {
   "cell_type": "code",
   "execution_count": 99,
   "metadata": {},
   "outputs": [
    {
     "name": "stdout",
     "output_type": "stream",
     "text": [
      "신뢰구간 : 0.07, 0.29\n"
     ]
    }
   ],
   "source": [
    "df =pd.DataFrame({\"sample\":[12,9,10,5,16\n",
    "                           ,13,5,9,8,13\n",
    "                           ,16,12,12,4,14\n",
    "                           ,9,11,14,9,17\n",
    "                           ,5,8,9,6,11\n",
    "                           ,19,6,6,8,9\n",
    "                           ,13,10,8,13,19\n",
    "                           ,8,12,14,16,16\n",
    "                           ,11,17,5,9,12\n",
    "                           ,17,11,8,5,8]})\n",
    "sample = 50\n",
    "prop = stats.norm.ppf(0.975, 0,1)\n",
    "p = 0.18\n",
    "\n",
    "lower, upper = p- prop*np.sqrt(p*(1-p)/sample), p + prop*np.sqrt(p*(1-p)/sample)\n",
    "print(\"신뢰구간 : %.2f, %.2f\" %(lower,upper)) #과제\n"
   ]
  },
  {
   "cell_type": "code",
   "execution_count": 102,
   "metadata": {},
   "outputs": [
    {
     "data": {
      "text/plain": [
       "2.2621571627409915"
      ]
     },
     "execution_count": 102,
     "metadata": {},
     "output_type": "execute_result"
    }
   ],
   "source": [
    "prop = stats.t.ppf(0.975,9)\n",
    "prop"
   ]
  },
  {
   "cell_type": "code",
   "execution_count": 115,
   "metadata": {},
   "outputs": [
    {
     "name": "stdout",
     "output_type": "stream",
     "text": [
      "(0.9331598281860352, 0.4796823561191559)\n",
      "1-sample t-test \n",
      "t통계량 0.864000\n",
      "p-value 0.410000\n"
     ]
    }
   ],
   "source": [
    "df = pd.DataFrame({\"sample\" :[74.5,81.2,73.8,82.0,76.3,75.7,80.2,72.6,77.9,82.8]})\n",
    "t_result = stats.ttest_1samp(df,76.7)\n",
    "\n",
    "t,p = t_result.statistic.round(3), t_result.pvalue.round(3)\n",
    "\n",
    "print(shapiro(df))\n",
    "print(\"1-sample t-test \")\n",
    "print(\"t통계량 %f\" %(t))\n",
    "print(\"p-value %f\" %(p))\n"
   ]
  },
  {
   "cell_type": "code",
   "execution_count": 116,
   "metadata": {},
   "outputs": [
    {
     "name": "stdout",
     "output_type": "stream",
     "text": [
      "(0.8473219275474548, 0.053975414484739304)\n",
      "1-sample t-test \n",
      "t통계량 3.379000\n",
      "p-value 0.008000\n"
     ]
    }
   ],
   "source": [
    "df = pd.DataFrame({\"sample\" :[85.0,79.0,79.1,79.9,81.6,78.6,85.4,83.4,78.1,79.2]})\n",
    "t_result = stats.ttest_1samp(df,78.0)\n",
    "\n",
    "t,p = t_result.statistic.round(3), t_result.pvalue.round(3)\n",
    "\n",
    "print(shapiro(df))\n",
    "print(\"1-sample t-test \")\n",
    "print(\"t통계량 %f\" %(t))\n",
    "print(\"p-value %f\" %(p))"
   ]
  },
  {
   "cell_type": "code",
   "execution_count": null,
   "metadata": {},
   "outputs": [],
   "source": []
  }
 ],
 "metadata": {
  "kernelspec": {
   "display_name": "Python 3",
   "language": "python",
   "name": "python3"
  },
  "language_info": {
   "codemirror_mode": {
    "name": "ipython",
    "version": 3
   },
   "file_extension": ".py",
   "mimetype": "text/x-python",
   "name": "python",
   "nbconvert_exporter": "python",
   "pygments_lexer": "ipython3",
   "version": "3.7.6"
  }
 },
 "nbformat": 4,
 "nbformat_minor": 2
}
