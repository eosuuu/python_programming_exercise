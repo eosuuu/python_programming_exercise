{
 "cells": [
  {
   "cell_type": "code",
   "execution_count": 1,
   "metadata": {},
   "outputs": [],
   "source": [
    "import numpy as np\n",
    "from scipy import stats\n",
    "import scipy.stats\n",
    "import pandas as pd\n",
    "import statsmodels.api as sm\n",
    "import matplotlib.pyplot as plt\n",
    "import seaborn as sns\n",
    "from statsmodels.stats.proportion import proportions_ztest\n",
    "import matplotlib\n",
    "import matplotlib.font_manager as fm\n",
    "from scipy.stats import shapiro\n"
   ]
  },
  {
   "cell_type": "markdown",
   "metadata": {},
   "source": [
    "# 과제1 실습(ANOVA)\n",
    "철강의 청정도"
   ]
  },
  {
   "cell_type": "code",
   "execution_count": 36,
   "metadata": {},
   "outputs": [
    {
     "name": "stdout",
     "output_type": "stream",
     "text": [
      "One-way\n",
      "F 통계량 : 4.172000\n",
      "p-value: 0.019000\n",
      "\n",
      "1. 가설수립\n",
      "귀무가설(HO):강종별 2차정련 시간에 차이가 없다.\n",
      "대립가설(H1):적어도 2개이상의 강종별 2차정련 시간에 차이가 있다.\n",
      "유의수준(a) = 0.05\n",
      "\n",
      "2. 가설검정수행\n",
      "유의수준 5%에서 검정결과 p-value값이 0.05보다 작은 0.019이므로 귀무가설을 기각한다.\n",
      "\n",
      "3. 검정결과판단\n",
      "귀무가설 H0을 기각하고 대립가설 H1를 채택한다.\n",
      " 즉 적어도 2개이상의 강종별 2차정련 시간에 차이가 있다고 볼 수 있다.\n"
     ]
    }
   ],
   "source": [
    "fe = pd.read_csv(\"ANOVA.csv\", engine=\"python\")\n",
    "fe_remake = pd.pivot_table(fe,index = 'charge', values = 'time', columns='gangjong')\n",
    "fe_result = stats.f_oneway(fe_remake['a'], fe_remake['b'],fe_remake['c'],fe_remake['d'])\n",
    "f, p = fe_result.statistic.round(3), fe_result.pvalue.round(3)\n",
    "\n",
    "\n",
    "print(\"One-way\")\n",
    "print(\"F 통계량 : %f\" %f)\n",
    "print(\"p-value: %f\" %p)\n",
    "print()\n",
    "print(\"1. 가설수립\")\n",
    "print(\"귀무가설(HO):강종별 2차정련 시간에 차이가 없다.\")\n",
    "print(\"대립가설(H1):적어도 2개이상의 강종별 2차정련 시간에 차이가 있다.\")\n",
    "print(\"유의수준(a) = 0.05\")\n",
    "print()\n",
    "print(\"2. 가설검정수행\")\n",
    "print(\"유의수준 5%에서 검정결과 p-value값이 0.05보다 작은 0.019이므로 귀무가설을 기각한다.\")\n",
    "print()\n",
    "print(\"3. 검정결과판단\")\n",
    "print(\"귀무가설 H0을 기각하고 대립가설 H1를 채택한다.\\n 즉 적어도 2개이상의 강종별 2차정련 시간에 차이가 있다고 볼 수 있다.\")\n"
   ]
  },
  {
   "cell_type": "markdown",
   "metadata": {},
   "source": [
    "# 과제2 상관분석\n",
    "초코칩의 강도"
   ]
  },
  {
   "cell_type": "code",
   "execution_count": 41,
   "metadata": {},
   "outputs": [
    {
     "name": "stdout",
     "output_type": "stream",
     "text": [
      "Correlation Analysis \n",
      "corr :-0.723107\n",
      "p-value :0.000315\n",
      "\n",
      "1. 가설수립\n",
      "귀무가설(HO):초코칩의 강도와 재료 반죽온도간의 상관계수는 0이다.\n",
      "대립가설(H1):초코칩의 강도와 재료 반죽온도간의 상관계수가 0이 아니다.\n",
      "\n",
      "2. 가설검정수행\n",
      "검정결과 p-value값이 0.05보다 작은 0.000315이므로 귀무가설을 기각한다.\n",
      "\n",
      "3. 검정결과판단\n",
      "귀무가설 H0을 기각하고 대립가설 H1를 채택한다.\n",
      " 즉 초코칩의 강도와 재료 반죽 온도간의 상관계수는 0이 아니며, 서로 음의 상관 관계를 가진다.\n"
     ]
    }
   ],
   "source": [
    "strength = [37.6,38.6,37.2,36.4,38.6,39,37.2,36.1,35.9,37.1,\n",
    "            36.9,37.5,36.3,38.1,39,36.9,36.8,37.6,33,33.5]\n",
    "temper = [14,15,14,16,17,14,17,16,15,16,14,16,18,13,15,17,14,16,20,21]\n",
    "corr, pval = stats.pearsonr(strength, temper)\n",
    "\n",
    "print(\"Correlation Analysis \")\n",
    "print(\"corr :%f\" %corr)\n",
    "print(\"p-value :%f\" %pval)\n",
    "print()\n",
    "print(\"1. 가설수립\")\n",
    "print(\"귀무가설(HO):초코칩의 강도와 재료 반죽온도간의 상관계수는 0이다.\")\n",
    "print(\"대립가설(H1):초코칩의 강도와 재료 반죽온도간의 상관계수가 0이 아니다.\")\n",
    "print()\n",
    "print(\"2. 가설검정수행\")\n",
    "print(\"검정결과 p-value값이 0.05보다 작은 0.000315이므로 귀무가설을 기각한다.\")\n",
    "print()\n",
    "print(\"3. 검정결과판단\")\n",
    "print(\"귀무가설 H0을 기각하고 대립가설 H1를 채택한다.\\n 즉 초코칩의 강도와 재료 반죽 온도간의 상관계수는 0이 아니며, 서로 음의 상관 관계를 가진다.\")\n"
   ]
  },
  {
   "cell_type": "markdown",
   "metadata": {},
   "source": [
    "# 과제3 단순선형회귀\n",
    "초코칩의 강도와 굽는 시간간의 인과관계\n"
   ]
  },
  {
   "cell_type": "code",
   "execution_count": 65,
   "metadata": {},
   "outputs": [
    {
     "name": "stdout",
     "output_type": "stream",
     "text": [
      "                            OLS Regression Results                            \n",
      "==============================================================================\n",
      "Dep. Variable:                      y   R-squared:                       0.646\n",
      "Model:                            OLS   Adj. R-squared:                  0.627\n",
      "Method:                 Least Squares   F-statistic:                     32.90\n",
      "Date:                Tue, 28 Jan 2020   Prob (F-statistic):           1.95e-05\n",
      "Time:                        20:13:04   Log-Likelihood:                -26.431\n",
      "No. Observations:                  20   AIC:                             56.86\n",
      "Df Residuals:                      18   BIC:                             58.85\n",
      "Df Model:                           1                                         \n",
      "Covariance Type:            nonrobust                                         \n",
      "==============================================================================\n",
      "                 coef    std err          t      P>|t|      [0.025      0.975]\n",
      "------------------------------------------------------------------------------\n",
      "const         13.0013      4.184      3.108      0.006       4.212      21.791\n",
      "x1            30.8722      5.383      5.736      0.000      19.564      42.181\n",
      "==============================================================================\n",
      "Omnibus:                        1.724   Durbin-Watson:                   0.765\n",
      "Prob(Omnibus):                  0.422   Jarque-Bera (JB):                1.206\n",
      "Skew:                          -0.589   Prob(JB):                        0.547\n",
      "Kurtosis:                       2.753   Cond. No.                         40.4\n",
      "==============================================================================\n",
      "\n",
      "Warnings:\n",
      "[1] Standard Errors assume that the covariance matrix of the errors is correctly specified.\n",
      "\n",
      "결론 : 회귀식은 strength = 13.0013 + 30.8722*baking time\n",
      " 설명력은 R-Sq = 64.6%이다.\n",
      "\n",
      "1. 가설수립\n",
      "귀무가설(HO):초코칩의 강도와 굽는 시간과의 인과관계는 없다.\n",
      "대립가설(H1):초코칩의 강도와 굽는 시간과의 인과관계가 있다.\n",
      "\n",
      "2. 가설검정수행\n",
      "검정결과 p-value값이 0.05보다 작은 0.000315이므로 귀무가설을 기각한다.\n",
      "\n",
      "3. 검정결과판단\n",
      "귀무가설 H0을 기각하고 대립가설 H1를 채택한다.\n",
      " 즉 초코칩의 강도와 재료 반죽 온도간의 인과관계가 존재한다.\n"
     ]
    }
   ],
   "source": [
    "streng = [37.6,38.6,37.2,36.4,38.6,39,37.2,36.1,35.9,37.1,\n",
    "         36.9,37.5,36.3,38.1,39,36.9,36.8,37.6,33,33.5]\n",
    "bake_time = [0.798922,0.84902,0.816163,0.758266,0.815894,0.807477,0.809068,0.7664,0.742243,0.751118,\n",
    "             0.740629,0.751495,0.738863,0.827428,0.818172,0.740939,0.757128,0.804695,0.695121,0.735377]\n",
    "\n",
    "bake_time = sm.add_constant(bake_time)\n",
    "model = sm.OLS(streng, bake_time)\n",
    "result = model.fit()\n",
    "\n",
    "print(result.summary())\n",
    "print()\n",
    "print(\"결론 : 회귀식은 strength = 13.0013 + 30.8722*baking time\\n 설명력은 R-Sq = 64.6%이다.\")\n",
    "print()\n",
    "print(\"1. 가설수립\")\n",
    "print(\"귀무가설(HO):초코칩의 강도와 굽는 시간과의 인과관계는 없다.\")\n",
    "print(\"대립가설(H1):초코칩의 강도와 굽는 시간과의 인과관계가 있다.\")\n",
    "print()\n",
    "print(\"2. 가설검정수행\")\n",
    "print(\"검정결과 p-value값이 0.05보다 작으므로 귀무가설을 기각한다.\")\n",
    "print()\n",
    "print(\"3. 검정결과판단\")\n",
    "print(\"귀무가설 H0을 기각하고 대립가설 H1를 채택한다.\\n 즉 초코칩의 강도와 재료 반죽 온도간의 인과관계가 존재한다.\")"
   ]
  },
  {
   "cell_type": "code",
   "execution_count": 64,
   "metadata": {},
   "outputs": [
    {
     "name": "stdout",
     "output_type": "stream",
     "text": [
      "\n",
      "잔차검증\n",
      "\n",
      "정규성 검정\n",
      "shapiro함수를 통해 정규성을 검사한 결과 검정통계량이 약 0.415로 0.05보다 높으므로 정규성을 만족한다고 볼 수 있다.\n"
     ]
    },
    {
     "data": {
      "image/png": "[encoded data removed]",
      "text/plain": [
       "<Figure size 432x288 with 1 Axes>"
      ]
     },
     "metadata": {
      "needs_background": "light"
     },
     "output_type": "display_data"
    }
   ],
   "source": [
    "print()\n",
    "print(\"잔차검증\")\n",
    "print()\n",
    "\n",
    "print(\"정규성 검정\")\n",
    "plt.hist(result.resid)\n",
    "shapiro(result.resid)\n",
    "print(\"shapiro함수를 통해 정규성을 검사한 결과 검정통계량이 약 0.415로 0.05보다 높으므로 정규성을 만족한다고 볼 수 있다.\")"
   ]
  },
  {
   "cell_type": "code",
   "execution_count": 66,
   "metadata": {},
   "outputs": [
    {
     "name": "stdout",
     "output_type": "stream",
     "text": [
      "등분산성 검정\n",
      "표준화된 잔차들을 이용하여 변수들의 산점도를 그려, 이들 잔차들이 0을 중심으로 랜덤하게는 보이나, 대칭적이지 않다. 그러므로 등분산성을 만족한다고 볼 수 없다.\n"
     ]
    },
    {
     "data": {
      "image/png": "[encoded data removed]",
      "text/plain": [
       "<Figure size 432x288 with 1 Axes>"
      ]
     },
     "metadata": {
      "needs_background": "light"
     },
     "output_type": "display_data"
    }
   ],
   "source": [
    "print(\"등분산성 검정\")\n",
    "plt.scatter(result.fittedvalues,result.resid)\n",
    "plt.xlabel(\"fitted value\")\n",
    "plt.ylabel(\"residual\")\n",
    "plt.axhline(y=0, linestyle=\"--\")\n",
    "print(\"표준화된 잔차들을 이용하여 변수들의 산점도를 그려보면, 이들 잔차들이 0을 중심으로 랜덤하게는 보이나, 대칭적이지 않다. 그러므로 등분산성을 만족한다고 볼 수 없다.\")"
   ]
  },
  {
   "cell_type": "code",
   "execution_count": 62,
   "metadata": {},
   "outputs": [
    {
     "name": "stdout",
     "output_type": "stream",
     "text": [
      "독립성 검정\n",
      "회귀분석 표를 보면 Durbin-Watson 값이 0.765임을 알 수 있다. 이는 0에 더 가깝기 때문에 양의 자기 상관을 가짐을 알 수 있다.\n"
     ]
    }
   ],
   "source": [
    "\n",
    "print(\"독립성 검정\")\n",
    "print(\"회귀분석 표를 보면 Durbin-Watson 값이 0.765임을 알 수 있다. 이는 0에 더 가깝기 때문에 양의 자기 상관을 가짐을 알 수 있다.\")"
   ]
  },
  {
   "cell_type": "code",
   "execution_count": null,
   "metadata": {},
   "outputs": [],
   "source": []
  }
 ],
 "metadata": {
  "kernelspec": {
   "display_name": "Python 3",
   "language": "python",
   "name": "python3"
  },
  "language_info": {
   "codemirror_mode": {
    "name": "ipython",
    "version": 3
   },
   "file_extension": ".py",
   "mimetype": "text/x-python",
   "name": "python",
   "nbconvert_exporter": "python",
   "pygments_lexer": "ipython3",
   "version": "3.7.4"
  }
 },
 "nbformat": 4,
 "nbformat_minor": 2
}
