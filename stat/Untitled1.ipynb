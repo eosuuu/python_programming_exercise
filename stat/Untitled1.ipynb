{
 "cells": [
  {
   "cell_type": "code",
   "execution_count": 1,
   "metadata": {},
   "outputs": [],
   "source": [
    "import numpy as np\n",
    "from scipy import stats\n",
    "import scipy.stats\n",
    "import pandas as pd\n",
    "import statsmodels.api as sm\n",
    "import matplotlib.pyplot as plt\n",
    "import seaborn as sns\n",
    "from statsmodels.stats.proportion import proportions_ztest\n",
    "import matplotlib\n",
    "import matplotlib.font_manager as fm\n",
    "from scipy.stats import shapiro\n"
   ]
  },
  {
   "cell_type": "code",
   "execution_count": 4,
   "metadata": {},
   "outputs": [
    {
     "name": "stdout",
     "output_type": "stream",
     "text": [
      "[3.37924492] [0.00813672] 2.2621571627409915\n"
     ]
    }
   ],
   "source": [
    "df = pd.DataFrame({\"sample\": [85.0, 79.0,79.1,79.9,81.6,78.6,85.4,83.4,78.1,79.2]})\n",
    "\n",
    "t_result = stats.ttest_1samp(df, 78.0)\n",
    "\n",
    "th = stats.t.ppf(0.975,9)\n",
    "\n",
    "t,p = t_result.statistic, t_result.pvalue\n",
    "\n",
    "print(t,p,th)"
   ]
  },
  {
   "cell_type": "code",
   "execution_count": 12,
   "metadata": {},
   "outputs": [
    {
     "name": "stdout",
     "output_type": "stream",
     "text": [
      "(0.9094840288162231, 0.06230909377336502)\n",
      "(0.8978105783462524, 0.03752673789858818)\n",
      "LeveneResult(statistic=0.04810126582278468, pvalue=0.8275746090758196)\n",
      "[-3.12230485] [0.00342365] -2.0930240544082634\n"
     ]
    }
   ],
   "source": [
    "df1 = pd.DataFrame({\"sample\": [6,5,5,4,6,7,6,4,5,6,4,5,5,6,4,8,6,5,6,7]})\n",
    "df2 = pd.DataFrame({\"sample\": [7,5,7,8,7,8,8,5,7,6,5,5,6,6,5,7,9,7,7,8]})\n",
    "\n",
    "print(shapiro(df1)) #0.06 -> p값 0.05이상이니까 정규성 만족\n",
    "print(shapiro(df2)) #0.03 -> p값 0.05미만이니까 정규성 만족\n",
    "\n",
    "print(stats.levene(df1['sample'], df2['sample'])) # p값 0.05이상이니까 등분산성 만족 -> equal_var 값 = True\n",
    "\n",
    "t_result = stats.ttest_ind(df1,df2, equal_var = True)\n",
    "t,p = t_result.statistic, t_result.pvalue\n",
    "th = stats.t.ppf(0.025,19)\n",
    "print(t,p, th)"
   ]
  },
  {
   "cell_type": "code",
   "execution_count": 18,
   "metadata": {},
   "outputs": [
    {
     "name": "stdout",
     "output_type": "stream",
     "text": [
      "(0.8425756096839905, 0.08004552870988846)\n",
      "(0.7734811902046204, 0.014793740585446358)\n",
      "LeveneResult(statistic=0.4408416728536036, pvalue=0.5175025061092301)\n",
      "[1.69953848] [0.11131813] 2.3646242510102993\n"
     ]
    }
   ],
   "source": [
    "a = pd.DataFrame({\"sample\": [1.883,1.715,1.799,1.768,1.711,1.832,1.427,1.344]})\n",
    "b = pd.DataFrame({\"sample\": [1.435,1.572,1.486,1.511,1.457,1.548,1.404,1.883]})\n",
    "\n",
    "print(shapiro(a)) #-> 0.05보다 크면 정규성 만족 \n",
    "print(shapiro(b)) #-> 0.05보다 작으니까 정규성 불만족\n",
    "\n",
    "print(stats.levene(a['sample'], b['sample'])) #-> 0.05보다 크니까 등분산성 만족 -> equal_var = True\n",
    "\n",
    "t_result = stats.ttest_ind(a,b,equal_var=True)\n",
    "\n",
    "t, p = t_result.statistic, t_result.pvalue\n",
    "\n",
    "th = stats.t.ppf(0.975,7)\n",
    "\n",
    "print(t,p,th)"
   ]
  },
  {
   "cell_type": "code",
   "execution_count": 20,
   "metadata": {},
   "outputs": [
    {
     "name": "stdout",
     "output_type": "stream",
     "text": [
      "[-2.26606522] [0.04968162]\n",
      "-2.262157162740992\n"
     ]
    }
   ],
   "source": [
    "dfb = pd.DataFrame({\"before\" : [720,589,780,648,720,589,780,648,780,648]})\n",
    "dfa = pd.DataFrame({\"after\" : [710,580,787,712,750,600,782,670,790,680]})\n",
    "\n",
    "#paired ttest는 정규성 검정 안해도됨\n",
    "\n",
    "t_result = stats.ttest_rel(dfb,dfa)\n",
    "t, p = t_result.statistic, t_result.pvalue\n",
    "print(t,p)\n",
    "th = stats.t.ppf(0.025,9)\n",
    "print(th)"
   ]
  },
  {
   "cell_type": "code",
   "execution_count": 25,
   "metadata": {},
   "outputs": [
    {
     "name": "stdout",
     "output_type": "stream",
     "text": [
      "1.4002800840280094 0.16142946236708322 1.959963984540054\n"
     ]
    }
   ],
   "source": [
    "count = 15\n",
    "n = 100\n",
    "p = 0.1\n",
    "\n",
    "stat,p = proportions_ztest(count, n, p)\n",
    "th = stats.norm.ppf(0.975)\n",
    "print(stat, p,th)"
   ]
  },
  {
   "cell_type": "code",
   "execution_count": 28,
   "metadata": {},
   "outputs": [
    {
     "name": "stdout",
     "output_type": "stream",
     "text": [
      "-2.0412414523193148 0.0412268333371637\n",
      "-1.9599639845400545\n"
     ]
    }
   ],
   "source": [
    "count = 40\n",
    "n = 100\n",
    "p = 0.5\n",
    "\n",
    "stat, p = proportions_ztest(count,n,p)\n",
    "print(stat,p)\n",
    "th = stats.norm.ppf(0.025)\n",
    "print(th)"
   ]
  },
  {
   "cell_type": "code",
   "execution_count": 30,
   "metadata": {},
   "outputs": [
    {
     "name": "stdout",
     "output_type": "stream",
     "text": [
      "1.553109404737079 0.12039699966295712\n",
      "1.959963984540054\n"
     ]
    }
   ],
   "source": [
    "count = np.array([4,1])\n",
    "n = np.array([1000,1200])\n",
    "stat, p = proportions_ztest(count, n)\n",
    "print(stat,p)\n",
    "th = stats.norm.ppf(0.975)\n",
    "print(th)"
   ]
  },
  {
   "cell_type": "code",
   "execution_count": 33,
   "metadata": {},
   "outputs": [
    {
     "name": "stdout",
     "output_type": "stream",
     "text": [
      "2.0729633895345208 0.03817568685216671\n",
      "1.959963984540054\n"
     ]
    }
   ],
   "source": [
    "count = np.array([14,5])\n",
    "n = np.array([1200,1200])\n",
    "\n",
    "stat, p = proportions_ztest(count, n)\n",
    "print(stat,p)\n",
    "th = stats.norm.ppf(0.975)\n",
    "print(th)"
   ]
  },
  {
   "cell_type": "code",
   "execution_count": 41,
   "metadata": {},
   "outputs": [
    {
     "name": "stdout",
     "output_type": "stream",
     "text": [
      "7.814727903251179\n"
     ]
    }
   ],
   "source": [
    "th = stats.chi2.ppf(0.95,3)\n",
    "print(th)"
   ]
  },
  {
   "cell_type": "code",
   "execution_count": 44,
   "metadata": {},
   "outputs": [
    {
     "name": "stdout",
     "output_type": "stream",
     "text": [
      "43.77297182574219\n",
      "98.27432228716901\n",
      "3.4707443967367854e-09\n",
      "30\n",
      "[[11.00436681  8.20960699  5.24017467  3.84279476  1.92139738  9.78165939]\n",
      " [ 8.52838428  6.36244541  4.06113537  2.97816594  1.48908297  7.58078603]\n",
      " [10.45414847  7.79912664  4.97816594  3.65065502  1.82532751  9.29257642]\n",
      " [ 8.25327511  6.15720524  3.930131    2.88209607  1.44104803  7.33624454]\n",
      " [ 7.97816594  5.95196507  3.79912664  2.7860262   1.3930131   7.09170306]\n",
      " [ 8.80349345  6.56768559  4.19213974  3.07423581  1.5371179   7.82532751]\n",
      " [ 7.97816594  5.95196507  3.79912664  2.7860262   1.3930131   7.09170306]]\n"
     ]
    }
   ],
   "source": [
    "df = pd.DataFrame({\"A\":[18,1,8,7,10,9,10], \"B\":[8,2,14,5,5,9,4], \"C\":[4,1,3,4,9,5,4]\n",
    "                  ,\"D\":[4,1,2,3,2,7,3],\"E\":[3,1,3,1,1,1,1],\"F\":[3,25,8,10,2,1,7]})\n",
    "\n",
    "chi2, p, f, ex = stats.chi2_contingency(df)\n",
    "th = stats.chi2.ppf(0.95,30)\n",
    "print(th)\n",
    "print(chi2)\n",
    "print(p)\n",
    "print(f)\n",
    "print(ex)"
   ]
  },
  {
   "cell_type": "code",
   "execution_count": null,
   "metadata": {},
   "outputs": [],
   "source": []
  }
 ],
 "metadata": {
  "kernelspec": {
   "display_name": "Python 3",
   "language": "python",
   "name": "python3"
  },
  "language_info": {
   "codemirror_mode": {
    "name": "ipython",
    "version": 3
   },
   "file_extension": ".py",
   "mimetype": "text/x-python",
   "name": "python",
   "nbconvert_exporter": "python",
   "pygments_lexer": "ipython3",
   "version": "3.7.4"
  }
 },
 "nbformat": 4,
 "nbformat_minor": 2
}
