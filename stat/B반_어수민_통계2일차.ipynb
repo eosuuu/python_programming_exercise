{
 "cells": [
  {
   "cell_type": "code",
   "execution_count": 3,
   "metadata": {},
   "outputs": [],
   "source": [
    "import numpy as np\n",
    "from scipy import stats\n",
    "import scipy.stats\n",
    "import pandas as pd\n",
    "import statsmodels.api as sm\n",
    "import matplotlib.pyplot as plt\n",
    "import seaborn as sns\n",
    "from statsmodels.stats.proportion import proportions_ztest\n",
    "import matplotlib\n",
    "import matplotlib.font_manager as fm\n",
    "from scipy.stats import shapiro\n"
   ]
  },
  {
   "cell_type": "markdown",
   "metadata": {},
   "source": [
    "# 과제1 추론통계 문제\n",
    "새로운 품종의 감자 20 Box를 랜덤추출하여 무게를 측정할 결과가 다음과 같음<br>\n",
    "(단, 모표준편차는 3.8로 알려져 있음) -> 이 자료로부터 신품종 배추의 평균 무게에 대한 95% 신뢰구간을 구하시오."
   ]
  },
  {
   "cell_type": "markdown",
   "metadata": {},
   "source": [
    "#### 손으로 풀경우\n"
   ]
  },
  {
   "cell_type": "code",
   "execution_count": 13,
   "metadata": {},
   "outputs": [
    {
     "name": "stdout",
     "output_type": "stream",
     "text": [
      "신뢰구간 : 17.83, 21.17\n"
     ]
    }
   ],
   "source": [
    "df = pd.DataFrame({\"sample\": [18,18,20,21,20,23,19,18,17,21\n",
    "                             ,22,20,20,21,20,19,19,18,17,19]})\n",
    "#(표본평균)\n",
    "x_bar = np.mean(df)\n",
    "\n",
    "#(모표준편차)\n",
    "sigma = 3.8 \n",
    "\n",
    "# (임계값 - 신뢰수준 95%) \n",
    "z = stats.norm.ppf(0.975)\n",
    "\n",
    "# 추출한 개수\n",
    "n = 20\n",
    "\n",
    "lower, upper = x_bar - (z * sigma / np.sqrt(n)), x_bar + (z * sigma / np.sqrt(n))\n",
    "print(\"신뢰구간 : %.2f, %.2f\" %(lower, upper))"
   ]
  },
  {
   "cell_type": "markdown",
   "metadata": {},
   "source": [
    "#### 파이썬 공식을 통해 풀경우"
   ]
  },
  {
   "cell_type": "code",
   "execution_count": 21,
   "metadata": {},
   "outputs": [
    {
     "name": "stdout",
     "output_type": "stream",
     "text": [
      "신뢰구간 : 17.83, 21.17\n"
     ]
    }
   ],
   "source": [
    "df = pd.DataFrame({\"sample\": [18,18,20,21,20,23,19,18,17,21\n",
    "                             ,22,20,20,21,20,19,19,18,17,19]})\n",
    "\n",
    "lower, upper = stats.norm.interval(0.95, loc=np.mean(df), scale =3.8/np.sqrt(20))\n",
    "print(\"신뢰구간 : %.2f, %.2f\" %(lower, upper))#과제"
   ]
  },
  {
   "cell_type": "markdown",
   "metadata": {},
   "source": [
    "# 과제2 모평균추정\n",
    "제품개발자는 새로 개발된 강종의 평균 인장강도를 70kg/mm으로 기대하고 있음.<br>\n",
    "이를 검증하기 위해 시험 생ㅅ성되는 강종 중 임의로 20개의 코일을 대상으로 랜덤하게 시편을 채취하였음.\n"
   ]
  },
  {
   "cell_type": "markdown",
   "metadata": {},
   "source": [
    "#### 손으로 풀경우\n"
   ]
  },
  {
   "cell_type": "code",
   "execution_count": 27,
   "metadata": {},
   "outputs": [
    {
     "name": "stdout",
     "output_type": "stream",
     "text": [
      "신뢰구간 : 70.60, 72.40\n"
     ]
    }
   ],
   "source": [
    "df =pd.DataFrame({\"sample\":[73,71,74,69,70,73,70,68,75,72\n",
    "                           ,70,72,73,70,70,72,71,70,75,72]})\n",
    "\n",
    "#(표본평균)\n",
    "x_bar = np.mean(df)\n",
    "\n",
    "#(표본표준편차)\n",
    "s = 1.933\n",
    "\n",
    "# 추출한 개수\n",
    "n = 20\n",
    "\n",
    "# 자유도 \n",
    "free = n-1\n",
    "\n",
    "# (임계값 - 신뢰수준 95%) \n",
    "z = stats.t.ppf(0.975,free)\n",
    "\n",
    "\n",
    "\n",
    "lower, upper = x_bar - (z * s / np.sqrt(n)), x_bar + (z * s / np.sqrt(n))\n",
    "print(\"신뢰구간 : %.2f, %.2f\" %(lower, upper))\n",
    "\n"
   ]
  },
  {
   "cell_type": "markdown",
   "metadata": {},
   "source": [
    "#### 파이썬 공식을 통해 풀경우"
   ]
  },
  {
   "cell_type": "code",
   "execution_count": 28,
   "metadata": {},
   "outputs": [
    {
     "name": "stdout",
     "output_type": "stream",
     "text": [
      "신뢰구간 : 70.60, 72.40\n"
     ]
    }
   ],
   "source": [
    "df =pd.DataFrame({\"sample\":[73,71,74,69,70,73,70,68,75,72\n",
    "                           ,70,72,73,70,70,72,71,70,75,72]})\n",
    "\n",
    "lower, upper = stats.t.interval(0.95, len(df)-1, loc=np.mean(df), scale=scipy.stats.sem(df))\n",
    "print(\"신뢰구간 : %.2f, %.2f\" %(lower,upper))"
   ]
  },
  {
   "cell_type": "markdown",
   "metadata": {},
   "source": [
    "# 과제3 평균검정\n",
    "고객서비스센터의 고객만족도 평균은 78.0이다. 개선활동을 완료한 후 다음과 같은 10개의 고객만족도 데이터를 얻었다. <br>\n",
    "개선활동이 만족도를 변화시켰는가?"
   ]
  },
  {
   "cell_type": "code",
   "execution_count": 5,
   "metadata": {},
   "outputs": [
    {
     "name": "stdout",
     "output_type": "stream",
     "text": [
      "(0.8473219275474548, 0.053975414484739304)\n",
      "1-sample t-test \n",
      "t통계량 3.379000\n",
      "p-value 0.008000\n",
      "\n",
      "shapiro함수를 통해 정규성을 검사한 결과 검정통계량이 약 0.054로 0.05보다 높으므로 정규성을 만족한다고 볼 수 있다.\n",
      "\n",
      "1. 가설수립\n",
      "귀무가설(HO):mu = 78.0\n",
      "대립가설(H1):mu != 78.0\n",
      "유의수준(a) = 0.05\n",
      "\n",
      "2. 가설검정수행\n",
      "a = 0.05수준에서 귀무가설을 기각하기 위해서 요구되는 최소한의 t값(임계값)\n",
      "t(0.025,9) = 2.262157\n",
      "\n",
      "3. 검정결과판단\n",
      "p-value가 유의수준 0.05보다 작고, t통계량(검정통계량)이 임계값보다 크므로 귀무가설 H0을 기각하고 대립가설 H1를 채택한다.\n",
      "즉 과제 수행자의 개선활동이 고객만족도를 변화시켰다고 볼 수 있다.\n"
     ]
    }
   ],
   "source": [
    "df = pd.DataFrame({\"sample\" :[85.0,79.0,79.1,79.9,81.6,78.6,85.4,83.4,78.1,79.2]})\n",
    "\n",
    "t_result = stats.ttest_1samp(df,78.0)\n",
    "\n",
    "z = stats.t.ppf(0.975,9)\n",
    "\n",
    "t,p = t_result.statistic.round(3), t_result.pvalue.round(3)\n",
    "\n",
    "print(shapiro(df))\n",
    "print(\"1-sample t-test \")\n",
    "print(\"t통계량 %f\" %(t))\n",
    "print(\"p-value %f\" %(p))\n",
    "print()\n",
    "print(\"shapiro함수를 통해 정규성을 검사한 결과 검정통계량이 약 0.054로 0.05보다 높으므로 정규성을 만족한다고 볼 수 있다.\")\n",
    "print()\n",
    "print(\"1. 가설수립\")\n",
    "print(\"귀무가설(HO):mu = 78.0\")\n",
    "print(\"대립가설(H1):mu != 78.0\")\n",
    "print(\"유의수준(a) = 0.05\")\n",
    "print()\n",
    "print(\"2. 가설검정수행\")\n",
    "print(\"a = 0.05수준에서 귀무가설을 기각하기 위해서 요구되는 최소한의 t값(임계값)\\nt(0.025,9) = %f\" %(z))\n",
    "print()\n",
    "print(\"3. 검정결과판단\")\n",
    "print(\"p-value가 유의수준 0.05보다 작고, t통계량(검정통계량)이 임계값보다 크므로 귀무가설 H0을 기각하고 대립가설 H1를 채택한다.\\n\\\n",
    "즉 과제 수행자의 개선활동이 고객만족도를 변화시켰다고 볼 수 있다.\")"
   ]
  },
  {
   "cell_type": "code",
   "execution_count": null,
   "metadata": {},
   "outputs": [],
   "source": []
  }
 ],
 "metadata": {
  "kernelspec": {
   "display_name": "Python 3",
   "language": "python",
   "name": "python3"
  },
  "language_info": {
   "codemirror_mode": {
    "name": "ipython",
    "version": 3
   },
   "file_extension": ".py",
   "mimetype": "text/x-python",
   "name": "python",
   "nbconvert_exporter": "python",
   "pygments_lexer": "ipython3",
   "version": "3.7.4"
  }
 },
 "nbformat": 4,
 "nbformat_minor": 2
}
