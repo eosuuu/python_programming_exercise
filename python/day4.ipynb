{
 "cells": [
  {
   "cell_type": "code",
   "execution_count": 1,
   "metadata": {},
   "outputs": [
    {
     "name": "stdout",
     "output_type": "stream",
     "text": [
      "16시간 4분 54초\n"
     ]
    }
   ],
   "source": [
    "def hour_min_sec(second):\n",
    "    h = second / 3600\n",
    "    second %= 3600\n",
    "    m = second / 60\n",
    "    second %= 60\n",
    "    s = second\n",
    "    return h,m,s\n",
    "    \n",
    "h,m,s = hour_min_sec(57894)\n",
    "print(\"%d시간 %d분 %d초\" %(h,m,s))"
   ]
  },
  {
   "cell_type": "code",
   "execution_count": 2,
   "metadata": {},
   "outputs": [
    {
     "name": "stdout",
     "output_type": "stream",
     "text": [
      "1\n",
      "9\n",
      "[3, 5, 2]\n"
     ]
    }
   ],
   "source": [
    "def get_min_max(l):\n",
    "    min_val = min(l)\n",
    "    max_val = max(l)\n",
    "    l.remove(min_val)\n",
    "    l.remove(max_val)\n",
    "    return min_val, max_val\n",
    "\n",
    "    \n",
    "l = [3,5,9,1,2]\n",
    "(min_val, max_val) = get_min_max(l)\n",
    "\n",
    "print(min_val)\n",
    "print(max_val)\n",
    "print(l)\n"
   ]
  },
  {
   "cell_type": "code",
   "execution_count": 14,
   "metadata": {},
   "outputs": [
    {
     "name": "stdout",
     "output_type": "stream",
     "text": [
      "0\n"
     ]
    }
   ],
   "source": [
    "def dot_product(v1, v2):\n",
    "    result = 0\n",
    "    for a,b in v1.items() :\n",
    "        for c, d in v2.items():\n",
    "            if a == c :\n",
    "                result += b * d\n",
    "    print(result)\n",
    "    \n",
    "    \n",
    "v1 = {'c':5}\n",
    "v2 = {'a':2, 'b':1}\n",
    "\n",
    "dot_product(v1,v2)"
   ]
  },
  {
   "cell_type": "code",
   "execution_count": 15,
   "metadata": {},
   "outputs": [
    {
     "data": {
      "text/plain": [
       "0"
      ]
     },
     "execution_count": 15,
     "metadata": {},
     "output_type": "execute_result"
    }
   ],
   "source": [
    "sum(v1[k] * v2[k] for k in v1 if k in v2)\n"
   ]
  },
  {
   "cell_type": "code",
   "execution_count": 54,
   "metadata": {},
   "outputs": [
    {
     "name": "stdout",
     "output_type": "stream",
     "text": [
      "** 로또 추첨을 시작합니다. **\n",
      "추첨된 로또 번호 ==> 30 26 18 33 8 23 "
     ]
    }
   ],
   "source": [
    "import random\n",
    "\n",
    "lotto = []\n",
    "print(\"** 로또 추첨을 시작합니다. **\")\n",
    "for i in range(6):\n",
    "    temp = random.randint(1,45)\n",
    "    while temp in lotto:\n",
    "        temp = random.randint(1,45)\n",
    "    lotto.append(temp)\n",
    "\n",
    "print(\"추첨된 로또 번호 ==>\", end= ' ')\n",
    "for num in lotto:\n",
    "    print(num, end = \" \")\n",
    "\n"
   ]
  },
  {
   "cell_type": "code",
   "execution_count": 58,
   "metadata": {},
   "outputs": [
    {
     "data": {
      "text/plain": [
       "[23, 35, 20, 9, 7, 41]"
      ]
     },
     "execution_count": 58,
     "metadata": {},
     "output_type": "execute_result"
    }
   ],
   "source": [
    "import random\n",
    "num = []\n",
    "for i in range(1,46):\n",
    "    num.append(i)\n",
    "\n",
    "random.sample(num,6)"
   ]
  },
  {
   "cell_type": "code",
   "execution_count": 70,
   "metadata": {},
   "outputs": [
    {
     "name": "stdout",
     "output_type": "stream",
     "text": [
      "{'r': 1, 'e': 2, 'd': 1, ' ': 1, 'a': 1, 'p': 2, 'l': 1}\n",
      "('r', 1)\n"
     ]
    }
   ],
   "source": [
    "def letter_dict(str_):\n",
    "    temp = {}\n",
    "\n",
    "    for i in str_:\n",
    "        temp[i] = str_.count(i)\n",
    "        \n",
    "    return temp\n",
    "    \n",
    "def max_letter(dict_): #-> value가 가장큰거\n",
    "    result = max(dict_.)\n",
    "    \n",
    "    return result\n",
    "    \n",
    "a = letter_dict('red apple')\n",
    "print(a)\n",
    "print(max_letter(a))"
   ]
  },
  {
   "cell_type": "code",
   "execution_count": null,
   "metadata": {},
   "outputs": [],
   "source": []
  }
 ],
 "metadata": {
  "kernelspec": {
   "display_name": "Python 3",
   "language": "python",
   "name": "python3"
  },
  "language_info": {
   "codemirror_mode": {
    "name": "ipython",
    "version": 3
   },
   "file_extension": ".py",
   "mimetype": "text/x-python",
   "name": "python",
   "nbconvert_exporter": "python",
   "pygments_lexer": "ipython3",
   "version": "3.7.4"
  }
 },
 "nbformat": 4,
 "nbformat_minor": 2
}
