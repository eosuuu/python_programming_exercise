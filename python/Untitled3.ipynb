{
 "cells": [
  {
   "cell_type": "code",
   "execution_count": 2,
   "metadata": {},
   "outputs": [
    {
     "name": "stdout",
     "output_type": "stream",
     "text": [
      "5 * 8 = 40\n"
     ]
    }
   ],
   "source": [
    "a,b = 5,8\n",
    "result = a * b\n",
    "print(\"%d * %d = %d\" %(a,b,result))"
   ]
  },
  {
   "cell_type": "code",
   "execution_count": 3,
   "metadata": {},
   "outputs": [
    {
     "name": "stdout",
     "output_type": "stream",
     "text": [
      "x : 10, y : 20\n",
      "x : 20, y : 10\n"
     ]
    }
   ],
   "source": [
    "x, y = 10,20\n",
    "print(\"x : %d, y : %d\" %(x,y))\n",
    "z= y\n",
    "y,x = x, z\n",
    "print(\"x : %d, y : %d\" %(x,y))\n"
   ]
  },
  {
   "cell_type": "code",
   "execution_count": 6,
   "metadata": {},
   "outputs": [
    {
     "name": "stdout",
     "output_type": "stream",
     "text": [
      "200300\n",
      "500\n"
     ]
    }
   ],
   "source": [
    "a = 100\n",
    "s1 = \"200\"\n",
    "s2 = \"300\"\n",
    "print(s1 + s2)\n",
    "print(int(s1) + int(s2))"
   ]
  },
  {
   "cell_type": "code",
   "execution_count": 8,
   "metadata": {},
   "outputs": [
    {
     "name": "stdout",
     "output_type": "stream",
     "text": [
      "수학 점수는 90점 이다.\n"
     ]
    }
   ],
   "source": [
    "print (\"수학 점수는 \" + str(90) + \"점 이다.\") "
   ]
  },
  {
   "cell_type": "code",
   "execution_count": 9,
   "metadata": {},
   "outputs": [
    {
     "name": "stdout",
     "output_type": "stream",
     "text": [
      "lifeistoo short\n"
     ]
    }
   ],
   "source": [
    "print (\"life\"+\"is\"+\"too short\")"
   ]
  },
  {
   "cell_type": "code",
   "execution_count": 10,
   "metadata": {},
   "outputs": [
    {
     "name": "stdout",
     "output_type": "stream",
     "text": [
      "pythonpythonpython\n"
     ]
    }
   ],
   "source": [
    "print (\"python\" * 3)"
   ]
  },
  {
   "cell_type": "code",
   "execution_count": 11,
   "metadata": {},
   "outputs": [
    {
     "name": "stdout",
     "output_type": "stream",
     "text": [
      "I eat 3 apples.\n"
     ]
    }
   ],
   "source": [
    "print (\"I eat %d apples.\" % 3)"
   ]
  },
  {
   "cell_type": "code",
   "execution_count": 13,
   "metadata": {},
   "outputs": [
    {
     "name": "stdout",
     "output_type": "stream",
     "text": [
      "I ate 10 apples, so I was sick for three days. \n"
     ]
    }
   ],
   "source": [
    "number = 10\n",
    "day = 'three'\n",
    "print (\"I ate %d apples, so I was sick for %s days. \" % (number, day))"
   ]
  },
  {
   "cell_type": "code",
   "execution_count": 14,
   "metadata": {},
   "outputs": [
    {
     "name": "stdout",
     "output_type": "stream",
     "text": [
      "상품의 가격 입력: 10000\n",
      "상품의 가격은 10000입니다.\n"
     ]
    }
   ],
   "source": [
    "price = int(input(\"상품의 가격 입력: \"))\n",
    "print(\"상품의 가격은 %d입니다.\" %(price))"
   ]
  },
  {
   "cell_type": "code",
   "execution_count": 15,
   "metadata": {},
   "outputs": [
    {
     "data": {
      "text/plain": [
       "6"
      ]
     },
     "execution_count": 15,
     "metadata": {},
     "output_type": "execute_result"
    }
   ],
   "source": [
    "s = 'python'\n",
    "len(s)"
   ]
  },
  {
   "cell_type": "code",
   "execution_count": 16,
   "metadata": {},
   "outputs": [
    {
     "data": {
      "text/plain": [
       "'pos'"
      ]
     },
     "execution_count": 16,
     "metadata": {},
     "output_type": "execute_result"
    }
   ],
   "source": [
    "s = 'Mission Impossible'\n",
    "s[10:13]"
   ]
  },
  {
   "cell_type": "code",
   "execution_count": 19,
   "metadata": {},
   "outputs": [
    {
     "name": "stdout",
     "output_type": "stream",
     "text": [
      "red banana\n",
      "yellow apple\n"
     ]
    }
   ],
   "source": [
    "s1 = \"red apple\"\n",
    "s2 = \"yellow banana\"\n",
    "s3 = s1[0:3] + ' ' + s2[7:]\n",
    "s4 = s2[:6] + ' ' + s1[4:] \n",
    "print(s3)\n",
    "print(s4)\n"
   ]
  },
  {
   "cell_type": "code",
   "execution_count": 20,
   "metadata": {},
   "outputs": [
    {
     "data": {
      "text/plain": [
       "1"
      ]
     },
     "execution_count": 20,
     "metadata": {},
     "output_type": "execute_result"
    }
   ],
   "source": [
    "7%3"
   ]
  },
  {
   "cell_type": "code",
   "execution_count": 21,
   "metadata": {},
   "outputs": [
    {
     "data": {
      "text/plain": [
       "75"
      ]
     },
     "execution_count": 21,
     "metadata": {},
     "output_type": "execute_result"
    }
   ],
   "source": [
    "3 * 5 **2"
   ]
  },
  {
   "cell_type": "code",
   "execution_count": 22,
   "metadata": {},
   "outputs": [
    {
     "name": "stdout",
     "output_type": "stream",
     "text": [
      "화씨온도:100\n",
      "섭씨온도:37.777778\n"
     ]
    }
   ],
   "source": [
    "f = int(input(\"화씨온도:\"))\n",
    "c = (f-32) * 5 / 9\n",
    "print(\"섭씨온도:%f\" %(c))"
   ]
  },
  {
   "cell_type": "code",
   "execution_count": 26,
   "metadata": {},
   "outputs": [
    {
     "name": "stdout",
     "output_type": "stream",
     "text": [
      "투입한 돈 :5000\n",
      "물건값2700\n",
      "거스름돈:2300\n",
      "500원짜리 : 4개\n",
      "100원짜리 : 3개\n"
     ]
    }
   ],
   "source": [
    "insert = int(input(\"투입한 돈 :\"))\n",
    "price = int(input(\"물건값\"))\n",
    "remain = insert - price\n",
    "print(\"거스름돈:%d\" %(remain))\n",
    "coin500 = remain // 500\n",
    "remain %= 500\n",
    "coin100 = remain // 100\n",
    "print(\"500원짜리 : %d개\" %coin500)\n",
    "print(\"100원짜리 : %d개\" %coin100)"
   ]
  },
  {
   "cell_type": "code",
   "execution_count": 28,
   "metadata": {},
   "outputs": [
    {
     "name": "stdout",
     "output_type": "stream",
     "text": [
      "반지름을 입력하시오:5\n",
      "원둘레 :31.40\n",
      "원넓이 :78.50\n"
     ]
    }
   ],
   "source": [
    "dia = int(input(\"반지름을 입력하시오:\"))\n",
    "full = dia * 2 * 3.14\n",
    "square = dia ** 2 * 3.14\n",
    "print(\"원둘레 :%.2f\" %(full))\n",
    "print(\"원넓이 :%.2f\" %(square))"
   ]
  },
  {
   "cell_type": "code",
   "execution_count": 34,
   "metadata": {},
   "outputs": [
    {
     "name": "stdout",
     "output_type": "stream",
     "text": [
      "한 문장을 입력하시오: Python is fun!\n",
      "['P', 'y', 't', 'h', 'o', 'n', ' ', 'i', 's', ' ', 'f', 'u', 'n', '!']\n"
     ]
    }
   ],
   "source": [
    "sentence = input(\"한 문장을 입력하시오: \")\n",
    "name = []\n",
    "for i in sentence:\n",
    "    name.append(i)\n",
    "print(name)\n"
   ]
  },
  {
   "cell_type": "code",
   "execution_count": 39,
   "metadata": {},
   "outputs": [
    {
     "name": "stdout",
     "output_type": "stream",
     "text": [
      "한 문장을 입력하시오: hshdf\n",
      "['h', 's', 'h', 'd', 'f']\n"
     ]
    }
   ],
   "source": [
    "sentence = input(\"한 문장을 입력하시오: \")\n",
    "a = ','\n",
    "b = a.join(sentence)\n",
    "b = b.split(',')\n",
    "name = []\n",
    "for i in b :\n",
    "    name.append(i)\n",
    "print(name)\n"
   ]
  },
  {
   "cell_type": "code",
   "execution_count": 46,
   "metadata": {},
   "outputs": [
    {
     "name": "stdout",
     "output_type": "stream",
     "text": [
      "Enter two integers;8 5\n",
      "8 5\n"
     ]
    }
   ],
   "source": [
    "two = input(\"Enter two integers;\")\n",
    "a,b = two.split()\n",
    "print(a,b)"
   ]
  },
  {
   "cell_type": "code",
   "execution_count": null,
   "metadata": {},
   "outputs": [],
   "source": []
  }
 ],
 "metadata": {
  "kernelspec": {
   "display_name": "Python 3",
   "language": "python",
   "name": "python3"
  },
  "language_info": {
   "codemirror_mode": {
    "name": "ipython",
    "version": 3
   },
   "file_extension": ".py",
   "mimetype": "text/x-python",
   "name": "python",
   "nbconvert_exporter": "python",
   "pygments_lexer": "ipython3",
   "version": "3.7.4"
  }
 },
 "nbformat": 4,
 "nbformat_minor": 2
}
