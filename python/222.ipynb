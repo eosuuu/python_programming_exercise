{
 "cells": [
  {
   "cell_type": "code",
   "execution_count": 4,
   "metadata": {},
   "outputs": [
    {
     "data": {
      "text/plain": [
       "3"
      ]
     },
     "execution_count": 4,
     "metadata": {},
     "output_type": "execute_result"
    }
   ],
   "source": [
    "word = 'banana'\n",
    "word.count('a')"
   ]
  },
  {
   "cell_type": "code",
   "execution_count": 5,
   "metadata": {},
   "outputs": [],
   "source": [
    "s1 = set([1,3,2,41,3,2,4,3,2,1])"
   ]
  },
  {
   "cell_type": "code",
   "execution_count": 6,
   "metadata": {},
   "outputs": [
    {
     "name": "stdout",
     "output_type": "stream",
     "text": [
      "{1, 2, 3, 4, 41}\n"
     ]
    }
   ],
   "source": [
    "print(s1)"
   ]
  },
  {
   "cell_type": "code",
   "execution_count": 10,
   "metadata": {},
   "outputs": [
    {
     "name": "stdout",
     "output_type": "stream",
     "text": [
      "1 2 10 "
     ]
    }
   ],
   "source": [
    "d = {'youn' : 1, 'park' : 2, 'kim' : 10}\n",
    "for x in d :\n",
    "    print(d[x], end=' ')"
   ]
  },
  {
   "cell_type": "code",
   "execution_count": 17,
   "metadata": {},
   "outputs": [
    {
     "name": "stdout",
     "output_type": "stream",
     "text": [
      "Enter a sentence :python is fun!\n",
      "{'p': 1, 'y': 1, 't': 1, 'h': 1, 'o': 1, 'n': 2, ' ': 2, 'i': 1, 's': 1, 'f': 1, 'u': 1, '!': 1}\n"
     ]
    }
   ],
   "source": [
    "sen = input(\"Enter a sentence :\")\n",
    "sen_num = {}\n",
    "\n",
    "for temp in sen : \n",
    "    sen_num[temp] = sen.count(temp)\n",
    "    \n",
    "print(sen_num)"
   ]
  },
  {
   "cell_type": "code",
   "execution_count": 20,
   "metadata": {},
   "outputs": [],
   "source": [
    "f = open(\"new.txt\", \"w\")\n",
    "for i in range(1,6) :\n",
    "    data = \"%d line\\n\" %i\n",
    "    f.write(data)\n",
    "f.close()"
   ]
  },
  {
   "cell_type": "code",
   "execution_count": 21,
   "metadata": {},
   "outputs": [
    {
     "name": "stdout",
     "output_type": "stream",
     "text": [
      "['1 line\\n', '2 line\\n', '3 line\\n', '4 line\\n', '5 line\\n']\n"
     ]
    }
   ],
   "source": [
    "fr = open(\"new.txt\", \"r\")\n",
    "lines = fr.readlines()\n",
    "print(lines)\n",
    "\n",
    "\n",
    "fr.close()"
   ]
  },
  {
   "cell_type": "code",
   "execution_count": 63,
   "metadata": {},
   "outputs": [
    {
     "name": "stdout",
     "output_type": "stream",
     "text": [
      "first 1\n",
      "line 3\n",
      "second 1\n",
      "third 1\n"
     ]
    }
   ],
   "source": [
    "f = open(\"test.txt\", \"r\")\n",
    "word_num = {}\n",
    "data = f.read()\n",
    "new = data.split()\n",
    "\n",
    "for line in new :\n",
    "    if line in word_num :\n",
    "        word_num[line] +=1\n",
    "    else :\n",
    "        word_num[line] = 1\n",
    "\n",
    "for k,v in word_num.items() :\n",
    "    print(k, v)\n",
    "\n",
    "f.close()\n"
   ]
  },
  {
   "cell_type": "code",
   "execution_count": 67,
   "metadata": {},
   "outputs": [
    {
     "name": "stdout",
     "output_type": "stream",
     "text": [
      "Enter a file name :test.txt\n",
      "FIRST LINE\n",
      "SECOND LINE\n",
      "THIRD LINE"
     ]
    }
   ],
   "source": [
    "import os\n",
    "\n",
    "name = input(\"Enter a file name :\")\n",
    "if os.path.exists(name) :\n",
    "    f = open(\"%s\" %name)\n",
    "    for line in f :\n",
    "        print(line.upper(), end='')\n",
    "else : \n",
    "    print(\"not exist\")\n",
    "f.close()"
   ]
  },
  {
   "cell_type": "code",
   "execution_count": 1,
   "metadata": {},
   "outputs": [
    {
     "ename": "FileNotFoundError",
     "evalue": "[Errno 2] No such file or directory: '-f'",
     "output_type": "error",
     "traceback": [
      "\u001b[0;31m---------------------------------------------------------------------------\u001b[0m",
      "\u001b[0;31mFileNotFoundError\u001b[0m                         Traceback (most recent call last)",
      "\u001b[0;32m<ipython-input-1-b8a1a8b2e227>\u001b[0m in \u001b[0;36m<module>\u001b[0;34m\u001b[0m\n\u001b[1;32m      4\u001b[0m \u001b[0mcopy\u001b[0m \u001b[0;34m=\u001b[0m \u001b[0msys\u001b[0m\u001b[0;34m.\u001b[0m\u001b[0margv\u001b[0m\u001b[0;34m[\u001b[0m\u001b[0;36m2\u001b[0m\u001b[0;34m]\u001b[0m\u001b[0;34m\u001b[0m\u001b[0;34m\u001b[0m\u001b[0m\n\u001b[1;32m      5\u001b[0m \u001b[0;34m\u001b[0m\u001b[0m\n\u001b[0;32m----> 6\u001b[0;31m \u001b[0mf\u001b[0m \u001b[0;34m=\u001b[0m \u001b[0mopen\u001b[0m\u001b[0;34m(\u001b[0m\u001b[0;34m\"%s\"\u001b[0m \u001b[0;34m%\u001b[0m\u001b[0mname\u001b[0m\u001b[0;34m,\u001b[0m \u001b[0;34m\"r\"\u001b[0m\u001b[0;34m)\u001b[0m\u001b[0;34m\u001b[0m\u001b[0;34m\u001b[0m\u001b[0m\n\u001b[0m\u001b[1;32m      7\u001b[0m \u001b[0mfr\u001b[0m \u001b[0;34m=\u001b[0m \u001b[0mopen\u001b[0m\u001b[0;34m(\u001b[0m\u001b[0;34m\"%s\"\u001b[0m \u001b[0;34m%\u001b[0m\u001b[0mcopy\u001b[0m\u001b[0;34m,\u001b[0m \u001b[0;34m\"w\"\u001b[0m\u001b[0;34m)\u001b[0m\u001b[0;34m\u001b[0m\u001b[0;34m\u001b[0m\u001b[0m\n\u001b[1;32m      8\u001b[0m \u001b[0;32mfor\u001b[0m \u001b[0mline\u001b[0m \u001b[0;32min\u001b[0m \u001b[0mf\u001b[0m \u001b[0;34m:\u001b[0m\u001b[0;34m\u001b[0m\u001b[0;34m\u001b[0m\u001b[0m\n",
      "\u001b[0;31mFileNotFoundError\u001b[0m: [Errno 2] No such file or directory: '-f'"
     ]
    }
   ],
   "source": [
    "import sys\n",
    "\n",
    "name = sys.argv[1]\n",
    "copy = sys.argv[2]\n",
    "\n",
    "f = open(\"%s\" %name, \"r\")\n",
    "fr = open(\"%s\" %copy, \"w\")\n",
    "for line in f :\n",
    "    fr.write(line)\n",
    "\n",
    "fr.close()\n",
    "f.close()"
   ]
  },
  {
   "cell_type": "code",
   "execution_count": 3,
   "metadata": {},
   "outputs": [
    {
     "name": "stdout",
     "output_type": "stream",
     "text": [
      "6 10\n",
      "6 10\n"
     ]
    }
   ],
   "source": [
    "def my_len(l) :\n",
    "    length = 0\n",
    "    for i in l :\n",
    "        length +=1\n",
    "    \n",
    "    return length\n",
    "\n",
    "a = [5,5,6,7,8,3]\n",
    "b = \"I am a boy\"\n",
    "print(len(a), len(b))\n",
    "print(my_len(a), my_len(b))"
   ]
  },
  {
   "cell_type": "code",
   "execution_count": 4,
   "metadata": {},
   "outputs": [
    {
     "name": "stdout",
     "output_type": "stream",
     "text": [
      "3 -1 2 0.5\n"
     ]
    }
   ],
   "source": [
    "def add(a,b) :\n",
    "    result = a+b\n",
    "    return result\n",
    "def sub(a,b) :\n",
    "    result = a-b\n",
    "    return result\n",
    "def mul(a,b) :\n",
    "    result = a*b\n",
    "    return result\n",
    "def div(a,b) :\n",
    "    if(b == 0) :\n",
    "        print(\"error\")\n",
    "        return\n",
    "    result = a/b\n",
    "    return result\n",
    "\n",
    "a = 1\n",
    "b = 2\n",
    "c = add(a,b)\n",
    "d = sub(a,b)\n",
    "e = mul(a,b)\n",
    "f = div(a,b)\n",
    "\n",
    "print(c,d,e,f)"
   ]
  },
  {
   "cell_type": "code",
   "execution_count": 12,
   "metadata": {},
   "outputs": [
    {
     "name": "stdout",
     "output_type": "stream",
     "text": [
      "6\n",
      "120\n",
      "40320\n",
      "1\n"
     ]
    }
   ],
   "source": [
    "def factorial(n) :\n",
    "    result = 1\n",
    "    for x in range(n) :\n",
    "        result *= (x+1)\n",
    "    return result\n",
    "\n",
    "\n",
    "print(factorial(3))\n",
    "print(factorial(5))\n",
    "print(factorial(8))\n",
    "print(factorial(1))\n"
   ]
  },
  {
   "cell_type": "code",
   "execution_count": 11,
   "metadata": {},
   "outputs": [
    {
     "name": "stdout",
     "output_type": "stream",
     "text": [
      "125\n",
      "16\n",
      "16\n"
     ]
    }
   ],
   "source": [
    "def pow(n, a) :\n",
    "    result = 1\n",
    "    for i in range(a) :\n",
    "        result *= n\n",
    "    return result\n",
    "    \n",
    "print(pow(5,3))\n",
    "print(pow(4,2))\n",
    "print(pow(2,4))"
   ]
  },
  {
   "cell_type": "code",
   "execution_count": 2,
   "metadata": {},
   "outputs": [
    {
     "name": "stdout",
     "output_type": "stream",
     "text": [
      "13는 소수입니다.\n",
      "15는 소수가 아닙니다.\n"
     ]
    }
   ],
   "source": [
    "def check_prime(num) :\n",
    "    result = 0\n",
    "    for x in range(1,num+1):\n",
    "        if num % x == 0 :\n",
    "            result += 1\n",
    "            \n",
    "    if result == 2 :\n",
    "        return True\n",
    "    else :\n",
    "        return False\n",
    "    \n",
    "def main():\n",
    "    a = 13\n",
    "    b = 15\n",
    "    if check_prime(a) :\n",
    "        print(str(a) + '는 소수입니다.')\n",
    "    else :\n",
    "        print(str(a) + '는 소수가 아닙니다.')\n",
    "    \n",
    "    if check_prime(b) :\n",
    "        print(str(b) + '는 소수입니다.')\n",
    "    else :\n",
    "        print(str(b) + '는 소수가 아닙니다.')\n",
    "\n",
    "main()"
   ]
  },
  {
   "cell_type": "code",
   "execution_count": 148,
   "metadata": {},
   "outputs": [
    {
     "name": "stdout",
     "output_type": "stream",
     "text": [
      "1,234\n",
      "12,345,678\n",
      "12\n"
     ]
    }
   ],
   "source": [
    "def add_comma(val) :\n",
    "    val = list(str(val))\n",
    "    string = ''\n",
    "    temp = 0\n",
    "    for i in range(len(val)-1, -1, -1):\n",
    "        temp +=1\n",
    "        if(temp % 3 == 0):\n",
    "            if( i != 0):\n",
    "                val.insert(i, ',')\n",
    "    for x in val:\n",
    "        string +=x\n",
    "        \n",
    "    return string\n",
    "    \n",
    "    \n",
    "def main() :\n",
    "    comma_added_1234 = add_comma(1234)\n",
    "    comma_added_12345678 = add_comma(12345678)\n",
    "    comma_added_12 = add_comma(12)\n",
    "    \n",
    "    print(comma_added_1234)\n",
    "    print(comma_added_12345678) \n",
    "    print(comma_added_12)\n",
    "\n",
    "main()\n",
    "\n"
   ]
  },
  {
   "cell_type": "code",
   "execution_count": 150,
   "metadata": {},
   "outputs": [
    {
     "name": "stdout",
     "output_type": "stream",
     "text": [
      "['There', 'was', 'a', 'farmer', 'who', 'had', 'a', 'dog', '.']\n",
      "['There was', 'was a', 'a farmer', 'farmer who', 'who had', 'had a', 'a dog', 'dog .']\n"
     ]
    }
   ],
   "source": [
    "def tokenize(trg, N=1) :\n",
    "    trg = trg.split()\n",
    "    temp = ''\n",
    "    result = []\n",
    "    \n",
    "    for i in range(len(trg)):\n",
    "        temp = ''\n",
    "        for x in range(N):\n",
    "            if i + N > len(trg):\n",
    "                break\n",
    "            if i+x < len(trg) and x != N-1:\n",
    "                temp += trg[i+x]\n",
    "                temp += ' '\n",
    "            elif i+x < len(trg) and x == N-1:\n",
    "                temp += trg[i+x]\n",
    "            else :\n",
    "                break\n",
    "                \n",
    "        if temp != '':\n",
    "            result.append(temp)\n",
    "    \n",
    "    return result\n",
    "\n",
    "def main():\n",
    "    a = \"There was a farmer who had a dog .\"\n",
    "    print(tokenize(a))\n",
    "    print(tokenize(a,2))\n",
    "\n",
    "main()"
   ]
  },
  {
   "cell_type": "code",
   "execution_count": 151,
   "metadata": {},
   "outputs": [
    {
     "name": "stdout",
     "output_type": "stream",
     "text": [
      "평균 : [0.5, 0.5] 분산:  [0.1667, 0.1667]\n"
     ]
    }
   ],
   "source": [
    "def mean_and_var(*val):\n",
    "    sum_x = []\n",
    "    sum_y = []\n",
    "    var_x = []\n",
    "    var_y = []\n",
    "\n",
    "    for a,b in val:\n",
    "        sum_x.append(a)\n",
    "        sum_y.append(b)\n",
    "    \n",
    "    \n",
    "    mx = sum(sum_x)/len(val)\n",
    "    my = sum(sum_y)/len(val)\n",
    "    m = [mx,my]\n",
    "    \n",
    "    \n",
    "    for c,d in val:\n",
    "        var_x.append((c-mx) ** 2)\n",
    "        var_y.append((d-my) ** 2)\n",
    "        \n",
    "    varx = round(sum(var_x) / len(val),4)\n",
    "    vary = round(sum(var_y) / len(val),4)\n",
    "    var = [varx,vary]\n",
    "    return m ,var\n",
    "        \n",
    "    \n",
    "def main():\n",
    "    v1 = (0,1)\n",
    "    v2 = (0.5,0.5)\n",
    "    v3 = (1,0)\n",
    "    \n",
    "    m,var = mean_and_var(v1, v2, v3)\n",
    "    print(\"평균 :\", m, \"분산: \", var)\n",
    "\n",
    "main()"
   ]
  },
  {
   "cell_type": "code",
   "execution_count": 1,
   "metadata": {},
   "outputs": [
    {
     "name": "stdout",
     "output_type": "stream",
     "text": [
      "[1, 2, 3, 4, 5, 6]\n",
      "[1, 2, 3, 4, 5, 6]\n"
     ]
    }
   ],
   "source": [
    "t = [1,2,3]\n",
    "\n",
    "def test(a):\n",
    "    a += [4,5,6]\n",
    "    return a;\n",
    "\n",
    "print(test(t))\n",
    "print(t)"
   ]
  },
  {
   "cell_type": "code",
   "execution_count": 153,
   "metadata": {},
   "outputs": [
    {
     "ename": "SyntaxError",
     "evalue": "invalid syntax (<ipython-input-153-f0c6241994e9>, line 2)",
     "output_type": "error",
     "traceback": [
      "\u001b[0;36m  File \u001b[0;32m\"<ipython-input-153-f0c6241994e9>\"\u001b[0;36m, line \u001b[0;32m2\u001b[0m\n\u001b[0;31m    def__repr__(self):\u001b[0m\n\u001b[0m                      ^\u001b[0m\n\u001b[0;31mSyntaxError\u001b[0m\u001b[0;31m:\u001b[0m invalid syntax\n"
     ]
    }
   ],
   "source": [
    "#객체 출력\n",
    "def__repr__(self):\n",
    "    return self.balace"
   ]
  },
  {
   "cell_type": "code",
   "execution_count": 154,
   "metadata": {},
   "outputs": [],
   "source": [
    "def dot_product(v1,v2):\n",
    "    return sum(v1[k] * v2[k] for k in v1 if k in v2)\n",
    "\n"
   ]
  },
  {
   "cell_type": "code",
   "execution_count": 4,
   "metadata": {},
   "outputs": [
    {
     "name": "stdout",
     "output_type": "stream",
     "text": [
      "0 a d\n",
      "1 b e\n",
      "2 c f\n"
     ]
    }
   ],
   "source": [
    "for i, (a,b) in enumerate(zip(['a','b','c'], ['d','e','f'])):\n",
    "    print(i, a, b)"
   ]
  },
  {
   "cell_type": "code",
   "execution_count": 8,
   "metadata": {},
   "outputs": [
    {
     "name": "stdout",
     "output_type": "stream",
     "text": [
      "{'one': 1, 'two': 2, 'three': 3, 'four': 4}\n"
     ]
    }
   ],
   "source": [
    "L1 = ['one', 'two', 'three', 'four']\n",
    "L2 = [1, 2, 3, 4]\n",
    "dic = {}\n",
    "new = zip(L1, L2)\n",
    "for a,b in new :\n",
    "    dic[a] = b\n",
    "print(dic)"
   ]
  },
  {
   "cell_type": "code",
   "execution_count": null,
   "metadata": {},
   "outputs": [],
   "source": []
  }
 ],
 "metadata": {
  "kernelspec": {
   "display_name": "Python 3",
   "language": "python",
   "name": "python3"
  },
  "language_info": {
   "codemirror_mode": {
    "name": "ipython",
    "version": 3
   },
   "file_extension": ".py",
   "mimetype": "text/x-python",
   "name": "python",
   "nbconvert_exporter": "python",
   "pygments_lexer": "ipython3",
   "version": "3.7.4"
  }
 },
 "nbformat": 4,
 "nbformat_minor": 2
}
