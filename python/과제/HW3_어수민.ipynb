{
 "cells": [
  {
   "cell_type": "markdown",
   "metadata": {},
   "source": [
    "# 실습지 3\n",
    "# 문제1\n",
    " for 문을 사용하여 딕셔너리 타입의 d의 모든 value를 출력해 보시오. "
   ]
  },
  {
   "cell_type": "code",
   "execution_count": 1,
   "metadata": {},
   "outputs": [
    {
     "name": "stdout",
     "output_type": "stream",
     "text": [
      "1 2 10 "
     ]
    }
   ],
   "source": [
    "d = {'youn' : 1, 'park' : 2, 'kim' : 10}\n",
    "for x in d :\n",
    "    print(d[x], end=' ')"
   ]
  },
  {
   "cell_type": "markdown",
   "metadata": {},
   "source": [
    "# 문제2\n",
    "아래와 같은 딕셔너리가 있다. <br>\n",
    "{'one':1, 'two':2, 'three':3, 'four':4, 'five':5} <br> \n",
    "key의 알파벳을 기준으로 순서대로 아래와 같이 (key, value)로 출력하시오.<br>"
   ]
  },
  {
   "cell_type": "code",
   "execution_count": 13,
   "metadata": {},
   "outputs": [
    {
     "name": "stdout",
     "output_type": "stream",
     "text": [
      "five 5\n",
      "four 4\n",
      "one 1\n",
      "three 3\n",
      "two 2\n"
     ]
    }
   ],
   "source": [
    "alpha = {'one':1, 'two':2, 'three':3, 'four':4, 'five':5}\n",
    "temp = []\n",
    "for k in alpha.keys() :\n",
    "    temp.append(k)\n",
    "temp.sort()\n",
    "\n",
    "for sorted_k in temp :\n",
    "    print(sorted_k, alpha[sorted_k])\n"
   ]
  },
  {
   "cell_type": "markdown",
   "metadata": {},
   "source": [
    "# 문제3\n",
    "어떤 문장을 입력 받으면 해당 문장에서 각 알파벳이 몇 개씩 나오는지 저장하는 딕셔너리를 만든 후, 아래와 같이 출력하시오."
   ]
  },
  {
   "cell_type": "code",
   "execution_count": 21,
   "metadata": {},
   "outputs": [
    {
     "name": "stdout",
     "output_type": "stream",
     "text": [
      "Enter a sentence :python is fun!!\n",
      "{'s': 1, 'n': 2, 't': 1, '!': 2, ' ': 2, 'y': 1, 'o': 1, 'i': 1, 'h': 1, 'p': 1, 'f': 1, 'u': 1}\n"
     ]
    }
   ],
   "source": [
    "sen = input(\"Enter a sentence :\")\n",
    "sen_num = {}\n",
    "\n",
    "for temp in set(sen) : \n",
    "    sen_num[temp] = sen.count(temp)\n",
    "    \n",
    "    \n",
    "print(sen_num)"
   ]
  },
  {
   "cell_type": "markdown",
   "metadata": {},
   "source": [
    "# 실습지4\n",
    "# 문제 1\n",
    "파일에 있는 각각의 단어 수 구하기\n"
   ]
  },
  {
   "cell_type": "code",
   "execution_count": 22,
   "metadata": {},
   "outputs": [
    {
     "name": "stdout",
     "output_type": "stream",
     "text": [
      "first 1\n",
      "line 3\n",
      "second 1\n",
      "third 1\n"
     ]
    }
   ],
   "source": [
    "f = open(\"test.txt\", \"r\")\n",
    "word_num = {}\n",
    "data = f.read()\n",
    "new = data.split()\n",
    "\n",
    "for line in new :\n",
    "    if line in word_num :\n",
    "        word_num[line] +=1\n",
    "    else :\n",
    "        word_num[line] = 1\n",
    "\n",
    "for k,v in word_num.items() :\n",
    "    print(k, v)\n",
    "\n",
    "f.close()"
   ]
  },
  {
   "cell_type": "markdown",
   "metadata": {},
   "source": [
    "# 문제2\n",
    "파일명을 입력 받아, 해당 파일을 한 줄씩 읽어 파일의 내용을 모두 대문자로 출력하는 프로그램을 작성하시오."
   ]
  },
  {
   "cell_type": "code",
   "execution_count": 23,
   "metadata": {},
   "outputs": [
    {
     "name": "stdout",
     "output_type": "stream",
     "text": [
      "Enter a file name :test.txt\n",
      "FIRST LINE\n",
      "SECOND LINE\n",
      "THIRD LINE"
     ]
    }
   ],
   "source": [
    "import os\n",
    "\n",
    "name = input(\"Enter a file name :\")\n",
    "if os.path.exists(name) :\n",
    "    f = open(\"%s\" %name)\n",
    "    for line in f :\n",
    "        print(line.upper(), end='')\n",
    "else : \n",
    "    print(\"not exist\")\n",
    "f.close()"
   ]
  },
  {
   "cell_type": "markdown",
   "metadata": {},
   "source": [
    "# 문제4\n",
    " 아래의 score.txt를 읽어서 학생들의 성적을 처리하여 그 결과를 report.txt로 출력하는 프로그램을 작성하시오."
   ]
  },
  {
   "cell_type": "code",
   "execution_count": 16,
   "metadata": {},
   "outputs": [],
   "source": [
    "f = open(\"score.txt\", \"r\")\n",
    "fr = open(\"report.txt\", \"w\")\n",
    "\n",
    "for line in f : \n",
    "    stuID, mid, fin = line.split()\n",
    "    result = int(mid) * 0.4 + int(fin) * 0.6\n",
    "    if result >= 90 :\n",
    "        grade = \"(A)\"\n",
    "    elif result >= 80 and result < 90 :\n",
    "        grade = \"(B)\"\n",
    "    elif result >= 70 and result < 80 :\n",
    "        grade = \"(C)\"\n",
    "    elif result >= 60 and result < 70 :\n",
    "        grade = \"(D)\"\n",
    "    else : \n",
    "        grade = \"(F)\"\n",
    "    answer = \"%s %s %s %.1f%s\\n\" %(stuID, mid, fin, result, grade) \n",
    "    fr.write(answer)\n",
    "\n",
    "fr.close()\n",
    "f.close()"
   ]
  },
  {
   "cell_type": "code",
   "execution_count": null,
   "metadata": {},
   "outputs": [],
   "source": []
  }
 ],
 "metadata": {
  "kernelspec": {
   "display_name": "Python 3",
   "language": "python",
   "name": "python3"
  },
  "language_info": {
   "codemirror_mode": {
    "name": "ipython",
    "version": 3
   },
   "file_extension": ".py",
   "mimetype": "text/x-python",
   "name": "python",
   "nbconvert_exporter": "python",
   "pygments_lexer": "ipython3",
   "version": "3.7.4"
  }
 },
 "nbformat": 4,
 "nbformat_minor": 2
}
