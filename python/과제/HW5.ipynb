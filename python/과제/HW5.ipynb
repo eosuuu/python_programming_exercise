{
 "cells": [
  {
   "cell_type": "markdown",
   "metadata": {},
   "source": [
    "# numpy실습\n",
    "# 과제3\n",
    "and_op.py"
   ]
  },
  {
   "cell_type": "code",
   "execution_count": 2,
   "metadata": {},
   "outputs": [
    {
     "name": "stdout",
     "output_type": "stream",
     "text": [
      "w : [[0.72615293 0.29388834]\n",
      " [0.81819198 0.44727292]]\n",
      "b : [0.46522025 0.3074172 ]\n",
      "[0, 0, 0, 1]\n",
      "f(W · x0 + b) = 0\n",
      "f(W · x1 + b) = 0\n",
      "f(W · x2 + b) = 0\n",
      "f(W · x3 + b) = 1\n"
     ]
    }
   ],
   "source": [
    "import numpy as np\n",
    "\n",
    "x1 = np.array([0,0])\n",
    "x2 = np.array([0,1])\n",
    "x3 = np.array([1,0])\n",
    "x4 = np.array([1,1])\n",
    "x_list = [x1, x2, x3, x4]\n",
    "values = []\n",
    "true = [0,0,0,1]\n",
    "\n",
    "while True:\n",
    "    w = np.random.random((2,2))\n",
    "    b = np.random.random((2,))\n",
    "    for i in x_list:\n",
    "        result = w.dot(i) + b\n",
    "        value = np.argmax(result)\n",
    "        values.append(value)\n",
    "    if values == true :\n",
    "        break\n",
    "    values = []\n",
    "    \n",
    "\n",
    "\n",
    "print(\"w :\",w)\n",
    "print(\"b :\",b)\n",
    "print(values)\n",
    "\n",
    "num = 0 \n",
    "for i in x_list:\n",
    "    result = w.dot(i) + b\n",
    "    value = np.argmax(result)\n",
    "    print(\"f(W · x%d + b) = %d\" %(num,value))\n",
    "    num +=1\n",
    "\n",
    "\n"
   ]
  },
  {
   "cell_type": "code",
   "execution_count": null,
   "metadata": {},
   "outputs": [],
   "source": []
  }
 ],
 "metadata": {
  "kernelspec": {
   "display_name": "Python 3",
   "language": "python",
   "name": "python3"
  },
  "language_info": {
   "codemirror_mode": {
    "name": "ipython",
    "version": 3
   },
   "file_extension": ".py",
   "mimetype": "text/x-python",
   "name": "python",
   "nbconvert_exporter": "python",
   "pygments_lexer": "ipython3",
   "version": "3.7.4"
  }
 },
 "nbformat": 4,
 "nbformat_minor": 2
}
