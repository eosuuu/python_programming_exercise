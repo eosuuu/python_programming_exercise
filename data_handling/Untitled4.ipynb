{
 "cells": [
  {
   "cell_type": "code",
   "execution_count": 1,
   "metadata": {},
   "outputs": [],
   "source": [
    "import pandas as pd\n",
    "import matplotlib.pyplot as plt\n",
    "import matplotlib\n",
    "import numpy as np\n",
    "\n",
    "from sklearn.tree import export_graphviz\n",
    "\n",
    "import graphviz\n",
    "\n",
    "\n",
    "from sklearn.model_selection import train_test_split\n",
    "\n",
    "from sklearn.tree import DecisionTreeRegressor\n",
    "from sklearn.model_selection import GridSearchCV\n",
    "from sklearn.ensemble import RandomForestRegressor\n",
    "from sklearn.ensemble import GradientBoostingRegressor\n",
    "\n",
    "import statsmodels.formula.api as smf\n",
    "from sklearn.metrics import mean_squared_error\n",
    "from sklearn.metrics import mean_absolute_error\n"
   ]
  },
  {
   "cell_type": "code",
   "execution_count": 2,
   "metadata": {},
   "outputs": [],
   "source": [
    "def root_mean_squared_error(y_true, y_pred):\n",
    "    return np.sqrt(mean_squared_error(y_true, y_pred))\n",
    "\n",
    "def mean_absolute_percentage_error(y_true, y_pred):\n",
    "    return np.mean(np.abs((y_true - y_pred) / y_true)) * 100\n",
    "\n",
    "\n"
   ]
  },
  {
   "cell_type": "code",
   "execution_count": 3,
   "metadata": {
    "scrolled": true
   },
   "outputs": [
    {
     "data": {
      "text/html": [
       "<div>\n",
       "<style scoped>\n",
       "    .dataframe tbody tr th:only-of-type {\n",
       "        vertical-align: middle;\n",
       "    }\n",
       "\n",
       "    .dataframe tbody tr th {\n",
       "        vertical-align: top;\n",
       "    }\n",
       "\n",
       "    .dataframe thead th {\n",
       "        text-align: right;\n",
       "    }\n",
       "</style>\n",
       "<table border=\"1\" class=\"dataframe\">\n",
       "  <thead>\n",
       "    <tr style=\"text-align: right;\">\n",
       "      <th></th>\n",
       "      <th>Y</th>\n",
       "      <th>AGE</th>\n",
       "      <th>GENDER</th>\n",
       "      <th>BMI</th>\n",
       "      <th>BP</th>\n",
       "      <th>CHOLESTEROL</th>\n",
       "      <th>LDL</th>\n",
       "      <th>HDL</th>\n",
       "      <th>TCH</th>\n",
       "      <th>LTG</th>\n",
       "      <th>GLUCOSE</th>\n",
       "    </tr>\n",
       "  </thead>\n",
       "  <tbody>\n",
       "    <tr>\n",
       "      <td>0</td>\n",
       "      <td>151</td>\n",
       "      <td>59</td>\n",
       "      <td>2</td>\n",
       "      <td>32.1</td>\n",
       "      <td>101.00</td>\n",
       "      <td>157</td>\n",
       "      <td>93.2</td>\n",
       "      <td>38.0</td>\n",
       "      <td>4.00</td>\n",
       "      <td>4.8598</td>\n",
       "      <td>87</td>\n",
       "    </tr>\n",
       "    <tr>\n",
       "      <td>1</td>\n",
       "      <td>75</td>\n",
       "      <td>48</td>\n",
       "      <td>1</td>\n",
       "      <td>21.6</td>\n",
       "      <td>87.00</td>\n",
       "      <td>183</td>\n",
       "      <td>103.2</td>\n",
       "      <td>70.0</td>\n",
       "      <td>3.00</td>\n",
       "      <td>3.8918</td>\n",
       "      <td>69</td>\n",
       "    </tr>\n",
       "    <tr>\n",
       "      <td>2</td>\n",
       "      <td>141</td>\n",
       "      <td>72</td>\n",
       "      <td>2</td>\n",
       "      <td>30.5</td>\n",
       "      <td>93.00</td>\n",
       "      <td>156</td>\n",
       "      <td>93.6</td>\n",
       "      <td>41.0</td>\n",
       "      <td>4.00</td>\n",
       "      <td>4.6728</td>\n",
       "      <td>85</td>\n",
       "    </tr>\n",
       "    <tr>\n",
       "      <td>3</td>\n",
       "      <td>206</td>\n",
       "      <td>24</td>\n",
       "      <td>1</td>\n",
       "      <td>25.3</td>\n",
       "      <td>84.00</td>\n",
       "      <td>198</td>\n",
       "      <td>131.4</td>\n",
       "      <td>40.0</td>\n",
       "      <td>5.00</td>\n",
       "      <td>4.8903</td>\n",
       "      <td>89</td>\n",
       "    </tr>\n",
       "    <tr>\n",
       "      <td>4</td>\n",
       "      <td>135</td>\n",
       "      <td>50</td>\n",
       "      <td>1</td>\n",
       "      <td>23.0</td>\n",
       "      <td>101.00</td>\n",
       "      <td>192</td>\n",
       "      <td>125.4</td>\n",
       "      <td>52.0</td>\n",
       "      <td>4.00</td>\n",
       "      <td>4.2905</td>\n",
       "      <td>80</td>\n",
       "    </tr>\n",
       "    <tr>\n",
       "      <td>...</td>\n",
       "      <td>...</td>\n",
       "      <td>...</td>\n",
       "      <td>...</td>\n",
       "      <td>...</td>\n",
       "      <td>...</td>\n",
       "      <td>...</td>\n",
       "      <td>...</td>\n",
       "      <td>...</td>\n",
       "      <td>...</td>\n",
       "      <td>...</td>\n",
       "      <td>...</td>\n",
       "    </tr>\n",
       "    <tr>\n",
       "      <td>437</td>\n",
       "      <td>178</td>\n",
       "      <td>60</td>\n",
       "      <td>2</td>\n",
       "      <td>28.2</td>\n",
       "      <td>112.00</td>\n",
       "      <td>185</td>\n",
       "      <td>113.8</td>\n",
       "      <td>42.0</td>\n",
       "      <td>4.00</td>\n",
       "      <td>4.9836</td>\n",
       "      <td>93</td>\n",
       "    </tr>\n",
       "    <tr>\n",
       "      <td>438</td>\n",
       "      <td>104</td>\n",
       "      <td>47</td>\n",
       "      <td>2</td>\n",
       "      <td>24.9</td>\n",
       "      <td>75.00</td>\n",
       "      <td>225</td>\n",
       "      <td>166.0</td>\n",
       "      <td>42.0</td>\n",
       "      <td>5.00</td>\n",
       "      <td>4.4427</td>\n",
       "      <td>102</td>\n",
       "    </tr>\n",
       "    <tr>\n",
       "      <td>439</td>\n",
       "      <td>132</td>\n",
       "      <td>60</td>\n",
       "      <td>2</td>\n",
       "      <td>24.9</td>\n",
       "      <td>99.67</td>\n",
       "      <td>162</td>\n",
       "      <td>106.6</td>\n",
       "      <td>43.0</td>\n",
       "      <td>3.77</td>\n",
       "      <td>4.1271</td>\n",
       "      <td>95</td>\n",
       "    </tr>\n",
       "    <tr>\n",
       "      <td>440</td>\n",
       "      <td>220</td>\n",
       "      <td>36</td>\n",
       "      <td>1</td>\n",
       "      <td>30.0</td>\n",
       "      <td>95.00</td>\n",
       "      <td>201</td>\n",
       "      <td>125.2</td>\n",
       "      <td>42.0</td>\n",
       "      <td>4.79</td>\n",
       "      <td>5.1299</td>\n",
       "      <td>85</td>\n",
       "    </tr>\n",
       "    <tr>\n",
       "      <td>441</td>\n",
       "      <td>57</td>\n",
       "      <td>36</td>\n",
       "      <td>1</td>\n",
       "      <td>19.6</td>\n",
       "      <td>71.00</td>\n",
       "      <td>250</td>\n",
       "      <td>133.2</td>\n",
       "      <td>97.0</td>\n",
       "      <td>3.00</td>\n",
       "      <td>4.5951</td>\n",
       "      <td>92</td>\n",
       "    </tr>\n",
       "  </tbody>\n",
       "</table>\n",
       "<p>442 rows × 11 columns</p>\n",
       "</div>"
      ],
      "text/plain": [
       "       Y  AGE  GENDER   BMI      BP  CHOLESTEROL    LDL   HDL   TCH     LTG  \\\n",
       "0    151   59       2  32.1  101.00          157   93.2  38.0  4.00  4.8598   \n",
       "1     75   48       1  21.6   87.00          183  103.2  70.0  3.00  3.8918   \n",
       "2    141   72       2  30.5   93.00          156   93.6  41.0  4.00  4.6728   \n",
       "3    206   24       1  25.3   84.00          198  131.4  40.0  5.00  4.8903   \n",
       "4    135   50       1  23.0  101.00          192  125.4  52.0  4.00  4.2905   \n",
       "..   ...  ...     ...   ...     ...          ...    ...   ...   ...     ...   \n",
       "437  178   60       2  28.2  112.00          185  113.8  42.0  4.00  4.9836   \n",
       "438  104   47       2  24.9   75.00          225  166.0  42.0  5.00  4.4427   \n",
       "439  132   60       2  24.9   99.67          162  106.6  43.0  3.77  4.1271   \n",
       "440  220   36       1  30.0   95.00          201  125.2  42.0  4.79  5.1299   \n",
       "441   57   36       1  19.6   71.00          250  133.2  97.0  3.00  4.5951   \n",
       "\n",
       "     GLUCOSE  \n",
       "0         87  \n",
       "1         69  \n",
       "2         85  \n",
       "3         89  \n",
       "4         80  \n",
       "..       ...  \n",
       "437       93  \n",
       "438      102  \n",
       "439       95  \n",
       "440       85  \n",
       "441       92  \n",
       "\n",
       "[442 rows x 11 columns]"
      ]
     },
     "execution_count": 3,
     "metadata": {},
     "output_type": "execute_result"
    }
   ],
   "source": [
    "df = pd.read_csv(\"DIABETES.csv\", engine='python')\n",
    "df"
   ]
  },
  {
   "cell_type": "code",
   "execution_count": 15,
   "metadata": {},
   "outputs": [
    {
     "data": {
      "text/html": [
       "<div>\n",
       "<style scoped>\n",
       "    .dataframe tbody tr th:only-of-type {\n",
       "        vertical-align: middle;\n",
       "    }\n",
       "\n",
       "    .dataframe tbody tr th {\n",
       "        vertical-align: top;\n",
       "    }\n",
       "\n",
       "    .dataframe thead th {\n",
       "        text-align: right;\n",
       "    }\n",
       "</style>\n",
       "<table border=\"1\" class=\"dataframe\">\n",
       "  <thead>\n",
       "    <tr style=\"text-align: right;\">\n",
       "      <th></th>\n",
       "      <th>Y</th>\n",
       "      <th>AGE</th>\n",
       "      <th>GENDER</th>\n",
       "      <th>BMI</th>\n",
       "      <th>BP</th>\n",
       "      <th>CHOLESTEROL</th>\n",
       "      <th>LDL</th>\n",
       "      <th>HDL</th>\n",
       "      <th>TCH</th>\n",
       "      <th>LTG</th>\n",
       "      <th>GLUCOSE</th>\n",
       "    </tr>\n",
       "  </thead>\n",
       "  <tbody>\n",
       "  </tbody>\n",
       "</table>\n",
       "</div>"
      ],
      "text/plain": [
       "Empty DataFrame\n",
       "Columns: [Y, AGE, GENDER, BMI, BP, CHOLESTEROL, LDL, HDL, TCH, LTG, GLUCOSE]\n",
       "Index: []"
      ]
     },
     "execution_count": 15,
     "metadata": {},
     "output_type": "execute_result"
    }
   ],
   "source": [
    "df[df['Y']==0]"
   ]
  },
  {
   "cell_type": "code",
   "execution_count": 4,
   "metadata": {},
   "outputs": [
    {
     "name": "stdout",
     "output_type": "stream",
     "text": [
      "train data X size :  (309, 10)\n",
      "train data Y size :  (309,)\n",
      "test data X size :  (133, 10)\n",
      "test data Y size :  (133, 10)\n"
     ]
    }
   ],
   "source": [
    "df_y = df['Y']\n",
    "df_x = df.drop('Y', axis=1, inplace=False)\n",
    "\n",
    "df_train_x, df_test_x, df_train_y, df_test_y = train_test_split(df_x, df_y, test_size =0.3, random_state=1234)\n",
    "print(\"train data X size : \", df_train_x.shape)\n",
    "print(\"train data Y size : \", df_train_y.shape)\n",
    "print(\"test data X size : \" ,df_test_x.shape)\n",
    "print(\"test data Y size : \" ,df_test_x.shape)"
   ]
  },
  {
   "cell_type": "code",
   "execution_count": 5,
   "metadata": {
    "scrolled": true
   },
   "outputs": [
    {
     "name": "stdout",
     "output_type": "stream",
     "text": [
      "                            OLS Regression Results                            \n",
      "==============================================================================\n",
      "Dep. Variable:                      Y   R-squared:                       0.498\n",
      "Model:                            OLS   Adj. R-squared:                  0.492\n",
      "Method:                 Least Squares   F-statistic:                     86.44\n",
      "Date:                Thu, 06 Feb 2020   Prob (F-statistic):           5.32e-63\n",
      "Time:                        13:50:46   Log-Likelihood:                -2394.9\n",
      "No. Observations:                 442   AIC:                             4802.\n",
      "Df Residuals:                     436   BIC:                             4826.\n",
      "Df Model:                           5                                         \n",
      "Covariance Type:            nonrobust                                         \n",
      "===============================================================================\n",
      "                  coef    std err          t      P>|t|      [0.025      0.975]\n",
      "-------------------------------------------------------------------------------\n",
      "Intercept    -305.1079     27.522    -11.086      0.000    -359.200    -251.015\n",
      "BMI             6.2049      0.702      8.842      0.000       4.826       7.584\n",
      "BP              0.9591      0.214      4.481      0.000       0.538       1.380\n",
      "CHOLESTEROL    -0.3550      0.094     -3.785      0.000      -0.539      -0.171\n",
      "TCH             6.2654      2.793      2.243      0.025       0.775      11.755\n",
      "LTG            52.6665      7.043      7.478      0.000      38.824      66.509\n",
      "==============================================================================\n",
      "Omnibus:                        6.009   Durbin-Watson:                   2.020\n",
      "Prob(Omnibus):                  0.050   Jarque-Bera (JB):                4.610\n",
      "Skew:                           0.137   Prob(JB):                       0.0997\n",
      "Kurtosis:                       2.582   Cond. No.                     2.30e+03\n",
      "==============================================================================\n",
      "\n",
      "Warnings:\n",
      "[1] Standard Errors assume that the covariance matrix of the errors is correctly specified.\n",
      "[2] The condition number is large, 2.3e+03. This might indicate that there are\n",
      "strong multicollinearity or other numerical problems.\n"
     ]
    }
   ],
   "source": [
    "lr_model = smf.ols(formula=\"Y ~ BMI+BP+CHOLESTEROL+TCH+LTG\", data = df)\n",
    "lr_result = lr_model.fit()\n",
    "print(lr_result.summary())"
   ]
  },
  {
   "cell_type": "code",
   "execution_count": 6,
   "metadata": {},
   "outputs": [
    {
     "data": {
      "text/plain": [
       "GradientBoostingRegressor(alpha=0.9, criterion='friedman_mse', init=None,\n",
       "                          learning_rate=0.1, loss='ls', max_depth=5,\n",
       "                          max_features=None, max_leaf_nodes=None,\n",
       "                          min_impurity_decrease=0.0, min_impurity_split=None,\n",
       "                          min_samples_leaf=10, min_samples_split=22,\n",
       "                          min_weight_fraction_leaf=0.0, n_estimators=25,\n",
       "                          n_iter_no_change=None, presort='auto',\n",
       "                          random_state=1234, subsample=1.0, tol=0.0001,\n",
       "                          validation_fraction=0.1, verbose=0, warm_start=False)"
      ]
     },
     "execution_count": 6,
     "metadata": {},
     "output_type": "execute_result"
    }
   ],
   "source": [
    "dt_model = DecisionTreeRegressor(random_state=1234, min_samples_leaf=21, min_samples_split=52, max_depth=5)\n",
    "dt_model.fit(df_train_x, df_train_y)\n",
    "\n",
    "rf_model = RandomForestRegressor(random_state=1234, n_estimators=120, min_samples_leaf=12, min_samples_split=24\n",
    "                               , max_depth=4)\n",
    "rf_model.fit(df_train_x, df_train_y)\n",
    "\n",
    "gb_model = GradientBoostingRegressor(random_state=1234, n_estimators=25, min_samples_leaf=10,\n",
    "                                    min_samples_split=22, max_depth=5, learning_rate=0.1)\n",
    "gb_model.fit(df_train_x, df_train_y)"
   ]
  },
  {
   "cell_type": "code",
   "execution_count": 7,
   "metadata": {},
   "outputs": [],
   "source": [
    "models = ['회귀분석', '의사결정나무', '랜덤포레스트', '그래디언트부스팅']\n",
    "mse, rmse, mae, mape = [],[],[],[]\n",
    "\n",
    "#회귀분석\n",
    "lr_y_pred = lr_result.predict(df_test_x)\n",
    "mse.append(mean_squared_error(df_test_y, lr_y_pred))\n",
    "rmse.append(root_mean_squared_error(df_test_y, lr_y_pred))\n",
    "mae.append(mean_absolute_error(df_test_y,lr_y_pred))\n",
    "mape.append(mean_absolute_percentage_error(df_test_y, lr_y_pred))\n",
    "\n",
    "\n"
   ]
  },
  {
   "cell_type": "code",
   "execution_count": 8,
   "metadata": {},
   "outputs": [],
   "source": [
    "#의사결정나무\n",
    "dt_y_pred = dt_model.predict(df_test_x)\n",
    "mse.append(mean_squared_error(df_test_y, dt_y_pred))\n",
    "rmse.append(root_mean_squared_error(df_test_y, dt_y_pred))\n",
    "mae.append(mean_absolute_error(df_test_y,dt_y_pred))\n",
    "mape.append(mean_absolute_percentage_error(df_test_y, dt_y_pred))\n"
   ]
  },
  {
   "cell_type": "code",
   "execution_count": 9,
   "metadata": {},
   "outputs": [],
   "source": [
    "#랜덤포레스트\n",
    "rf_y_pred = rf_model.predict(df_test_x)\n",
    "mse.append(mean_squared_error(df_test_y, rf_y_pred))\n",
    "rmse.append(root_mean_squared_error(df_test_y, rf_y_pred))\n",
    "mae.append(mean_absolute_error(df_test_y,rf_y_pred))\n",
    "mape.append(mean_absolute_percentage_error(df_test_y, rf_y_pred))\n"
   ]
  },
  {
   "cell_type": "code",
   "execution_count": 10,
   "metadata": {},
   "outputs": [],
   "source": [
    "#그래디언트부스팅\n",
    "gb_y_pred = gb_model.predict(df_test_x)\n",
    "mse.append(mean_squared_error(df_test_y, gb_y_pred))\n",
    "rmse.append(root_mean_squared_error(df_test_y, gb_y_pred))\n",
    "mae.append(mean_absolute_error(df_test_y,gb_y_pred))\n",
    "mape.append(mean_absolute_percentage_error(df_test_y, gb_y_pred))\n",
    "\n"
   ]
  },
  {
   "cell_type": "code",
   "execution_count": 11,
   "metadata": {},
   "outputs": [
    {
     "data": {
      "image/png": "[encoded data removed]",
      "text/plain": [
       "<Figure size 936x720 with 4 Axes>"
      ]
     },
     "metadata": {
      "needs_background": "light"
     },
     "output_type": "display_data"
    }
   ],
   "source": [
    "fig, ax = plt.subplots(2,2,figsize=(13,10))\n",
    "ax[0,0].bar(models,mse)\n",
    "ax[0,0].set_title(\"mse\").set_fontsize(15)\n",
    "\n",
    "ax[0,1].bar(models,rmse)\n",
    "ax[0,1].set_title(\"rmse\").set_fontsize(15)\n",
    "\n",
    "ax[1,0].bar(models,mae)\n",
    "ax[1,0].set_title(\"mae\").set_fontsize(15)\n",
    "\n",
    "ax[1,1].bar(models,mape)\n",
    "ax[1,1].set_title(\"mape\").set_fontsize(15)"
   ]
  },
  {
   "cell_type": "code",
   "execution_count": null,
   "metadata": {},
   "outputs": [],
   "source": []
  }
 ],
 "metadata": {
  "kernelspec": {
   "display_name": "Python 3",
   "language": "python",
   "name": "python3"
  },
  "language_info": {
   "codemirror_mode": {
    "name": "ipython",
    "version": 3
   },
   "file_extension": ".py",
   "mimetype": "text/x-python",
   "name": "python",
   "nbconvert_exporter": "python",
   "pygments_lexer": "ipython3",
   "version": "3.7.4"
  }
 },
 "nbformat": 4,
 "nbformat_minor": 2
}
