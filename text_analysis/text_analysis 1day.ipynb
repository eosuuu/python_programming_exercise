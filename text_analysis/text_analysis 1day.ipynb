{
 "cells": [
  {
   "cell_type": "code",
   "execution_count": 3,
   "metadata": {},
   "outputs": [
    {
     "name": "stdout",
     "output_type": "stream",
     "text": [
      "뉴스 \n",
      "증권 \n",
      "사전 \n"
     ]
    }
   ],
   "source": [
    "from bs4 import BeautifulSoup as bs\n",
    "import requests as req\n",
    "\n",
    "html = \"\"\"\n",
    "<ul>\n",
    "<li>뉴스 </li>\n",
    "<li>증권 </li>\n",
    "<li>사전 </li>\n",
    "\n",
    "\"\"\"\n",
    "\n",
    "soup = bs(html, 'html5lib')\n",
    "result = soup.select(\"li\")\n",
    "\n",
    "for a in result:\n",
    "    print(a.text)\n",
    "    "
   ]
  },
  {
   "cell_type": "code",
   "execution_count": 4,
   "metadata": {},
   "outputs": [
    {
     "name": "stdout",
     "output_type": "stream",
     "text": [
      "4교시\n"
     ]
    }
   ],
   "source": [
    "html = \"\"\"\n",
    "<ul>\n",
    "    <li>1교시</li>\n",
    "    <li>2교시</li>\n",
    "</ul>\n",
    "\n",
    "<ol>\n",
    "    <li>3교시</li>\n",
    "    <li>4교시</li>\n",
    "</ol>\n",
    "\n",
    "\"\"\"\n",
    "\n",
    "#beautifulSoup 객체생성\n",
    "soup = bs(html, 'html5lib')\n",
    "result = soup.select('ol li:nth-of-type(2)')\n",
    "\n",
    "for a in result:\n",
    "    print(a.text)"
   ]
  },
  {
   "cell_type": "markdown",
   "metadata": {},
   "source": [
    "# request라이브러리"
   ]
  },
  {
   "cell_type": "code",
   "execution_count": 5,
   "metadata": {},
   "outputs": [
    {
     "name": "stdout",
     "output_type": "stream",
     "text": [
      "부동산\n"
     ]
    }
   ],
   "source": [
    "url = \"https://www.naver.com\"\n",
    "res = req.get(url)\n",
    "html = res.text\n",
    "\n",
    "soup = bs(html, 'html5lib')\n",
    "# result = soup.select('li a span')\n",
    "# result = soup.select('.an_txt')\n",
    "result = soup.select('#PM_ID_serviceNavi > li:nth-child(4) > a > span.an_txt')\n",
    "\n",
    "\n",
    "for a in result:\n",
    "    print(a.text)\n",
    "    \n"
   ]
  },
  {
   "cell_type": "code",
   "execution_count": 6,
   "metadata": {},
   "outputs": [
    {
     "name": "stdout",
     "output_type": "stream",
     "text": [
      "김두관 \"구중궁궐 앉아서 지휘만\" vs 홍준표 \"병졸과 안 싸워\"\n",
      "[영상] '우한 교민 전세기' 김포공항 착륙 현장\n",
      "진중권 \"김두관, 유권자 우습게 아는 '철새정치인'…그렇게 살지마세요\"\n",
      "北, 청해부대 파견 비난 \"미국의 총알받이, 반민족적 망동\"\n",
      "진중권 \"임종석·추미애, 다 죽어…윤석열 정치하도록 몰아넣지 마라\"\n",
      "\n",
      "‘우한 교민’ 367명 태운 전세기, 김포공항 도착... 추가 검역중\n",
      "'원정도박·성매매알선' 승리 불구속 기소[뉴스체크｜사회]\n",
      "서울 아파트 중위 가격, 사상 첫 '9억' 넘었다\n",
      "브렉시트 최종 승인…NYT \"브렉시트는 EU의 패배, 미국이 텍사스 잃은 격\" [글로벌 이슈5]\n",
      "‘울산 선거 개입’ 의혹 임종석 12시간 조사…“새로운 의혹 없어”\n"
     ]
    }
   ],
   "source": [
    "url = \"https://news.naver.com\"\n",
    "res = req.get(url)\n",
    "html = res.text\n",
    "\n",
    "soup = bs(html, 'html5lib')\n",
    "\n",
    "# for i in range(1,6):\n",
    "#     target = \"#today_main_news > div.hdline_news > ul > li:nth-child(\" + str(i) + \") > div.hdline_article_tit > a\"\n",
    "#     result = soup.select(target)\n",
    "#     print(result[0].text)\n",
    "result = soup.select('#section_politics > div.com_list > div > ul > li > a > strong')\n",
    "result2 = soup.select(\"#today_main_news > div.hdline_news > ul > li > div.hdline_article_tit > a\")\n",
    "\n",
    "for a in result:\n",
    "    print(a.text)\n",
    "print()\n",
    "for b in result2:\n",
    "    print(b.text.strip())"
   ]
  },
  {
   "cell_type": "code",
   "execution_count": 7,
   "metadata": {},
   "outputs": [
    {
     "name": "stdout",
     "output_type": "stream",
     "text": [
      "‘우한 교민’ 367명 태운 전세기, 김포공항 도착... 추가 검역중\n",
      "'원정도박·성매매알선' 승리 불구속 기소[뉴스체크｜사회]\n",
      "서울 아파트 중위 가격, 사상 첫 '9억' 넘었다\n",
      "브렉시트 최종 승인…NYT \"브렉시트는 EU의 패배, 미국이 텍사스 잃은 격\" [글로벌 이슈5]\n",
      "‘울산 선거 개입’ 의혹 임종석 12시간 조사…“새로운 의혹 없어”\n"
     ]
    }
   ],
   "source": [
    "for i in range(1,6):\n",
    "    target = \"#today_main_news > div.hdline_news > ul > li:nth-child(num) > div.hdline_article_tit > a\"\n",
    "    target = target.replace(\"num\", str(i))\n",
    "    result3 = soup.select(target)\n",
    "    print(result3[0].text.strip())"
   ]
  },
  {
   "cell_type": "code",
   "execution_count": 8,
   "metadata": {},
   "outputs": [
    {
     "name": "stdout",
     "output_type": "stream",
     "text": [
      "방학시즌, 훌륭한 CG, 로버트 다우니 주니어의 매력 등 온가족 무비로서 개봉시기가 딱이다.- 기존 닥터두리틀의 주연배우를 로버트 다우니 주니어로 교체한 것은 신의 한수이다. 로버트 다우니 주니어의 광팬들, 절대 성공하는 3B 중 하...\n",
      "캬.. 로버트다우니주니어와 톰홀랜드의 만남이라니.. 벌써부터 기대가 된다.수능 치고 꼭 본 다!!본!0000000000000000000000000000000000000000000000000000000000000000000000000000000000000000000000000000000000000000000000000000000...\n",
      " 톰홀랜드랑 로다주의 조합을 마블외의 영화에서도 볼 수 있다니 ㅠㅠ 심지어 두명다 주연이잖아!!!! 빨리 개봉했으면 좋겠다 꼭 영화관에서 봐야지 사랑해요 진짜 톰 진짜 내가 사랑해 !!ㅠㅠㅠㅠㅠㅠㅠㅠㅠㅠㅠㅠㅠㅠㅠㅠㅠㅠㅠㅠㅠㅠㅠ...\n",
      "?★★☆? ?<닥터 두리틀>은 한 마디로 이쁘장한 영화다. ‘동물들과 소통이 가능한 의사’라는 지극히 동화적인 발상과 함께 육식, 초식 가리지 않고 한데 모여 작전을 수행하는 동물들의 단합은 귀엽고, 그들을 구현하는 CG의 기술...\n"
     ]
    }
   ],
   "source": [
    "url = \"https://movie.naver.com/movie/bi/mi/review.nhn?code=159866\"\n",
    "res = req.get(url)\n",
    "html = res.text\n",
    "soup = bs(html, 'html5lib')\n",
    "target = \"#reviewTab > div > div > ul > li:nth-child(num) > p\"\n",
    "\n",
    "for i in range(1,5):\n",
    "    target = \"#reviewTab > div > div > ul > li:nth-child(num) > p\"\n",
    "    target = target.replace(\"num\", str(i))\n",
    "    result = soup.select(target)\n",
    "    print(result[0].text)"
   ]
  },
  {
   "cell_type": "code",
   "execution_count": 9,
   "metadata": {},
   "outputs": [
    {
     "name": "stdout",
     "output_type": "stream",
     "text": [
      "200.0\n",
      "300.0\n",
      "400.0\n",
      "500.0\n"
     ]
    }
   ],
   "source": [
    "price = [100,200,300,400,500,600]\n",
    "\n",
    "for i in range(len(price)-2):\n",
    "    print(sum(price[i:i+3])/3)"
   ]
  },
  {
   "cell_type": "code",
   "execution_count": 11,
   "metadata": {},
   "outputs": [],
   "source": [
    "from selenium import webdriver \n",
    "driver = webdriver.Chrome('/home/pirl/Downloads/chromedriver')\n",
    "driver.get('https://www.naver.com')\n",
    "driver.find_element_by_css_selector(\"#PM_ID_serviceNavi > li:nth-child(9) > a\").click()\n",
    "driver.find_element_by_css_selector(\"#comicList > li:nth-child(3) > a\").click()\n",
    "\n"
   ]
  },
  {
   "cell_type": "code",
   "execution_count": null,
   "metadata": {},
   "outputs": [],
   "source": [
    "from selenium import webdriver \n",
    "driver = webdriver.Chrome('/home/pirl/Downloads/chromedriver')\n",
    "driver.get('https://www.naver.com')\n",
    "driver.find_element_by_css_selector(\"#query\").send_keys(\"휘인\")\n",
    "driver.find_element_by_css_selector(\"#search_btn\").click()\n"
   ]
  },
  {
   "cell_type": "code",
   "execution_count": 13,
   "metadata": {},
   "outputs": [
    {
     "name": "stdout",
     "output_type": "stream",
     "text": [
      "2019 아이유 11주년 팬미팅 ‘▶ ll ＆ U’ (PLAY, PAUSE AND U)\n",
      "삼성카드 〈2018 홀가분 페스티벌〉\n",
      "2018 이슬라이브 페스티벌\n",
      "아이유 데뷔 9주년 팬미팅\n",
      "2015 아이유 전국투어 앵콜 콘서트〈CHAT-SHIRE〉\n"
     ]
    }
   ],
   "source": [
    "from selenium import webdriver \n",
    "import time\n",
    "\n",
    "driver = webdriver.Chrome('/home/pirl/Downloads/chromedriver')\n",
    "driver.get('http://ticket.interpark.com/')\n",
    "driver.find_element_by_css_selector(\"#Nav_SearchWord\").send_keys(\"아이유\")\n",
    "driver.find_element_by_css_selector(\"#AllSearch > fieldset > div.box > a\").click()\n",
    "time.sleep(2)\n",
    "html = driver.page_source #현재페이지 html정보 가져오기\n",
    "soup = bs(html, 'html5lib')\n",
    "result = soup.select(\"#playend_list > tr > td.info_Play > div > dl > dt > h4 > a\")\n",
    "for r in result:\n",
    "    print(r.text)\n",
    "\n"
   ]
  },
  {
   "cell_type": "code",
   "execution_count": 14,
   "metadata": {},
   "outputs": [
    {
     "name": "stdout",
     "output_type": "stream",
     "text": [
      "10568000\n",
      "10568000\n",
      "10568000\n"
     ]
    },
    {
     "ename": "KeyboardInterrupt",
     "evalue": "",
     "output_type": "error",
     "traceback": [
      "\u001b[0;31m---------------------------------------------------------------------------\u001b[0m",
      "\u001b[0;31mKeyboardInterrupt\u001b[0m                         Traceback (most recent call last)",
      "\u001b[0;32m<ipython-input-14-4edc40768d92>\u001b[0m in \u001b[0;36m<module>\u001b[0;34m\u001b[0m\n\u001b[1;32m      4\u001b[0m     \u001b[0mdata\u001b[0m \u001b[0;34m=\u001b[0m \u001b[0mres\u001b[0m\u001b[0;34m.\u001b[0m\u001b[0mjson\u001b[0m\u001b[0;34m(\u001b[0m\u001b[0;34m)\u001b[0m \u001b[0;31m#데이터형태 가져오기\u001b[0m\u001b[0;34m\u001b[0m\u001b[0;34m\u001b[0m\u001b[0m\n\u001b[1;32m      5\u001b[0m     \u001b[0mprint\u001b[0m\u001b[0;34m(\u001b[0m\u001b[0mdata\u001b[0m\u001b[0;34m[\u001b[0m\u001b[0;34m'data'\u001b[0m\u001b[0;34m]\u001b[0m\u001b[0;34m[\u001b[0m\u001b[0;34m'min_price'\u001b[0m\u001b[0;34m]\u001b[0m\u001b[0;34m)\u001b[0m\u001b[0;34m\u001b[0m\u001b[0;34m\u001b[0m\u001b[0m\n\u001b[0;32m----> 6\u001b[0;31m     \u001b[0mtime\u001b[0m\u001b[0;34m.\u001b[0m\u001b[0msleep\u001b[0m\u001b[0;34m(\u001b[0m\u001b[0;36m1\u001b[0m\u001b[0;34m)\u001b[0m\u001b[0;34m\u001b[0m\u001b[0;34m\u001b[0m\u001b[0m\n\u001b[0m",
      "\u001b[0;31mKeyboardInterrupt\u001b[0m: "
     ]
    }
   ],
   "source": [
    "\n",
    "while True:\n",
    "    url = \"https://api.bithumb.com/public/ticker/\"\n",
    "    res = req.get(url)\n",
    "    data = res.json() #데이터형태 가져오기\n",
    "    print(data['data']['min_price'])\n",
    "    time.sleep(1)"
   ]
  },
  {
   "cell_type": "code",
   "execution_count": 3,
   "metadata": {},
   "outputs": [
    {
     "name": "stdout",
     "output_type": "stream",
     "text": [
      "MUMBAI, India — Oyo, once one of India’s fastest-growing tech start-ups, is now rapidly scaling back.In recent weeks, Oyo, a budget hospitality company, has pulled out of dozens of cities, cut thousands of hotel rooms, started laying off employees and slashed other costs as it faced pressure from its biggest investor, the Japanese conglomerate SoftBank, to curb vast operating losses. The retreat has been swift and sweeping. In India alone, Oyo has lost more than 65,000 rooms — or about a quarter of what it had offered to travelers — since October, according to internal data from current and former employees that was reviewed by The New York Times. This month, Oyo also stopped selling rooms in more than 200 small Indian cities, according to company documents and one current employee and one former employee. The moves come on top of more than 2,000 layoffs around the world, which Oyo began rolling out last week, according to six current and former employees. Before the cutbacks, Oyo had about 20,000 employees in 80 countries. \n"
     ]
    }
   ],
   "source": [
    "from bs4 import BeautifulSoup as bs\n",
    "import requests as req\n",
    "\n",
    "url = \"https://www.nytimes.com/2020/01/13/technology/oyo-hotel-india-softbank.html\"\n",
    "res = req.get(url)\n",
    "html = res.text\n",
    "soup = bs(html, \"html5lib\")\n",
    "result = soup.select('#story > section > div:nth-of-type(1) > div')\n",
    "\n",
    "for a in result:\n",
    "   print(a.text)\n",
    "   "
   ]
  },
  {
   "cell_type": "code",
   "execution_count": 5,
   "metadata": {},
   "outputs": [
    {
     "name": "stdout",
     "output_type": "stream",
     "text": [
      "[('독서', 'Noun'), ('의', 'Josa'), ('위기', 'Noun'), ('출판', 'Noun'), ('계', 'Suffix'), ('의', 'Josa'), ('불황', 'Noun'), ('얘기', 'Noun'), ('가', 'Josa'), ('나온', 'Verb'), ('지', 'Verb'), ('오래', 'Adverb'), ('됐지만', 'Verb'), ('사정', 'Noun'), ('이', 'Josa'), ('나아졌다는', 'Verb'), ('소식', 'Noun'), ('은', 'Josa'), ('들리지', 'Verb'), ('않는다', 'Verb'), ('요즘', 'Noun'), ('종이', 'Noun'), ('책', 'Noun'), ('은', 'Josa'), ('만', 'Modifier'), ('권', 'Noun'), ('정도', 'Noun'), ('만', 'Josa'), ('팔리면', 'Verb'), ('베스트셀러', 'Noun'), ('목록', 'Noun'), ('에', 'Josa'), ('오른다고', 'Verb'), ('한다', 'Verb'), ('하지만', 'Conjunction'), ('이', 'Noun'), ('와는', 'Josa'), ('분위기', 'Noun'), ('가', 'Josa'), ('사뭇', 'Noun'), ('다른', 'Noun'), ('곳', 'Noun'), ('이', 'Josa'), ('있다', 'Adjective'), ('스마트폰', 'Noun'), ('이나', 'Josa'), ('로', 'Noun'), ('읽는', 'Verb'), ('웹', 'Noun'), ('소설', 'Noun'), ('이다', 'Josa'), ('인기', 'Noun'), ('웹', 'Noun'), ('소설', 'Noun'), ('은', 'Josa'), ('독자', 'Noun'), ('수가', 'Noun'), ('백만', 'Noun'), ('명', 'Suffix'), ('을', 'Josa'), ('가볍게', 'Adjective'), ('넘어선다', 'Verb'), ('웹', 'Noun'), ('소설', 'Noun'), ('은', 'Josa'), ('웹', 'Noun'), ('에서', 'Josa'), ('처음', 'Noun'), ('공개', 'Noun'), ('되는', 'Verb'), ('소설', 'Noun'), ('이다', 'Josa'), ('기존', 'Noun'), ('에', 'Josa'), ('출판', 'Noun'), ('된', 'Verb'), ('소설', 'Noun'), ('을', 'Josa'), ('웹', 'Noun'), ('에', 'Josa'), ('게재', 'Noun'), ('하는', 'Verb'), ('경우', 'Noun'), ('를', 'Josa'), ('웹', 'Noun'), ('소설', 'Noun'), ('이라고', 'Josa'), ('하지는', 'Verb'), ('않는다', 'Verb'), ('웹', 'Noun'), ('소설', 'Noun'), ('은', 'Josa'), ('처음', 'Noun'), ('부터', 'Josa'), ('웹', 'Noun'), ('에서의', 'Josa'), ('연재', 'Noun'), ('를', 'Josa'), ('겨냥', 'Noun'), ('하고', 'Josa'), ('창작', 'Noun'), ('되는', 'Verb'), ('것', 'Noun'), ('이다', 'Josa'), ('짧은', 'Adjective'), ('시간', 'Noun'), ('에', 'Josa'), ('가볍게', 'Adjective'), ('읽기가', 'Verb'), ('좋도록', 'Adjective'), ('나뉘어', 'Verb'), ('연재', 'Noun'), ('되는', 'Verb'), ('스낵', 'Noun'), ('컬처', 'Noun'), ('의', 'Noun'), ('성격', 'Noun'), ('이', 'Josa'), ('강하다', 'Adjective'), ('그래서', 'Adverb'), ('웹', 'Noun'), ('소설', 'Noun'), ('은', 'Josa'), ('연재', 'Noun'), ('매', 'Noun'), ('회', 'Noun'), ('마다', 'Josa'), ('긴장감', 'Noun'), ('과', 'Josa'), ('흥미', 'Noun'), ('를', 'Josa'), ('잃지', 'Verb'), ('않고', 'Verb'), ('스토리', 'Noun'), ('를', 'Josa'), ('이', 'Determiner'), ('어가', 'Noun'), ('는', 'Josa'), ('게', 'Noun'), ('중요하다', 'Adjective'), ('인물', 'Noun'), ('캐릭터', 'Noun'), ('와', 'Josa'), ('대화', 'Noun'), ('중심', 'Noun'), ('의', 'Josa'), ('빠른', 'Adjective'), ('전개', 'Noun'), ('가', 'Josa'), ('독자', 'Noun'), ('들', 'Suffix'), ('의', 'Josa'), ('호응', 'Noun'), ('을', 'Josa'), ('얻기', 'Verb'), ('쉽다', 'Verb'), ('진입', 'Noun'), ('장벽', 'Noun'), ('없어', 'Adjective'), ('작가', 'Noun'), ('수', 'Noun'), ('빠르게', 'Adjective'), ('늘어나', 'Verb'), ('웹', 'Noun'), ('소설', 'Noun'), ('작가', 'Noun'), ('가', 'Josa'), ('되는', 'Verb'), ('데', 'Noun'), ('는', 'Josa'), ('진입', 'Noun'), ('장벽', 'Noun'), ('이', 'Josa'), ('없다', 'Adjective'), ('누구', 'Noun'), ('나', 'Josa'), ('무료', 'Noun'), ('웹', 'Noun'), ('소설', 'Noun'), ('플랫폼', 'Noun'), ('에', 'Josa'), ('자신', 'Noun'), ('의', 'Josa'), ('소설', 'Noun'), ('을', 'Josa'), ('연재', 'Noun'), ('할', 'Verb'), ('수', 'Noun'), ('있다는', 'Adjective'), ('의미', 'Noun'), ('다', 'Josa'), ('무협', 'Noun'), ('판타지', 'Noun'), ('전문', 'Noun'), ('플랫폼', 'Noun'), ('인', 'Josa'), ('문', 'Modifier'), ('피아', 'Noun'), ('의', 'Noun'), ('김환철', 'Noun'), ('대표', 'Noun'), ('필명', 'Noun'), ('금강', 'Noun'), ('는', 'Verb'), ('커트라인', 'Noun'), ('을', 'Josa'), ('둬서', 'Verb'), ('괜찮은', 'Adjective'), ('것', 'Noun'), ('만', 'Josa'), ('올리자는', 'Verb'), ('의견', 'Noun'), ('도', 'Josa'), ('있었지만', 'Adjective'), ('그러면', 'Adverb'), ('출판사', 'Noun'), ('와', 'Josa'), ('다를', 'Adjective'), ('게', 'Noun'), ('무엇', 'Noun'), ('인가', 'Josa'), ('모두', 'Noun'), ('가', 'Josa'), ('올리고', 'Verb'), ('독자', 'Noun'), ('가', 'Josa'), ('바로', 'Noun'), ('평가', 'Noun'), ('하도록', 'Verb'), ('했다', 'Verb'), ('고', 'Noun'), ('말', 'Noun'), ('했다', 'Verb'), ('독자', 'Noun'), ('의', 'Josa'), ('선택', 'Noun'), ('을', 'Josa'), ('받아', 'Verb'), ('인기', 'Noun'), ('를', 'Josa'), ('얻으면', 'Verb'), ('유료', 'Noun'), ('판매', 'Noun'), ('를', 'Josa'), ('통해', 'Noun'), ('작가', 'Noun'), ('로서', 'Noun'), ('수입', 'Noun'), ('을', 'Josa'), ('낼', 'Noun'), ('수', 'Noun'), ('있다', 'Adjective'), ('웹', 'Noun'), ('소설', 'Noun'), ('에서는', 'Josa'), ('생산자', 'Noun'), ('와', 'Josa'), ('소비자', 'Noun'), ('의', 'Josa'), ('경계', 'Noun'), ('가', 'Josa'), ('허물', 'Noun'), ('어', 'Suffix'), ('지고', 'Noun'), ('있다', 'Adjective'), ('그만큼', 'Adverb'), ('작가', 'Noun'), ('수도', 'Noun'), ('빠르게', 'Adjective'), ('늘', 'Noun'), ('고', 'Josa'), ('있다', 'Adjective'), ('문', 'Modifier'), ('피아', 'Noun'), ('만', 'Noun'), ('해도', 'Noun'), ('만', 'Modifier'), ('명의', 'Noun'), ('작가', 'Noun'), ('가', 'Josa'), ('활동', 'Noun'), ('하고', 'Josa'), ('있고', 'Adjective'), ('국내', 'Noun'), ('전체', 'Noun'), ('적', 'Suffix'), ('으로는', 'Josa'), ('웹', 'Noun'), ('소설', 'Noun'), ('작가', 'Noun'), ('의', 'Josa'), ('수가', 'Noun'), ('만', 'Modifier'), ('명', 'Noun'), ('이', 'Josa'), ('넘을', 'Verb'), ('것', 'Noun'), ('으로', 'Josa'), ('추정', 'Noun'), ('된다', 'Verb'), ('이처럼', 'Noun'), ('수십만', 'Modifier'), ('작가', 'Noun'), ('와', 'Josa'), ('수백만', 'Noun'), ('독자', 'Noun'), ('가', 'Josa'), ('모여', 'Verb'), ('함께', 'Adverb'), ('만드는', 'Verb'), ('웹', 'Noun'), ('소설', 'Noun'), ('생태계', 'Noun'), ('에는', 'Josa'), ('용광로', 'Noun'), ('와', 'Josa'), ('같은', 'Adjective'), ('에너지', 'Noun'), ('가', 'Josa'), ('넘친다', 'Adjective'), ('진입', 'Noun'), ('장벽', 'Noun'), ('이', 'Josa'), ('없는', 'Adjective'), ('대신', 'Noun'), ('경쟁', 'Noun'), ('은', 'Josa'), ('어느', 'Adverb'), ('곳', 'Noun'), ('보다도', 'Josa'), ('치열하다', 'Adjective'), ('작가', 'Noun'), ('들', 'Suffix'), ('은', 'Josa'), ('매회', 'Adverb'), ('연재', 'Noun'), ('할', 'Verb'), ('때', 'Noun'), ('마다', 'Josa'), ('조', 'Modifier'), ('회수', 'Noun'), ('와', 'Josa'), ('독자', 'Noun'), ('의', 'Josa'), ('댓글', 'Noun'), ('을', 'Josa'), ('살피면서', 'Verb'), ('진검', 'Noun'), ('승부', 'Noun'), ('를', 'Josa'), ('펼친다', 'Verb'), ('김환철', 'Noun'), ('문', 'Modifier'), ('피아', 'Noun'), ('대표', 'Noun'), ('는', 'Josa'), ('매일', 'Noun'), ('매일', 'Noun'), ('이', 'Josa'), ('전쟁', 'Noun'), ('같다', 'Adjective'), ('그런', 'Adjective'), ('극심한', 'Adjective'), ('경쟁', 'Noun'), ('을', 'Josa'), ('뚫고', 'Verb'), ('살아남은', 'Verb'), ('작가', 'Noun'), ('들', 'Suffix'), ('은', 'Josa'), ('글', 'Noun'), ('을', 'Josa'), ('잘', 'Verb'), ('쓸', 'Verb'), ('수', 'Noun'), ('밖에', 'Josa'), ('없다', 'Adjective'), ('고', 'Noun'), ('말', 'Noun'), ('했다', 'Verb'), ('환생', 'Noun'), ('회귀', 'Noun'), ('가', 'Josa'), ('넘치는', 'Adjective'), ('까닭', 'Noun'), ('은', 'Josa'), ('작가', 'Noun'), ('와', 'Josa'), ('독자', 'Noun'), ('의', 'Josa'), ('역', 'Noun'), ('동', 'Modifier'), ('적', 'Noun'), ('인', 'Josa'), ('상호작용', 'Noun'), ('을', 'Josa'), ('거쳐', 'Verb'), ('나오는', 'Verb'), ('웹', 'Noun'), ('소설', 'Noun'), ('은', 'Josa'), ('독자', 'Noun'), ('의', 'Josa'), ('마음', 'Noun'), ('과', 'Josa'), ('사회', 'Noun'), ('의', 'Josa'), ('분위기', 'Noun'), ('를', 'Josa'), ('섬세하게', 'Adjective'), ('반영', 'Noun'), ('한', 'Josa'), ('다', 'Adverb'), ('최근', 'Noun'), ('수년', 'Noun'), ('간', 'Suffix'), ('웹', 'Noun'), ('소설', 'Noun'), ('에서', 'Josa'), ('유난히', 'Adverb'), ('많이', 'Adverb'), ('등장', 'Noun'), ('하는', 'Verb'), ('단어', 'Noun'), ('가', 'Josa'), ('회귀', 'Noun'), ('귀환', 'Noun'), ('환생', 'Noun'), ('이다', 'Josa'), ('이번', 'Noun'), ('생', 'Noun'), ('에', 'Josa'), ('실패한', 'Adjective'), ('사람', 'Noun'), ('이', 'Josa'), ('현재', 'Noun'), ('의', 'Josa'), ('기억', 'Noun'), ('을', 'Josa'), ('갖고', 'Verb'), ('과거', 'Noun'), ('로', 'Josa'), ('돌아가서', 'Verb'), ('실수', 'Noun'), ('를', 'Josa'), ('바로잡고', 'Verb'), ('시원하게', 'Adjective'), ('복수', 'Noun'), ('를', 'Josa'), ('하는', 'Verb'), ('스토리', 'Noun'), ('다', 'Josa'), ('네이버', 'Noun'), ('나', 'Josa'), ('카카오페이지', 'Noun'), ('조아라', 'Adjective'), ('문', 'Modifier'), ('피아', 'Noun'), ('등', 'Noun'), ('여러', 'Noun'), ('웹', 'Noun'), ('소설', 'Noun'), ('플랫폼', 'Noun'), ('에서', 'Josa'), ('최고', 'Noun'), ('의', 'Josa'), ('인기', 'Noun'), ('를', 'Josa'), ('얻은', 'Verb'), ('작품', 'Noun'), ('의', 'Josa'), ('상당수', 'Noun'), ('가', 'Josa'), ('이런', 'Adjective'), ('스토리', 'Noun'), ('의', 'Josa'), ('틀', 'Noun'), ('을', 'Josa'), ('갖고', 'Verb'), ('있다', 'Adjective'), ('김환철', 'Noun'), ('문', 'Modifier'), ('피아', 'Noun'), ('대표', 'Noun'), ('는', 'Josa'), ('길게', 'Adjective'), ('보면', 'Verb'), ('년', 'Noun'), ('정도', 'Noun'), ('된', 'Verb'), ('트렌드', 'Noun'), ('인데', 'Josa'), ('이제', 'Noun'), ('는', 'Josa'), ('대세', 'Noun'), ('가', 'Josa'), ('되어서', 'Verb'), ('수많은', 'Adjective'), ('작품', 'Noun'), ('에서', 'Josa'), ('환생', 'Noun'), ('과', 'Josa'), ('회귀', 'Noun'), ('가', 'Josa'), ('일어나고', 'Noun'), ('있다', 'Adjective'), ('면서', 'Noun'), ('갈수록', 'Noun'), ('각박하고', 'Adjective'), ('힘들어지는', 'Adjective'), ('세상', 'Noun'), ('젊은', 'Adjective'), ('세대', 'Noun'), ('의', 'Josa'), ('좌절', 'Noun'), ('이', 'Josa'), ('빨리', 'Adverb'), ('강해지고', 'Adjective'), ('쉽게', 'Verb'), ('성공하는', 'Adjective'), ('판타지', 'Noun'), ('로', 'Josa'), ('투영', 'Noun'), ('이', 'Josa'), ('되는', 'Verb'), ('것', 'Noun'), ('이라고', 'Josa'), ('진단', 'Noun'), ('했다', 'Verb'), ('이진수', 'Noun'), ('카카오페이지', 'Noun'), ('대표', 'Noun'), ('는', 'Josa'), ('웹', 'Noun'), ('소설', 'Noun'), ('이나', 'Josa'), ('웹툰', 'Noun'), ('만큼', 'Noun'), ('우리', 'Noun'), ('사회', 'Noun'), ('곳곳', 'Noun'), ('을', 'Josa'), ('섬세하고', 'Adjective'), ('다양하게', 'Adjective'), ('표현', 'Noun'), ('하고', 'Josa'), ('있는', 'Adjective'), ('매체', 'Noun'), ('가', 'Josa'), ('없다', 'Adjective'), ('면서', 'Noun'), ('대한민국', 'Noun'), ('의', 'Josa'), ('기성', 'Noun'), ('세대', 'Noun'), ('들', 'Suffix'), ('이', 'Josa'), ('지금', 'Noun'), ('의', 'Josa'), ('대와', 'Verb'), ('대를', 'Verb'), ('가장', 'Noun'), ('빠르게', 'Adjective'), ('이해', 'Noun'), ('할', 'Verb'), ('수', 'Noun'), ('있는', 'Adjective'), ('방법', 'Noun'), ('이라고', 'Josa'), ('주장', 'Noun'), ('했다', 'Verb'), ('작품', 'Noun'), ('성', 'Suffix'), ('뛰어난', 'Adjective'), ('웹', 'Noun'), ('소설', 'Noun'), ('도', 'Josa'), ('많은데', 'Adjective'), ('평론', 'Noun'), ('은', 'Josa'), ('웹', 'Noun'), ('소설', 'Noun'), ('하면', 'Verb'), ('스낵', 'Noun'), ('컬처', 'Noun'), ('상업성', 'Noun'), ('중독', 'Noun'), ('성', 'Suffix'), ('등', 'Noun'), ('을', 'Josa'), ('떠올리게', 'Verb'), ('되지만', 'Verb'), ('그런', 'Adjective'), ('가운데', 'Noun'), ('뛰어난', 'Adjective'), ('작품', 'Noun'), ('성', 'Suffix'), ('을', 'Josa'), ('함께', 'Adverb'), ('성취', 'Noun'), ('한', 'Josa'), ('명작', 'Noun'), ('들', 'Suffix'), ('도', 'Josa'), ('적지', 'Noun'), ('않게', 'Verb'), ('발견', 'Noun'), ('된다', 'Verb'), ('무협', 'Noun'), ('이나', 'Josa'), ('판타지', 'Noun'), ('스토리', 'Noun'), ('속', 'Noun'), ('에', 'Josa'), ('신화', 'Noun'), ('와', 'Josa'), ('종교', 'Noun'), ('현대', 'Noun'), ('과학', 'Noun'), ('등', 'Noun'), ('다방면', 'Noun'), ('에', 'Josa'), ('걸쳐', 'Verb'), ('해박', 'Noun'), ('한', 'Josa'), ('지식', 'Noun'), ('과', 'Josa'), ('창의', 'Noun'), ('적', 'Suffix'), ('인', 'Josa'), ('세계관', 'Noun'), ('을', 'Josa'), ('담아', 'Verb'), ('낸', 'Verb'), ('작품', 'Noun'), ('을', 'Josa'), ('만나면', 'Verb'), ('필명', 'Noun'), ('으로', 'Josa'), ('자신', 'Noun'), ('을', 'Josa'), ('감추는', 'Verb'), ('작가', 'Noun'), ('에', 'Josa'), ('대한', 'Noun'), ('궁금증', 'Noun'), ('이', 'Josa'), ('들', 'Verb'), ('기도', 'Noun'), ('한다', 'Verb'), ('이런', 'Adjective'), ('작품', 'Noun'), ('들', 'Suffix'), ('은', 'Josa'), ('매회', 'Adverb'), ('흥미', 'Noun'), ('와', 'Josa'), ('긴장감', 'Noun'), ('을', 'Josa'), ('유지', 'Noun'), ('해야', 'Verb'), ('한다는', 'Modifier'), ('웹', 'Noun'), ('소설', 'Noun'), ('의', 'Josa'), ('문법', 'Noun'), ('을', 'Josa'), ('벗어나기도', 'Verb'), ('하지만', 'Conjunction'), ('한번', 'Noun'), ('마니아', 'Noun'), ('가', 'Josa'), ('된', 'Verb'), ('독자', 'Noun'), ('들', 'Suffix'), ('은', 'Josa'), ('작가', 'Noun'), ('의', 'Josa'), ('고집', 'Noun'), ('을', 'Josa'), ('긍정', 'Noun'), ('적', 'Suffix'), ('으로', 'Josa'), ('이해', 'Noun'), ('해주는', 'Verb'), ('편이', 'Noun'), ('다', 'Josa'), ('이', 'Noun'), ('와', 'Josa'), ('관련', 'Noun'), ('해', 'Verb'), ('장강', 'Noun'), ('명', 'Suffix'), ('작가', 'Noun'), ('는', 'Josa'), ('굉장히', 'Adjective'), ('뛰어난', 'Adjective'), ('작품', 'Noun'), ('성', 'Suffix'), ('을', 'Josa'), ('보여주는', 'Verb'), ('웹', 'Noun'), ('소설', 'Noun'), ('들', 'Suffix'), ('이', 'Josa'), ('있는데', 'Adjective'), ('그', 'Noun'), ('작품', 'Noun'), ('성', 'Suffix'), ('이', 'Josa'), ('기존', 'Noun'), ('의', 'Josa'), ('문단', 'Noun'), ('에서', 'Josa'), ('얘기', 'Noun'), ('하는', 'Verb'), ('작품', 'Noun'), ('성', 'Suffix'), ('과는', 'Josa'), ('조금', 'Noun'), ('달라', 'Noun'), ('서', 'Josa'), ('이', 'Determiner'), ('걸', 'Noun'), ('설명', 'Noun'), ('할', 'Verb'), ('수', 'Noun'), ('있는', 'Adjective'), ('언어', 'Noun'), ('가', 'Josa'), ('있었으면', 'Adjective'), ('좋겠다는', 'Adjective'), ('작가', 'Noun'), ('와', 'Josa'), ('독자', 'Noun'), ('들', 'Suffix'), ('을', 'Josa'), ('봤다', 'Verb'), ('면서', 'Noun'), ('웹', 'Noun'), ('소설', 'Noun'), ('에', 'Josa'), ('대해', 'Noun'), ('서도', 'Noun'), ('평론', 'Noun'), ('이나', 'Josa'), ('분석', 'Noun'), ('이', 'Josa'), ('필요하다는', 'Adjective'), ('얘기', 'Noun'), ('인데', 'Josa'), ('아직', 'Adverb'), ('은', 'Noun'), ('비어있는', 'Verb'), ('상황', 'Noun'), ('이라고', 'Josa'), ('말', 'Noun'), ('했다', 'Verb'), ('영화', 'Noun'), ('와', 'Josa'), ('드라마', 'Noun'), ('의', 'Josa'), ('원작', 'Noun'), ('으로', 'Josa'), ('몸값', 'Noun'), ('상승', 'Noun'), ('중', 'Noun'), ('이야기', 'Noun'), ('산업', 'Noun'), ('으로서의', 'Josa'), ('웹', 'Noun'), ('소설', 'Noun'), ('의', 'Josa'), ('성장', 'Noun'), ('세는', 'Verb'), ('폭발', 'Noun'), ('적', 'Suffix'), ('이다', 'Josa'), ('지난', 'Noun'), ('년', 'Noun'), ('억원', 'Noun'), ('수준', 'Noun'), ('이던', 'Josa'), ('국내', 'Noun'), ('웹', 'Noun'), ('소설', 'Noun'), ('시장', 'Noun'), ('의', 'Josa'), ('전체', 'Noun'), ('규모', 'Noun'), ('는', 'Josa'), ('년', 'Noun'), ('억원', 'Noun'), ('으로', 'Josa'), ('급상승', 'Noun'), ('세', 'Noun'), ('를', 'Josa'), ('보였다', 'Verb'), ('수십만', 'Modifier'), ('수백만', 'Noun'), ('명의', 'Noun'), ('검증', 'Noun'), ('을', 'Josa'), ('거친', 'Verb'), ('웹', 'Noun'), ('소설', 'Noun'), ('은', 'Josa'), ('영화', 'Noun'), ('와', 'Josa'), ('드라마', 'Noun'), ('의', 'Josa'), ('원작', 'Noun'), ('으로서', 'Josa'), ('갈수록', 'Noun'), ('몸값', 'Noun'), ('이', 'Josa'), ('올라가고', 'Verb'), ('있다', 'Adjective'), ('이진수', 'Noun'), ('카카오페이지', 'Noun'), ('대표', 'Noun'), ('는', 'Josa'), ('천문학', 'Noun'), ('적', 'Suffix'), ('인', 'Josa'), ('제작비', 'Noun'), ('라는', 'Josa'), ('리스크', 'Noun'), ('를', 'Josa'), ('안고', 'Noun'), ('있는', 'Adjective'), ('영상', 'Noun'), ('시장', 'Noun'), ('에서', 'Josa'), ('이미', 'Adverb'), ('검증', 'Noun'), ('된', 'Verb'), ('시나리오', 'Noun'), ('와', 'Josa'), ('그', 'Noun'), ('이야기', 'Noun'), ('를', 'Josa'), ('좋아하는', 'Adjective'), ('수십만', 'Modifier'), ('수백만', 'Noun'), ('명의', 'Noun'), ('열성', 'Noun'), ('독자', 'Noun'), ('층', 'Noun'), ('이', 'Josa'), ('있는', 'Adjective'), ('경우', 'Noun'), ('에는', 'Josa'), ('당연히', 'Adjective'), ('영상', 'Noun'), ('시장', 'Noun'), ('에서', 'Josa'), ('리스크', 'Noun'), ('를', 'Josa'), ('많이', 'Adverb'), ('줄일', 'Verb'), ('수', 'Noun'), ('있는', 'Adjective'), ('요인', 'Noun'), ('이', 'Josa'), ('된다', 'Verb'), ('고', 'Noun'), ('말', 'Noun'), ('했다', 'Verb'), ('웹', 'Noun'), ('소설', 'Noun'), ('과', 'Josa'), ('드라마', 'Noun'), ('의', 'Josa'), ('선', 'Noun'), ('순환', 'Noun'), ('구조', 'Noun'), ('를', 'Josa'), ('보여준', 'Verb'), ('최근', 'Noun'), ('의', 'Josa'), ('사례', 'Noun'), ('가', 'Josa'), ('김', 'Noun'), ('비서', 'Noun'), ('가', 'Josa'), ('왜', 'Noun'), ('그럴까', 'Adjective'), ('이다', 'Josa'), ('카카오페이지', 'Noun'), ('에서', 'Josa'), ('엄청난', 'Adjective'), ('독자', 'Noun'), ('를', 'Josa'), ('모은', 'Verb'), ('이', 'Noun'), ('웹', 'Noun'), ('소설', 'Noun'), ('은', 'Josa'), ('드라마', 'Noun'), ('로', 'Josa'), ('제작', 'Noun'), ('되어', 'Verb'), ('높은', 'Adjective'), ('시청률', 'Noun'), ('을', 'Josa'), ('기록', 'Noun'), ('했고', 'Verb'), ('이는', 'Verb'), ('다시', 'Noun'), ('원작', 'Noun'), ('웹', 'Noun'), ('소설', 'Noun'), ('과', 'Josa'), ('웹툰', 'Noun'), ('의', 'Josa'), ('인기', 'Noun'), ('상승', 'Noun'), ('으로', 'Josa'), ('이어졌다', 'Verb'), ('정경윤', 'Noun'), ('작가', 'Noun'), ('는', 'Josa'), ('부산', 'Noun'), ('에서', 'Josa'), ('약사', 'Noun'), ('를', 'Josa'), ('하면서', 'Verb'), ('틈틈이', 'Noun'), ('이', 'Noun'), ('소설', 'Noun'), ('을', 'Josa'), ('썼다', 'Verb'), ('힘들지', 'Adjective'), ('않았느냐는', 'Verb'), ('기자', 'Noun'), ('의', 'Josa'), ('질문', 'Noun'), ('에', 'Josa'), ('정', 'Noun'), ('작가', 'Noun'), ('는', 'Josa'), ('약국', 'Noun'), ('일', 'Noun'), ('을', 'Josa'), ('하다', 'Verb'), ('보면', 'Verb'), ('몸', 'Noun'), ('도', 'Josa'), ('지치고', 'Verb'), ('피곤한데', 'Adjective'), ('소설', 'Noun'), ('쓰는', 'Verb'), ('건', 'Noun'), ('전혀', 'Noun'), ('피곤하지', 'Adjective'), ('않고', 'Verb'), ('재미있었다', 'Adjective'), ('며', 'Noun'), ('나중', 'Noun'), ('에는', 'Josa'), ('정말', 'Noun'), ('미쳐서', 'Adjective'), ('밥', 'Noun'), ('먹는', 'Verb'), ('시간', 'Noun'), ('도', 'Josa'), ('자는', 'Verb'), ('시간', 'Noun'), ('도', 'Josa'), ('쉬는', 'Verb'), ('시간', 'Noun'), ('도', 'Josa'), ('다', 'Adverb'), ('줄', 'Noun'), ('여서', 'Josa'), ('전력', 'Noun'), ('을', 'Josa'), ('다해', 'Noun'), ('서', 'Josa'), ('썼는데', 'Verb'), ('그게', 'Noun'), ('취미', 'Noun'), ('이자', 'Noun'), ('마음', 'Noun'), ('의', 'Josa'), ('치유', 'Noun'), ('가', 'Josa'), ('됐다', 'Verb'), ('고', 'Noun'), ('말', 'Noun'), ('했다', 'Verb'), ('또', 'Noun'), ('선배', 'Noun'), ('작가', 'Noun'), ('로서', 'Noun'), ('작가', 'Noun'), ('지망', 'Noun'), ('생', 'Noun'), ('들', 'Suffix'), ('에게', 'Josa'), ('조언', 'Noun'), ('을', 'Josa'), ('해달라는', 'Verb'), ('주문', 'Noun'), ('에', 'Josa'), ('대해', 'Noun'), ('서는', 'Verb'), ('아무리', 'Adverb'), ('시장', 'Noun'), ('이', 'Josa'), ('커졌어도', 'Verb'), ('좋아하는', 'Adjective'), ('마음', 'Noun'), ('없이', 'Adverb'), ('그냥', 'Noun'), ('생업', 'Noun'), ('으로', 'Josa'), ('하기에는', 'Verb'), ('너무', 'Adverb'), ('어려운', 'Adjective'), ('일인', 'Noun'), ('것', 'Noun'), ('같다', 'Adjective'), ('너무', 'Adverb'), ('조급해하지', 'Adjective'), ('말고', 'Josa'), ('즐기면서', 'Verb'), ('천천히', 'Adverb'), ('여유', 'Noun'), ('있게', 'Adjective'), ('썼으면', 'Verb'), ('좋겠다', 'Adjective'), ('고', 'Noun'), ('말', 'Noun'), ('했다', 'Verb'), ('한국', 'Noun'), ('콘텐츠', 'Noun'), ('진흥', 'Noun'), ('원', 'Suffix'), ('조사', 'Noun'), ('에', 'Josa'), ('따르면', 'Verb'), ('웹', 'Noun'), ('소설', 'Noun'), ('작가', 'Noun'), ('의', 'Josa'), ('평균', 'Noun'), ('수입', 'Noun'), ('은', 'Josa'), ('년', 'Noun'), ('기준', 'Noun'), ('으로', 'Josa'), ('만원', 'Noun'), ('으로', 'Josa'), ('나타났다', 'Verb'), ('연', 'Noun'), ('수입', 'Noun'), ('이', 'Josa'), ('억대', 'Noun'), ('에', 'Josa'), ('이르는', 'Verb'), ('작가', 'Noun'), ('도', 'Josa'), ('많고', 'Adjective'), ('정상', 'Noun'), ('급', 'Suffix'), ('인기', 'Noun'), ('작가', 'Noun'), ('들', 'Suffix'), ('의', 'Josa'), ('경우', 'Noun'), ('는', 'Josa'), ('억원', 'Noun'), ('을', 'Josa'), ('상회', 'Noun'), ('한다고', 'Verb'), ('한다', 'Verb'), ('하지만', 'Conjunction'), ('대다수', 'Noun'), ('작가', 'Noun'), ('는', 'Josa'), ('수입', 'Noun'), ('이', 'Josa'), ('많지', 'Adjective'), ('않다', 'Verb'), ('작가', 'Noun'), ('명', 'Noun'), ('중', 'Noun'), ('명', 'Noun'), ('가까이', 'Noun'), ('가', 'Josa'), ('연', 'Noun'), ('수입', 'Noun'), ('천만원', 'Noun'), ('미만', 'Noun'), ('으로', 'Josa'), ('조사', 'Noun'), ('됐다', 'Verb'), ('웹', 'Noun'), ('소설', 'Noun'), ('은', 'Josa'), ('웹툰', 'Noun'), ('과', 'Josa'), ('함께', 'Adverb'), ('차세대', 'Noun'), ('한류', 'Noun'), ('의', 'Josa'), ('주역', 'Noun'), ('으로서도', 'Josa'), ('주목', 'Noun'), ('된다', 'Verb'), ('네이버', 'Noun'), ('와', 'Josa'), ('카카오페이지', 'Noun'), ('는', 'Josa'), ('해외', 'Noun'), ('웹툰', 'Noun'), ('시장', 'Noun'), ('에', 'Josa'), ('진출', 'Noun'), ('했고', 'Verb'), ('문', 'Modifier'), ('피아', 'Noun'), ('도', 'Josa'), ('해외진출', 'Noun'), ('을', 'Josa'), ('모색', 'Noun'), ('하고', 'Josa'), ('있다', 'Adjective'), ('해외', 'Noun'), ('시장', 'Noun'), ('을', 'Josa'), ('분석', 'Noun'), ('한', 'Josa'), ('전문가', 'Noun'), ('들', 'Suffix'), ('은', 'Josa'), ('우리', 'Noun'), ('작가', 'Noun'), ('들', 'Suffix'), ('의', 'Josa'), ('창의성', 'Noun'), ('과', 'Josa'), ('스토리', 'Noun'), ('가', 'Josa'), ('해외', 'Noun'), ('시장', 'Noun'), ('에서도', 'Josa'), ('충분한', 'Adjective'), ('경쟁력', 'Noun'), ('을', 'Josa'), ('갖고', 'Verb'), ('있다고', 'Adjective'), ('본다', 'Verb'), ('이렇게', 'Adverb'), ('웹', 'Noun'), ('소설', 'Noun'), ('은', 'Josa'), ('막대', 'Noun'), ('한', 'Josa'), ('에너지', 'Noun'), ('를', 'Josa'), ('품고', 'Verb'), ('빠르게', 'Adjective'), ('영역', 'Noun'), ('을', 'Josa'), ('넓히고', 'Verb'), ('있다', 'Adjective'), ('하지만', 'Conjunction'), ('그', 'Noun'), ('에', 'Josa'), ('비', 'Noun'), ('해서', 'Verb'), ('우리', 'Noun'), ('사회', 'Noun'), ('의', 'Josa'), ('담론', 'Noun'), ('은', 'Josa'), ('초기', 'Noun'), ('단계', 'Noun'), ('를', 'Josa'), ('벗어나지', 'Verb'), ('못', 'Noun'), ('하고', 'Josa'), ('있다', 'Adjective'), ('웹', 'Noun'), ('소설', 'Noun'), ('에', 'Josa'), ('대한', 'Noun'), ('진지한', 'Adjective'), ('담론', 'Noun'), ('형성', 'Noun'), ('을', 'Josa'), ('기대하며', 'Adjective'), ('장강', 'Noun'), ('명', 'Suffix'), ('작가', 'Noun'), ('는', 'Josa'), ('우리', 'Noun'), ('사회', 'Noun'), ('에서', 'Josa'), ('웹', 'Noun'), ('소설', 'Noun'), ('을', 'Josa'), ('얘기', 'Noun'), ('하는', 'Verb'), ('맥락', 'Noun'), ('은', 'Josa'), ('대부분', 'Noun'), ('시장', 'Noun'), ('규모', 'Noun'), ('나', 'Josa'), ('작가', 'Noun'), ('의', 'Josa'), ('수입', 'Noun'), ('같은', 'Adjective'), ('데', 'Noun'), ('머물러', 'Verb'), ('있고', 'Adjective'), ('웹', 'Noun'), ('소설', 'Noun'), ('의', 'Josa'), ('새로운', 'Adjective'), ('작품', 'Noun'), ('성과', 'Noun'), ('시', 'Modifier'), ('대', 'Modifier'), ('감각', 'Noun'), ('을', 'Josa'), ('포착', 'Noun'), ('하려는', 'Verb'), ('노력', 'Noun'), ('은', 'Josa'), ('굉장히', 'Adjective'), ('드물다', 'Adjective'), ('면서', 'Noun'), ('웹', 'Noun'), ('소설', 'Noun'), ('영역', 'Noun'), ('에', 'Josa'), ('형성', 'Noun'), ('된', 'Verb'), ('엄청난', 'Adjective'), ('기운', 'Noun'), ('을', 'Josa'), ('좋은', 'Adjective'), ('방향', 'Noun'), ('으로', 'Josa'), ('이끌기', 'Verb'), ('위해', 'Noun'), ('기존', 'Noun'), ('문학계', 'Noun'), ('와', 'Josa'), ('공공', 'Modifier'), ('부문', 'Noun'), ('독자', 'Noun'), ('들', 'Suffix'), ('이', 'Josa'), ('모두', 'Noun'), ('관심', 'Noun'), ('을', 'Josa'), ('가질', 'Verb'), ('때', 'Noun'), ('라고', 'Josa'), ('말', 'Noun'), ('했다', 'Verb'), ('웹', 'Noun'), ('소설', 'Noun'), ('생태계', 'Noun'), ('에서는', 'Josa'), ('사회', 'Noun'), ('적', 'Suffix'), ('담론', 'Noun'), ('의', 'Josa'), ('형성', 'Noun'), ('방식', 'Noun'), ('도', 'Josa'), ('기존', 'Noun'), ('의', 'Josa'), ('출판', 'Noun'), ('문학계', 'Noun'), ('와', 'Josa'), ('다를', 'Adjective'), ('수', 'Noun'), ('있다', 'Adjective'), ('생산자', 'Noun'), ('와', 'Josa'), ('소비자', 'Noun'), ('의', 'Josa'), ('경계', 'Noun'), ('가', 'Josa'), ('허물', 'Noun'), ('어진', 'Noun'), ('만큼', 'Noun'), ('비평', 'Noun'), ('의', 'Josa'), ('영역', 'Noun'), ('도', 'Josa'), ('열려', 'Verb'), ('있다', 'Adjective'), ('웹', 'Noun'), ('소설', 'Noun'), ('의', 'Josa'), ('끓어', 'Verb'), ('넘치는', 'Adjective'), ('에너지', 'Noun'), ('가', 'Josa'), ('우리', 'Noun'), ('문화', 'Noun'), ('전반', 'Noun'), ('에', 'Josa'), ('가져올', 'Verb'), ('파급', 'Noun'), ('효과', 'Noun'), ('를', 'Josa'), ('감안', 'Noun'), ('한다면', 'Verb'), ('플랫폼', 'Noun'), ('업체', 'Noun'), ('나', 'Josa'), ('공공', 'Noun'), ('부문', 'Noun'), ('에서도', 'Josa'), ('진지한', 'Adjective'), ('담론', 'Noun'), ('이', 'Josa'), ('형성', 'Noun'), ('되는', 'Verb'), ('공간', 'Noun'), ('을', 'Josa'), ('마련', 'Noun'), ('하는', 'Verb'), ('데', 'Noun'), ('더', 'Noun'), ('많은', 'Adjective'), ('관심', 'Noun'), ('을', 'Josa'), ('기울여야', 'Verb'), ('할', 'Verb'), ('것', 'Noun'), ('으로', 'Josa'), ('보인다', 'Verb'), ('출처', 'Noun'), ('뉴스', 'Noun'), ('원본', 'Noun'), ('링크', 'Noun')]\n"
     ]
    },
    {
     "name": "stdout",
     "output_type": "stream",
     "text": [
      "[('독서', 'NNP'), ('의', 'JKG'), ('위기', 'NNG'), ('출판', 'NNG'), ('계', 'XSN'), ('의', 'JKG'), ('불황', 'NNG'), ('얘기', 'NNG'), ('가', 'JKS'), ('나오', 'VV'), ('ㄴ', 'ETM'), ('지', 'NNB'), ('오래', 'MAG'), ('되', 'VV'), ('었', 'EP'), ('지만', 'EC'), ('사정', 'NNG'), ('이', 'JKS'), ('나아지', 'VV'), ('었', 'EP'), ('다는', 'ETM'), ('소식', 'NNG'), ('은', 'JX'), ('들리', 'VV'), ('지', 'EC'), ('않', 'VX'), ('는다', 'EC'), ('요즘', 'NNG'), ('종이', 'NNP'), ('책', 'NNG'), ('은', 'JX'), ('만', 'NR'), ('권', 'XSN'), ('정도', 'NNG'), ('만', 'JX'), ('팔리', 'VV'), ('면', 'EC'), ('베스트셀러', 'NNP'), ('목록', 'NNG'), ('에', 'JKB'), ('오르', 'VV'), ('ㄴ다고', 'EC'), ('하', 'VV'), ('ㄴ다', 'EC'), ('하지만', 'MAJ'), ('이', 'NP'), ('와', 'JKB'), ('는', 'JX'), ('분위기', 'NNG'), ('가', 'JKS'), ('사뭇', 'MAG'), ('다른', 'MM'), ('곳', 'NNG'), ('이', 'JKS'), ('있', 'VV'), ('다', 'EC'), ('스마트폰', 'NNP'), ('이나', 'JC'), ('로', 'NNG'), ('읽', 'VV'), ('는', 'ETM'), ('웹', 'NNG'), ('소설', 'NNG'), ('이', 'VCP'), ('다', 'EC'), ('인기', 'NNG'), ('웹', 'NNG'), ('소설', 'NNG'), ('은', 'JX'), ('독자', 'NNG'), ('수', 'NNB'), ('가', 'JKS'), ('백만', 'NR'), ('명', 'NNB'), ('을', 'JKO'), ('가볍', 'VA'), ('게', 'EC'), ('넘어서', 'VV'), ('ㄴ다', 'EC'), ('웹', 'NNG'), ('소설', 'NNG'), ('은', 'JX'), ('웹', 'NNG'), ('에서', 'JKB'), ('처음', 'NNG'), ('공개', 'NNG'), ('되', 'XSV'), ('는', 'ETM'), ('소설', 'NNG'), ('이다', 'NNP'), ('기존', 'NNG'), ('에', 'JKB'), ('출판', 'NNG'), ('되', 'XSV'), ('ㄴ', 'ETM'), ('소설', 'NNG'), ('을', 'JKO'), ('웹', 'NNG'), ('에', 'JKB'), ('게재', 'NNG'), ('하', 'XSV'), ('는', 'ETM'), ('경우', 'NNG'), ('를', 'JKO'), ('웹', 'NNG'), ('소설', 'NNG'), ('이', 'VCP'), ('라고', 'EC'), ('하', 'VV'), ('지', 'EC'), ('는', 'JX'), ('않', 'VX'), ('는다', 'EC'), ('웹', 'NNG'), ('소설', 'NNG'), ('은', 'JX'), ('처음', 'NNG'), ('부터', 'JX'), ('웹', 'NNG'), ('에서', 'JKB'), ('의', 'JKG'), ('연재', 'NNG'), ('를', 'JKO'), ('겨냥', 'NNG'), ('하', 'XSV'), ('고', 'EC'), ('창작', 'NNG'), ('되', 'XSV'), ('는', 'ETM'), ('것', 'NNB'), ('이', 'VCP'), ('다', 'EC'), ('짧', 'VA'), ('은', 'ETM'), ('시간', 'NNG'), ('에', 'JKB'), ('가볍', 'VA'), ('게', 'EC'), ('읽기', 'NNP'), ('가', 'JKS'), ('좋', 'VA'), ('도록', 'EC'), ('나뉘', 'VV'), ('어', 'EC'), ('연재', 'NNG'), ('되', 'XSV'), ('는', 'ETM'), ('스낵', 'NNP'), ('컬처', 'NNP'), ('의', 'NNG'), ('성격', 'NNG'), ('이', 'JKS'), ('강하', 'VA'), ('다', 'EC'), ('그래서', 'MAJ'), ('웹', 'NNG'), ('소설', 'NNG'), ('은', 'JX'), ('연재', 'NNP'), ('매', 'MM'), ('회', 'NNB'), ('마다', 'JX'), ('긴장감', 'NNG'), ('과', 'JC'), ('흥미', 'NNG'), ('를', 'JKO'), ('잃', 'VV'), ('지', 'EC'), ('않', 'VX'), ('고', 'EC'), ('스토리', 'NNP'), ('를', 'JKO'), ('잇', 'VV'), ('어', 'EC'), ('가', 'VX'), ('는', 'ETM'), ('게', 'NNG'), ('중요', 'XR'), ('하', 'XSA'), ('다', 'EC'), ('인물', 'NNG'), ('캐릭터', 'NNP'), ('와', 'JC'), ('대화', 'NNG'), ('중심', 'NNG'), ('의', 'JKG'), ('빠르', 'VA'), ('ㄴ', 'ETM'), ('전개', 'NNG'), ('가', 'JKS'), ('독자', 'NNG'), ('들', 'XSN'), ('의', 'JKG'), ('호응', 'NNG'), ('을', 'JKO'), ('얻', 'VV'), ('기', 'ETN'), ('쉽', 'VA'), ('다', 'EC'), ('진입', 'NNG'), ('장벽', 'NNG'), ('없', 'VA'), ('어', 'EC'), ('작가', 'NNG'), ('수', 'NNB'), ('빠르', 'VA'), ('게', 'EC'), ('늘어나', 'VV'), ('아', 'EC'), ('웹', 'NNG'), ('소설', 'NNG'), ('작가', 'NNG'), ('가', 'JKS'), ('되', 'VV'), ('는', 'ETM'), ('데', 'NNB'), ('는', 'JX'), ('진입', 'NNG'), ('장벽', 'NNG'), ('이', 'JKS'), ('없', 'VA'), ('다', 'EC'), ('누구', 'NP'), ('나', 'JX'), ('무료', 'NNP'), ('웹', 'NNG'), ('소설', 'NNG'), ('플랫폼', 'NNP'), ('에', 'JKB'), ('자신', 'NNG'), ('의', 'JKG'), ('소설', 'NNG'), ('을', 'JKO'), ('연재', 'NNG'), ('하', 'XSV'), ('ㄹ', 'ETM'), ('수', 'NNB'), ('있', 'VV'), ('다는', 'ETM'), ('의미', 'NNG'), ('다', 'JX'), ('무협', 'NNP'), ('판타지', 'NNP'), ('전문', 'NNG'), ('플랫폼', 'NNP'), ('이', 'VCP'), ('ㄴ', 'ETM'), ('문', 'NNP'), ('피아', 'NNP'), ('의', 'NNG'), ('김환', 'NNP'), ('철', 'NNP'), ('대표', 'NNG'), ('필명', 'NNP'), ('금강', 'NNP'), ('늘', 'VV'), ('ㄴ', 'ETM'), ('커트라인', 'NNG'), ('을', 'JKO'), ('두', 'VV'), ('어서', 'EC'), ('괜찮', 'VA'), ('은', 'ETM'), ('것', 'NNB'), ('만', 'JX'), ('올리', 'VV'), ('자는', 'ETM'), ('의견', 'NNG'), ('도', 'JX'), ('있', 'VX'), ('었', 'EP'), ('지만', 'EC'), ('그러면', 'MAJ'), ('출판사', 'NNP'), ('와', 'JC'), ('다르', 'VA'), ('ㄹ', 'ETM'), ('게', 'NNG'), ('무엇', 'NP'), ('이', 'VCP'), ('ㄴ가', 'EC'), ('모두', 'NNG'), ('가', 'JKS'), ('올리', 'VV'), ('고', 'EC'), ('독자', 'NNG'), ('가', 'JKS'), ('바로', 'MAG'), ('평가', 'NNG'), ('하', 'XSV'), ('도록', 'EC'), ('하', 'VV'), ('았', 'EP'), ('다', 'EC'), ('고', 'MM'), ('말', 'NNG'), ('하', 'XSV'), ('았', 'EP'), ('다', 'EC'), ('독자', 'NNG'), ('의', 'JKG'), ('선택', 'NNG'), ('을', 'JKO'), ('받', 'VV'), ('아', 'EC'), ('인기', 'NNG'), ('를', 'JKO'), ('얻', 'VV'), ('으면', 'EC'), ('유료', 'NNG'), ('판매', 'NNG'), ('를', 'JKO'), ('통하', 'VV'), ('아', 'EC'), ('작가', 'NNG'), ('로서', 'JKB'), ('수입', 'NNG'), ('을', 'JKO'), ('내', 'VV'), ('ㄹ', 'ETM'), ('수', 'NNB'), ('있', 'VV'), ('다', 'EC'), ('웹', 'NNG'), ('소설', 'NNG'), ('에서', 'JKB'), ('는', 'JX'), ('생산자', 'NNG'), ('와', 'JC'), ('소비자', 'NNG'), ('의', 'JKG'), ('경계', 'NNG'), ('가', 'JKS'), ('허물어지', 'VV'), ('고', 'EC'), ('있', 'VV'), ('다', 'EC'), ('그만큼', 'MAG'), ('작가', 'NNG'), ('수', 'NNB'), ('도', 'JX'), ('빠르', 'VA'), ('게', 'EC'), ('늘', 'VV'), ('고', 'EC'), ('있', 'VV'), ('다', 'EC'), ('문', 'NNP'), ('피아', 'NNP'), ('만', 'NR'), ('하', 'VV'), ('아도', 'EC'), ('만', 'NR'), ('명', 'NNB'), ('의', 'JKG'), ('작가', 'NNG'), ('가', 'JKS'), ('활동', 'NNG'), ('하', 'XSV'), ('고', 'EC'), ('있', 'VV'), ('고', 'EC'), ('국내', 'NNG'), ('전체', 'NNG'), ('적', 'XSN'), ('으로', 'JKB'), ('는', 'JX'), ('웹', 'NNG'), ('소설', 'NNG'), ('작가', 'NNG'), ('의', 'JKG'), ('수', 'NNB'), ('가', 'JKS'), ('만', 'NR'), ('명', 'NNB'), ('이', 'JKS'), ('넘', 'VV'), ('을', 'ETM'), ('것', 'NNB'), ('으로', 'JKB'), ('추정', 'NNG'), ('되', 'XSV'), ('ㄴ다', 'EC'), ('이', 'NP'), ('처럼', 'JKB'), ('수십만', 'NR'), ('작가', 'NNG'), ('와', 'JC'), ('수백만', 'NR'), ('독자', 'NNG'), ('가', 'JKS'), ('모이', 'VV'), ('어', 'EC'), ('함께', 'MAG'), ('만들', 'VV'), ('는', 'ETM'), ('웹', 'NNG'), ('소설', 'NNG'), ('생태계', 'NNP'), ('에', 'JKB'), ('는', 'JX'), ('용광로', 'NNP'), ('와', 'JC'), ('같', 'VA'), ('은', 'ETM'), ('에너지', 'NNG'), ('가', 'JKS'), ('넘치', 'VV'), ('ㄴ다', 'EC'), ('진입', 'NNG'), ('장벽', 'NNG'), ('이', 'JKS'), ('없', 'VA'), ('는', 'ETM'), ('대신', 'NNG'), ('경쟁', 'NNG'), ('은', 'JX'), ('어느', 'MM'), ('곳', 'NNG'), ('보다', 'JKB'), ('도', 'JX'), ('치열', 'XR'), ('하', 'XSA'), ('다', 'EC'), ('작가', 'NNG'), ('들', 'XSN'), ('은', 'JX'), ('매회', 'MAG'), ('연재', 'NNG'), ('하', 'XSV'), ('ㄹ', 'ETM'), ('때', 'NNG'), ('마다', 'JX'), ('조회', 'NNP'), ('수', 'NNB'), ('와', 'JKB'), ('독자', 'NNG'), ('의', 'JKG'), ('댓글', 'NNP'), ('을', 'JKO'), ('살피', 'VV'), ('면서', 'EC'), ('진', 'NNP'), ('검', 'NNG'), ('승부', 'NNG'), ('를', 'JKO'), ('펼치', 'VV'), ('ㄴ다', 'EC'), ('김환', 'NNP'), ('철', 'NNP'), ('문', 'NNP'), ('피아', 'NNP'), ('대표', 'NNG'), ('는', 'JX'), ('매일', 'MAG'), ('매일', 'NNG'), ('이', 'JKS'), ('전쟁', 'NNG'), ('같', 'VA'), ('다', 'EC'), ('그런', 'MM'), ('극심', 'XR'), ('하', 'XSA'), ('ㄴ', 'ETM'), ('경쟁', 'NNG'), ('을', 'JKO'), ('뚫', 'VV'), ('고', 'EC'), ('살아남', 'VV'), ('은', 'ETM'), ('작가', 'NNG'), ('들', 'XSN'), ('은', 'JX'), ('글', 'NNG'), ('을', 'JKO'), ('잘', 'MAG'), ('쓰', 'VV'), ('ㄹ', 'ETM'), ('수', 'NNB'), ('밖', 'NNG'), ('에', 'JKB'), ('없', 'VA'), ('다', 'EC'), ('고', 'MM'), ('말', 'NNG'), ('하', 'XSV'), ('았', 'EP'), ('다', 'EC'), ('환생', 'NNP'), ('회귀', 'NNG'), ('가', 'JKS'), ('넘치', 'VV'), ('는', 'ETM'), ('까닭', 'NNG'), ('은', 'JX'), ('작가', 'NNG'), ('와', 'JC'), ('독자', 'NNG'), ('의', 'JKG'), ('역동', 'NNG'), ('적', 'XSN'), ('이', 'VCP'), ('ㄴ', 'ETM'), ('상호작용', 'NNP'), ('을', 'JKO'), ('거치', 'VV'), ('어', 'EC'), ('나오', 'VV'), ('는', 'ETM'), ('웹', 'NNG'), ('소설', 'NNG'), ('은', 'JX'), ('독자', 'NNG'), ('의', 'JKG'), ('마음', 'NNG'), ('과', 'JC'), ('사회', 'NNG'), ('의', 'JKG'), ('분위기', 'NNG'), ('를', 'JKO'), ('섬세', 'XR'), ('하', 'XSA'), ('게', 'EC'), ('반영', 'NNG'), ('하', 'XSV'), ('ㄴ다', 'EC'), ('최근', 'NNG'), ('수', 'NNB'), ('년', 'NNB'), ('간', 'NNB'), ('웹', 'NNG'), ('소설', 'NNG'), ('에서', 'JKB'), ('유난히', 'MAG'), ('많이', 'MAG'), ('등장', 'NNG'), ('하', 'XSV'), ('는', 'ETM'), ('단어', 'NNG'), ('가', 'JKS'), ('회귀', 'NNG'), ('귀환', 'NNG'), ('환생', 'NNP'), ('이다', 'NNP'), ('이번', 'NNG'), ('생', 'NNG'), ('에', 'JKB'), ('실패', 'NNG'), ('하', 'XSV'), ('ㄴ', 'ETM'), ('사람', 'NNG'), ('이', 'JKS'), ('현재', 'NNG'), ('의', 'JKG'), ('기억', 'NNG'), ('을', 'JKO'), ('갖', 'VV'), ('고', 'EC'), ('과거', 'NNG'), ('로', 'JKB'), ('돌아가', 'VV'), ('아서', 'EC'), ('실수', 'NNG'), ('를', 'JKO'), ('바로잡', 'VV'), ('고', 'EC'), ('시원', 'XR'), ('하', 'XSA'), ('게', 'EC'), ('복수', 'NNG'), ('를', 'JKO'), ('하', 'VV'), ('는', 'ETM'), ('스토리', 'NNP'), ('다', 'JX'), ('네이버', 'NNP'), ('나', 'JC'), ('카카오페이지', 'NNP'), ('조아라', 'NNP'), ('문', 'NNP'), ('피아', 'NNP'), ('등', 'NNB'), ('여러', 'MM'), ('웹', 'NNG'), ('소설', 'NNG'), ('플랫폼', 'NNP'), ('에서', 'JKB'), ('최고', 'NNG'), ('의', 'JKG'), ('인기', 'NNG'), ('를', 'JKO'), ('얻', 'VV'), ('은', 'ETM'), ('작품', 'NNG'), ('의', 'JKG'), ('상당수', 'NNG'), ('가', 'JKS'), ('이런', 'MM'), ('스토리', 'NNP'), ('의', 'JKG'), ('틀', 'NNG'), ('을', 'JKO'), ('갖', 'VV'), ('고', 'EC'), ('있', 'VV'), ('다', 'EC'), ('김환', 'NNP'), ('철', 'NNP'), ('문', 'NNP'), ('피아', 'NNP'), ('대표', 'NNG'), ('는', 'JX'), ('길', 'VA'), ('게', 'EC'), ('보', 'VV'), ('면', 'EC'), ('년', 'NNB'), ('정도', 'NNG'), ('되', 'VV'), ('ㄴ', 'ETM'), ('트렌드', 'NNP'), ('이', 'VCP'), ('ㄴ데', 'EC'), ('이제', 'NNG'), ('는', 'JX'), ('대세', 'NNG'), ('가', 'JKS'), ('되', 'VV'), ('어서', 'EC'), ('수많', 'VA'), ('은', 'ETM'), ('작품', 'NNG'), ('에서', 'JKB'), ('환생', 'NNP'), ('과', 'JC'), ('회귀', 'NNG'), ('가', 'JKS'), ('일어나', 'VV'), ('고', 'EC'), ('있', 'VV'), ('다', 'EC'), ('면', 'NNG'), ('서', 'JKB'), ('갈수록', 'MAG'), ('각박', 'XR'), ('하', 'XSA'), ('고', 'EC'), ('힘들', 'VA'), ('어', 'EC'), ('지', 'VX'), ('는', 'ETM'), ('세상', 'NNG'), ('젊', 'VA'), ('은', 'ETM'), ('세대', 'NNG'), ('의', 'JKG'), ('좌절', 'NNG'), ('이', 'JKS'), ('빨리', 'MAG'), ('강하', 'VA'), ('아', 'EC'), ('지', 'VX'), ('고', 'EC'), ('쉽', 'VA'), ('게', 'EC'), ('성공', 'NNG'), ('하', 'XSV'), ('는', 'ETM'), ('판타지', 'NNP'), ('로', 'JKB'), ('투영', 'NNG'), ('이', 'JKS'), ('되', 'VV'), ('는', 'ETM'), ('것', 'NNB'), ('이', 'NP'), ('이', 'VCP'), ('라고', 'EC'), ('진단', 'NNG'), ('하', 'XSV'), ('았', 'EP'), ('다', 'EC'), ('이진수', 'NNP'), ('카카오페이지', 'NNP'), ('대표', 'NNG'), ('는', 'JX'), ('웹', 'NNG'), ('소설', 'NNG'), ('이나', 'JC'), ('웹툰', 'NNP'), ('만큼', 'NNB'), ('우리', 'NP'), ('사회', 'NNG'), ('곳곳', 'NNG'), ('을', 'JKO'), ('섬세', 'XR'), ('하', 'XSA'), ('고', 'EC'), ('다양', 'XR'), ('하', 'XSA'), ('게', 'EC'), ('표현', 'NNG'), ('하', 'XSV'), ('고', 'EC'), ('있', 'VV'), ('는', 'ETM'), ('매체', 'NNG'), ('가', 'JKS'), ('없', 'VA'), ('다', 'EC'), ('면', 'NNG'), ('서', 'JKB'), ('대한민국', 'NNP'), ('의', 'JKG'), ('기성', 'NNG'), ('세대', 'NNG'), ('들', 'XSN'), ('이', 'JKS'), ('지금', 'NNG'), ('의', 'JKG'), ('대', 'NNB'), ('와', 'JKB'), ('대', 'NNB'), ('를', 'JKO'), ('가장', 'MAG'), ('빠르', 'VA'), ('게', 'EC'), ('이해', 'NNG'), ('하', 'XSV'), ('ㄹ', 'ETM'), ('수', 'NNB'), ('있', 'VV'), ('는', 'ETM'), ('방법', 'NNG'), ('이', 'NP'), ('이', 'VCP'), ('라고', 'EC'), ('주장', 'NNG'), ('하', 'XSV'), ('았', 'EP'), ('다', 'EC'), ('작품', 'NNG'), ('성', 'XSN'), ('뛰어나', 'VA'), ('ㄴ', 'ETM'), ('웹', 'NNG'), ('소설', 'NNG'), ('도', 'JX'), ('많', 'VA'), ('은데', 'EC'), ('평론', 'NNP'), ('은', 'JX'), ('웹', 'NNG'), ('소설', 'NNG'), ('하', 'VV'), ('면', 'EC'), ('스낵', 'NNP'), ('컬처', 'NNP'), ('상업', 'NNG'), ('성', 'XSN'), ('중독', 'NNG'), ('성', 'XSN'), ('등', 'NNB'), ('을', 'JKO'), ('떠올리', 'VV'), ('게', 'EC'), ('되', 'VV'), ('지만', 'EC'), ('그런', 'MM'), ('가운데', 'NNG'), ('뛰어나', 'VA'), ('ㄴ', 'ETM'), ('작품', 'NNG'), ('성', 'XSN'), ('을', 'JKO'), ('함께', 'MAG'), ('성취', 'NNG'), ('하', 'XSV'), ('ㄴ', 'ETM'), ('명작', 'NNG'), ('들', 'XSN'), ('도', 'JX'), ('적', 'VA'), ('지', 'EC'), ('않', 'VX'), ('게', 'EC'), ('발견', 'NNG'), ('되', 'XSV'), ('ㄴ다', 'EC'), ('무협', 'NNP'), ('이나', 'JC'), ('판타지', 'NNP'), ('스토리', 'NNP'), ('속', 'NNG'), ('에', 'JKB'), ('신화', 'NNG'), ('와', 'JC'), ('종교', 'NNG'), ('현대', 'NNP'), ('과학', 'NNP'), ('등', 'NNB'), ('다방면', 'NNG'), ('에', 'JKB'), ('걸치', 'VV'), ('어', 'EC'), ('해박', 'XR'), ('하', 'XSA'), ('ㄴ', 'ETM'), ('지식', 'NNG'), ('과', 'JC'), ('창의', 'NNG'), ('적', 'XSN'), ('이', 'VCP'), ('ㄴ', 'ETM'), ('세계관', 'NNG'), ('을', 'JKO'), ('담아내', 'VV'), ('ㄴ', 'ETM'), ('작품', 'NNG'), ('을', 'JKO'), ('만나', 'VV'), ('면', 'EC'), ('필명', 'NNP'), ('으로', 'JKB'), ('자신', 'NNG'), ('을', 'JKO'), ('감추', 'VV'), ('는', 'ETM'), ('작가', 'NNG'), ('에', 'JKB'), ('대하', 'VV'), ('ㄴ', 'ETM'), ('궁금증', 'NNG'), ('이', 'JKS'), ('들', 'VV'), ('기', 'ETN'), ('도', 'JX'), ('하', 'VV'), ('ㄴ다', 'EC'), ('이런', 'MM'), ('작품', 'NNG'), ('들', 'XSN'), ('은', 'JX'), ('매회', 'MAG'), ('흥미', 'NNG'), ('와', 'JC'), ('긴장감', 'NNG'), ('을', 'JKO'), ('유지', 'NNG'), ('하', 'XSV'), ('아야', 'EC'), ('하', 'VV'), ('ㄴ다는', 'ETM'), ('웹', 'NNG'), ('소설', 'NNG'), ('의', 'JKG'), ('문법', 'NNG'), ('을', 'JKO'), ('벗어나', 'VV'), ('기', 'ETN'), ('도', 'JX'), ('하지만', 'MAJ'), ('한', 'MM'), ('번', 'NNB'), ('마니아', 'NNG'), ('가', 'JKS'), ('되', 'VV'), ('ㄴ', 'ETM'), ('독자', 'NNG'), ('들', 'XSN'), ('은', 'JX'), ('작가', 'NNG'), ('의', 'JKG'), ('고집', 'NNG'), ('을', 'JKO'), ('긍정', 'NNG'), ('적', 'XSN'), ('으로', 'JKB'), ('이해', 'NNG'), ('하', 'XSV'), ('아', 'EC'), ('주', 'VX'), ('는', 'ETM'), ('편', 'NNB'), ('이', 'VCP'), ('다', 'EC'), ('이', 'NP'), ('와', 'JKB'), ('관련', 'NNG'), ('하', 'XSV'), ('아', 'EC'), ('장강명', 'NNP'), ('작가', 'NNG'), ('는', 'JX'), ('굉장히', 'MAG'), ('뛰어나', 'VA'), ('ㄴ', 'ETM'), ('작품', 'NNG'), ('성', 'XSN'), ('을', 'JKO'), ('보이', 'VV'), ('어', 'EC'), ('주', 'VX'), ('는', 'ETM'), ('웹', 'NNG'), ('소설', 'NNG'), ('들', 'XSN'), ('이', 'JKS'), ('있', 'VV'), ('는데', 'EC'), ('그', 'MM'), ('작품', 'NNG'), ('성', 'XSN'), ('이', 'JKS'), ('기존', 'NNG'), ('의', 'JKG'), ('문단', 'NNG'), ('에서', 'JKB'), ('얘기', 'NNG'), ('하', 'XSV'), ('는', 'ETM'), ('작품', 'NNG'), ('성', 'XSN'), ('과', 'JKB'), ('는', 'JX'), ('조금', 'MAG'), ('다르', 'VA'), ('아서', 'EC'), ('이거', 'NP'), ('ㄹ', 'JKO'), ('설명', 'NNG'), ('하', 'XSV'), ('ㄹ', 'ETM'), ('수', 'NNB'), ('있', 'VV'), ('는', 'ETM'), ('언어', 'NNG'), ('가', 'JKS'), ('있', 'VX'), ('었', 'EP'), ('으면', 'EC'), ('좋', 'VA'), ('겠', 'EP'), ('다는', 'ETM'), ('작가', 'NNG'), ('와', 'JC'), ('독자', 'NNG'), ('들', 'XSN'), ('을', 'JKO'), ('보', 'VV'), ('았', 'EP'), ('다', 'EC'), ('면', 'NNG'), ('서', 'JKB'), ('웹', 'NNG'), ('소설', 'NNG'), ('에', 'JKB'), ('대하', 'VV'), ('아서', 'EC'), ('도', 'JX'), ('평론', 'NNP'), ('이나', 'JC'), ('분석', 'NNG'), ('이', 'JKS'), ('필요', 'NNG'), ('하', 'XSV'), ('다는', 'ETM'), ('얘기', 'NNG'), ('이', 'VCP'), ('ㄴ데', 'EC'), ('아직', 'MAG'), ('은', 'JX'), ('비', 'VV'), ('어', 'EC'), ('있', 'VX'), ('는', 'ETM'), ('상황', 'NNG'), ('이', 'NP'), ('이', 'VCP'), ('라고', 'EC'), ('말', 'NNG'), ('하', 'XSV'), ('았', 'EP'), ('다', 'EC'), ('영화', 'NNG'), ('와', 'JC'), ('드라마', 'NNP'), ('의', 'JKG'), ('원작', 'NNP'), ('으로', 'JKB'), ('몸값', 'NNG'), ('상승', 'NNG'), ('중', 'NNB'), ('이야기', 'NNG'), ('산업', 'NNG'), ('으로서', 'JKB'), ('의', 'JKG'), ('웹', 'NNG'), ('소설', 'NNG'), ('의', 'JKG'), ('성장세', 'NNG'), ('는', 'JX'), ('폭발', 'NNG'), ('적', 'XSN'), ('이', 'VCP'), ('다', 'EC'), ('지나', 'VV'), ('ㄴ', 'ETM'), ('년', 'NNB'), ('억', 'NR'), ('원', 'NNB'), ('수준', 'NNG'), ('이', 'VCP'), ('던', 'ETM'), ('국내', 'NNG'), ('웹', 'NNG'), ('소설', 'NNG'), ('시장', 'NNG'), ('의', 'JKG'), ('전체', 'NNG'), ('규모', 'NNG'), ('는', 'JX'), ('년', 'NNB'), ('억', 'NR'), ('원', 'NNB'), ('으로', 'JKB'), ('급', 'NNG'), ('상승세', 'NNG'), ('를', 'JKO'), ('보이', 'VV'), ('었', 'EP'), ('다', 'EC'), ('수십만', 'NR'), ('수백만', 'NR'), ('명', 'NNB'), ('의', 'JKG'), ('검증', 'NNG'), ('을', 'JKO'), ('거치', 'VV'), ('ㄴ', 'ETM'), ('웹', 'NNG'), ('소설', 'NNG'), ('은', 'JX'), ('영화', 'NNG'), ('와', 'JC'), ('드라마', 'NNP'), ('의', 'JKG'), ('원작', 'NNP'), ('으로서', 'JKB'), ('갈수록', 'MAG'), ('몸값', 'NNG'), ('이', 'JKS'), ('올라가', 'VV'), ('고', 'EC'), ('있', 'VV'), ('다', 'EC'), ('이진수', 'NNP'), ('카카오페이지', 'NNP'), ('대표', 'NNG'), ('는', 'JX'), ('천문학', 'NNG'), ('적', 'XSN'), ('이', 'VCP'), ('ㄴ', 'ETM'), ('제작비', 'NNG'), ('이', 'VCP'), ('라는', 'ETM'), ('리스크', 'NNG'), ('를', 'JKO'), ('안고', 'NNP'), ('있', 'VV'), ('는', 'ETM'), ('영상', 'NNP'), ('시장', 'NNP'), ('에서', 'JKB'), ('이미', 'MAG'), ('검증', 'NNG'), ('되', 'XSV'), ('ㄴ', 'ETM'), ('시나리오', 'NNP'), ('와', 'JC'), ('그', 'MM'), ('이야기', 'NNG'), ('를', 'JKO'), ('좋아하', 'VV'), ('는', 'ETM'), ('수십만', 'NR'), ('수백만', 'NR'), ('명', 'NNB'), ('의', 'JKG'), ('열성', 'NNG'), ('독자', 'NNG'), ('층', 'XSN'), ('이', 'JKS'), ('있', 'VV'), ('는', 'ETM'), ('경우', 'NNG'), ('에', 'JKB'), ('는', 'JX'), ('당연히', 'MAG'), ('영상', 'NNP'), ('시장', 'NNG'), ('에서', 'JKB'), ('리스크', 'NNG'), ('를', 'JKO'), ('많이', 'MAG'), ('줄이', 'VV'), ('ㄹ', 'ETM'), ('수', 'NNB'), ('있', 'VV'), ('는', 'ETM'), ('요인', 'NNG'), ('이', 'JKS'), ('되', 'VV'), ('ㄴ다', 'EC'), ('고', 'MM'), ('말', 'NNG'), ('하', 'XSV'), ('았', 'EP'), ('다', 'EC'), ('웹', 'NNG'), ('소설', 'NNG'), ('과', 'JC'), ('드라마', 'NNP'), ('의', 'JKG'), ('서', 'VV'), ('ㄴ', 'ETM'), ('순환', 'NNP'), ('구조', 'NNG'), ('를', 'JKO'), ('보이', 'VV'), ('어', 'EC'), ('주', 'VX'), ('ㄴ', 'ETM'), ('최근', 'NNG'), ('의', 'JKG'), ('사례', 'NNG'), ('가', 'JKS'), ('김', 'NNP'), ('비서', 'NNP'), ('가', 'JKS'), ('왜', 'MAG'), ('그렇', 'VA'), ('ㄹ까', 'EC'), ('이다', 'NNP'), ('카카오페이지', 'NNP'), ('에서', 'JKB'), ('엄청나', 'VA'), ('ㄴ', 'ETM'), ('독자', 'NNG'), ('를', 'JKO'), ('모으', 'VV'), ('ㄴ', 'ETM'), ('이', 'MM'), ('웹', 'NNG'), ('소설', 'NNG'), ('은', 'JX'), ('드라마', 'NNG'), ('로', 'JKB'), ('제작', 'NNG'), ('되', 'XSV'), ('어', 'EC'), ('높', 'VA'), ('은', 'ETM'), ('시청률', 'NNP'), ('을', 'JKO'), ('기록', 'NNG'), ('하', 'XSV'), ('았', 'EP'), ('고', 'EC'), ('이', 'NP'), ('는', 'JX'), ('다시', 'MAG'), ('원작', 'NNP'), ('웹', 'NNG'), ('소설', 'NNG'), ('과', 'JC'), ('웹툰', 'NNP'), ('의', 'JKG'), ('인기', 'NNG'), ('상승', 'NNG'), ('으로', 'JKB'), ('이어지', 'VV'), ('었', 'EP'), ('다', 'EC'), ('정경', 'NNP'), ('윤', 'NNP'), ('작가', 'NNG'), ('는', 'JX'), ('부산', 'NNP'), ('에서', 'JKB'), ('약사', 'NNP'), ('를', 'JKO'), ('하', 'VV'), ('면서', 'EC'), ('틈틈이', 'MAG'), ('이', 'MM'), ('소설', 'NNG'), ('을', 'JKO'), ('쓰', 'VV'), ('었', 'EP'), ('다', 'EC'), ('힘들', 'VA'), ('지', 'EC'), ('않', 'VX'), ('았', 'EP'), ('느냐는', 'ETM'), ('기자', 'NNG'), ('의', 'JKG'), ('질문', 'NNG'), ('에', 'JKB'), ('정', 'NNP'), ('작가', 'NNG'), ('는', 'JX'), ('약국', 'NNP'), ('일', 'NNG'), ('을', 'JKO'), ('하', 'VV'), ('다', 'EC'), ('보', 'VV'), ('면', 'EC'), ('몸', 'NNG'), ('도', 'JX'), ('지치', 'VV'), ('고', 'EC'), ('피곤', 'NNG'), ('하', 'XSV'), ('ㄴ데', 'EC'), ('소설', 'NNG'), ('쓰', 'VV'), ('는', 'ETM'), ('건', 'NNB'), ('전혀', 'MAG'), ('피곤', 'NNG'), ('하', 'XSV'), ('지', 'EC'), ('않', 'VX'), ('고', 'EC'), ('재미있', 'VA'), ('었', 'EP'), ('다', 'EC'), ('이', 'VCP'), ('며', 'EC'), ('나중', 'NNG'), ('에', 'JKB'), ('는', 'JX'), ('정말', 'MAG'), ('미치', 'VV'), ('어서', 'EC'), ('밥', 'NNG'), ('먹', 'VV'), ('는', 'ETM'), ('시간', 'NNG'), ('도', 'JX'), ('자', 'NNB'), ('는', 'JX'), ('시간', 'NNG'), ('도', 'JX'), ('쉬', 'VV'), ('는', 'ETM'), ('시간', 'NNG'), ('도', 'JX'), ('다', 'MAG'), ('줄이', 'VV'), ('어서', 'EC'), ('전력', 'NNG'), ('을', 'JKO'), ('다', 'MAG'), ('하', 'XSV'), ('아서', 'EC'), ('쓰', 'VV'), ('었', 'EP'), ('는데', 'EC'), ('그', 'NP'), ('게', 'EC'), ('취미', 'NNP'), ('이자', 'NNP'), ('마음', 'NNG'), ('의', 'JKG'), ('치유', 'NNP'), ('가', 'JKS'), ('되', 'VV'), ('었', 'EP'), ('다', 'EC'), ('고', 'MM'), ('말', 'NNG'), ('하', 'XSV'), ('았', 'EP'), ('다', 'EC'), ('또', 'MAJ'), ('선배', 'NNG'), ('작가', 'NNG'), ('로서', 'JKB'), ('작가', 'NNG'), ('지망', 'NNG'), ('생', 'XSN'), ('들', 'XSN'), ('에게', 'JKB'), ('조언', 'NNG'), ('을', 'JKO'), ('해달', 'NNP'), ('이', 'VCP'), ('라는', 'ETM'), ('주문', 'NNG'), ('에', 'JKB'), ('대하', 'VV'), ('아서', 'EC'), ('는', 'JX'), ('아무리', 'MAG'), ('시장', 'NNG'), ('이', 'JKS'), ('커지', 'VV'), ('었', 'EP'), ('어도', 'EC'), ('좋아하', 'VV'), ('는', 'ETM'), ('마음', 'NNG'), ('없이', 'MAG'), ('그냥', 'MAG'), ('생업', 'NNG'), ('으로', 'JKB'), ('하', 'VV'), ('기', 'ETN'), ('에', 'JKB'), ('는', 'JX'), ('너무', 'MAG'), ('어렵', 'VA'), ('ㄴ', 'ETM'), ('일', 'NNB'), ('이', 'VCP'), ('ㄴ', 'ETM'), ('것', 'NNB'), ('같', 'VA'), ('다', 'EC'), ('너무', 'MAG'), ('조급', 'XR'), ('하', 'XSA'), ('아', 'EC'), ('하', 'VX'), ('지', 'EC'), ('말', 'VX'), ('고', 'EC'), ('즐기', 'VV'), ('면서', 'EC'), ('천천히', 'MAG'), ('여유', 'NNG'), ('있', 'VV'), ('게', 'EC'), ('쓰', 'VV'), ('었', 'EP'), ('으면', 'EC'), ('좋', 'VA'), ('겠', 'EP'), ('다', 'EC'), ('고', 'MM'), ('말', 'NNG'), ('하', 'XSV'), ('았', 'EP'), ('다', 'EC'), ('한국콘텐츠진흥원', 'NNP'), ('조사', 'NNG'), ('에', 'JKB'), ('따르', 'VV'), ('면', 'EC'), ('웹', 'NNG'), ('소설', 'NNG'), ('작가', 'NNG'), ('의', 'JKG'), ('평균', 'NNP'), ('수입', 'NNP'), ('은', 'JX'), ('년', 'NNB'), ('기준', 'NNG'), ('으로', 'JKB'), ('만원', 'NNP'), ('으로', 'JKB'), ('나타나', 'VV'), ('았', 'EP'), ('다', 'EC'), ('열', 'VV'), ('ㄴ', 'ETM'), ('수입', 'NNG'), ('이', 'JKS'), ('억', 'NR'), ('대', 'NNB'), ('에', 'JKB'), ('이르', 'VV'), ('는', 'ETM'), ('작가', 'NNG'), ('도', 'JX'), ('많', 'VA'), ('고', 'EC'), ('정상급', 'NNG'), ('인기', 'NNG'), ('작가', 'NNG'), ('들', 'XSN'), ('의', 'JKG'), ('경우', 'NNG'), ('는', 'JX'), ('억', 'NR'), ('원', 'NNB'), ('을', 'JKO'), ('상회', 'NNG'), ('하', 'XSV'), ('ㄴ다고', 'EC'), ('하', 'VV'), ('ㄴ다', 'EC'), ('하지만', 'MAJ'), ('대다수', 'NNG'), ('작가', 'NNG'), ('는', 'JX'), ('수입', 'NNG'), ('이', 'JKS'), ('많', 'VA'), ('지', 'EC'), ('않', 'VX'), ('다', 'EC'), ('작가', 'NNG'), ('명', 'NNB'), ('중', 'NNB'), ('명', 'NNB'), ('가까이', 'NNG'), ('가', 'JKS'), ('열', 'VV'), ('ㄴ', 'ETM'), ('수입', 'NNG'), ('천만', 'NR'), ('원', 'NNB'), ('미만', 'NNG'), ('으로', 'JKB'), ('조사', 'NNG'), ('되', 'XSV'), ('었', 'EP'), ('다', 'EC'), ('웹', 'NNG'), ('소설', 'NNG'), ('은', 'JX'), ('웹툰', 'NNP'), ('과', 'JC'), ('함께', 'MAG'), ('차세대', 'NNG'), ('한류', 'NNP'), ('의', 'JKG'), ('주역', 'NNP'), ('으로서', 'JKB'), ('도', 'JX'), ('주목', 'NNG'), ('되', 'XSV'), ('ㄴ다', 'EC'), ('네이버', 'NNP'), ('와', 'JC'), ('카카오페이지', 'NNP'), ('는', 'JX'), ('해외', 'NNG'), ('웹툰', 'NNP'), ('시장', 'NNG'), ('에', 'JKB'), ('진출', 'NNG'), ('하', 'XSV'), ('았', 'EP'), ('고', 'EC'), ('문', 'NNP'), ('피아', 'NNP'), ('도', 'JX'), ('해외', 'NNG'), ('진출', 'NNG'), ('을', 'JKO'), ('모색', 'NNG'), ('하', 'XSV'), ('고', 'EC'), ('있', 'VV'), ('다', 'EC'), ('해외', 'NNG'), ('시장', 'NNG'), ('을', 'JKO'), ('분석', 'NNG'), ('하', 'XSV'), ('ㄴ', 'ETM'), ('전문가', 'NNG'), ('들', 'XSN'), ('은', 'JX'), ('우리', 'NP'), ('작가', 'NNG'), ('들', 'XSN'), ('의', 'JKG'), ('창의성', 'NNP'), ('과', 'JC'), ('스토리', 'NNP'), ('가', 'JKS'), ('해외', 'NNG'), ('시장', 'NNG'), ('에서', 'JKB'), ('도', 'JX'), ('충분', 'XR'), ('하', 'XSA'), ('ㄴ', 'ETM'), ('경쟁력', 'NNG'), ('을', 'JKO'), ('갖', 'VV'), ('고', 'EC'), ('있', 'VV'), ('다고', 'EC'), ('보', 'VV'), ('ㄴ다', 'EC'), ('이렇', 'VA'), ('게', 'EC'), ('웹', 'NNG'), ('소설', 'NNG'), ('은', 'JX'), ('막대', 'XR'), ('하', 'XSA'), ('ㄴ', 'ETM'), ('에너지', 'NNG'), ('를', 'JKO'), ('품', 'VV'), ('고', 'EC'), ('빠르', 'VA'), ('게', 'EC'), ('영역', 'NNG'), ('을', 'JKO'), ('넓히', 'VV'), ('고', 'EC'), ('있', 'VV'), ('다', 'EC'), ('하지만', 'MAJ'), ('그', 'NP'), ('에', 'JKB'), ('비하', 'VV'), ('아서', 'EC'), ('우리', 'NP'), ('사회', 'NNG'), ('의', 'JKG'), ('담론', 'NNP'), ('은', 'JX'), ('초기', 'NNG'), ('단계', 'NNG'), ('를', 'JKO'), ('벗어나', 'VV'), ('지', 'EC'), ('못하', 'VX'), ('고', 'EC'), ('있', 'VV'), ('다', 'EC'), ('웹', 'NNG'), ('소설', 'NNG'), ('에', 'JKB'), ('대하', 'VV'), ('ㄴ', 'ETM'), ('진지', 'XR'), ('하', 'XSA'), ('ㄴ', 'ETM'), ('담론', 'NNP'), ('형성', 'NNG'), ('을', 'JKO'), ('기대', 'NNG'), ('하', 'XSV'), ('며', 'EC'), ('장강명', 'NNP'), ('작가', 'NNG'), ('는', 'JX'), ('우리', 'NP'), ('사회', 'NNG'), ('에서', 'JKB'), ('웹', 'NNG'), ('소설', 'NNG'), ('을', 'JKO'), ('얘기', 'NNG'), ('하', 'XSV'), ('는', 'ETM'), ('맥락', 'NNG'), ('은', 'JX'), ('대부분', 'NNG'), ('시장', 'NNG'), ('규모', 'NNG'), ('나', 'JC'), ('작가', 'NNG'), ('의', 'JKG'), ('수입', 'NNG'), ('같', 'VA'), ('은', 'ETM'), ('데', 'NNB'), ('머무르', 'VV'), ('어', 'EC'), ('있', 'VV'), ('고', 'EC'), ('웹', 'NNG'), ('소설', 'NNG'), ('의', 'JKG'), ('새롭', 'VA'), ('ㄴ', 'ETM'), ('작품', 'NNG'), ('성', 'XSN'), ('과', 'JC'), ('시대', 'NNG'), ('감각', 'NNG'), ('을', 'JKO'), ('포착', 'NNG'), ('하', 'XSV'), ('려는', 'ETM'), ('노력', 'NNG'), ('은', 'JX'), ('굉장히', 'MAG'), ('드물', 'VA'), ('다', 'EC'), ('면', 'NNG'), ('서', 'JKB'), ('웹', 'NNG'), ('소설', 'NNG'), ('영역', 'NNG'), ('에', 'JKB'), ('형성', 'NNG'), ('되', 'XSV'), ('ㄴ', 'ETM'), ('엄청나', 'VA'), ('ㄴ', 'ETM'), ('기운', 'NNG'), ('을', 'JKO'), ('좋', 'VA'), ('은', 'ETM'), ('방향', 'NNG'), ('으로', 'JKB'), ('이끌', 'VV'), ('기', 'ETN'), ('위하', 'VV'), ('아', 'EC'), ('기존', 'NNG'), ('문학계', 'NNP'), ('와', 'JC'), ('공공', 'NNG'), ('부문', 'NNG'), ('독자', 'NNG'), ('들', 'XSN'), ('이', 'JKS'), ('모두', 'MAG'), ('관심', 'NNG'), ('을', 'JKO'), ('가지', 'VV'), ('ㄹ', 'ETM'), ('때', 'NNG'), ('라고', 'NNP'), ('말', 'NNG'), ('하', 'XSV'), ('았', 'EP'), ('다', 'EC'), ('웹', 'NNG'), ('소설', 'NNG'), ('생태계', 'NNP'), ('에서', 'JKB'), ('는', 'JX'), ('사회', 'NNG'), ('적', 'XSN'), ('담론', 'NNP'), ('의', 'JKG'), ('형성', 'NNG'), ('방식', 'NNG'), ('도', 'JX'), ('기존', 'NNG'), ('의', 'JKG'), ('출판', 'NNP'), ('문학계', 'NNP'), ('와', 'JC'), ('다르', 'VA'), ('ㄹ', 'ETM'), ('수', 'NNB'), ('있', 'VV'), ('다', 'EC'), ('생산자', 'NNG'), ('와', 'JC'), ('소비자', 'NNG'), ('의', 'JKG'), ('경계', 'NNG'), ('가', 'JKS'), ('허물어지', 'VV'), ('ㄴ', 'ETM'), ('만큼', 'NNB'), ('비평', 'NNG'), ('의', 'JKG'), ('영역', 'NNG'), ('도', 'JX'), ('열리', 'VV'), ('어', 'EC'), ('있', 'VV'), ('다', 'EC'), ('웹', 'NNG'), ('소설', 'NNG'), ('의', 'JKG'), ('끓', 'VV'), ('어', 'EC'), ('넘치', 'VV'), ('는', 'ETM'), ('에너지', 'NNG'), ('가', 'JKS'), ('우리', 'NP'), ('문화', 'NNG'), ('전반', 'NNG'), ('에', 'JKB'), ('가져오', 'VV'), ('ㄹ', 'ETM'), ('파급', 'NNG'), ('효과', 'NNG'), ('를', 'JKO'), ('감안', 'NNG'), ('하', 'XSV'), ('ㄴ다면', 'EC'), ('플랫폼', 'NNP'), ('업체', 'NNG'), ('나', 'JC'), ('공공', 'NNP'), ('부문', 'NNG'), ('에서', 'JKB'), ('도', 'JX'), ('진지', 'XR'), ('하', 'XSA'), ('ㄴ', 'ETM'), ('담론', 'NNP'), ('이', 'JKS'), ('형성', 'NNG'), ('되', 'XSV'), ('는', 'ETM'), ('공간', 'NNG'), ('을', 'JKO'), ('마련', 'NNG'), ('하', 'XSV'), ('는', 'ETM'), ('데', 'NNB'), ('더', 'MAG'), ('많', 'VA'), ('은', 'ETM'), ('관심', 'NNG'), ('을', 'JKO'), ('기울이', 'VV'), ('어야', 'EC'), ('하', 'VV'), ('ㄹ', 'ETM'), ('것', 'NNB'), ('으로', 'JKB'), ('보이', 'VV'), ('ㄴ다', 'EC'), ('출처', 'NNG'), ('뉴스', 'NNP'), ('원본', 'NNP'), ('링크', 'NNP')]\n",
      "['독서', '위기', '출판', '불황', '얘기', '사정', '소식', '요즘', '종이', '책', '권', '정도', '베스트셀러', '목록', '이', '분위기', '사뭇', '다른', '곳', '스마트폰', '로', '웹', '소설', '인기', '웹', '소설', '독자', '수가', '백만', '웹', '소설', '웹', '처음', '공개', '소설', '기존', '출판', '소설', '웹', '게재', '경우', '웹', '소설', '웹', '소설', '처음', '웹', '연재', '겨냥', '창작', '것', '시간', '연재', '스낵', '컬처', '의', '성격', '웹', '소설', '연재', '매', '회', '긴장감', '흥미', '스토리', '어가', '게', '인물', '캐릭터', '대화', '중심', '전개', '독자', '호응', '진입', '장벽', '작가', '수', '웹', '소설', '작가', '데', '진입', '장벽', '누구', '무료', '웹', '소설', '플랫폼', '자신', '소설', '연재', '수', '의미', '무협', '판타지', '전문', '플랫폼', '피아', '의', '김환철', '대표', '필명', '금강', '커트라인', '것', '의견', '출판사', '게', '무엇', '모두', '독자', '바로', '평가', '고', '말', '독자', '선택', '인기', '유료', '판매', '통해', '작가', '로서', '수입', '낼', '수', '웹', '소설', '생산자', '소비자', '경계', '허물', '지고', '작가', '수도', '늘', '피아', '만', '해도', '명의', '작가', '활동', '국내', '전체', '웹', '소설', '작가', '수가', '명', '것', '추정', '이처럼', '작가', '수백만', '독자', '웹', '소설', '생태계', '용광로', '에너지', '진입', '장벽', '대신', '경쟁', '곳', '작가', '연재', '때', '회수', '독자', '댓글', '진검', '승부', '김환철', '피아', '대표', '매일', '매일', '전쟁', '경쟁', '작가', '글', '수', '고', '말', '환생', '회귀', '까닭', '작가', '독자', '역', '적', '상호작용', '웹', '소설', '독자', '마음', '사회', '분위기', '반영', '최근', '수년', '웹', '소설', '등장', '단어', '회귀', '귀환', '환생', '이번', '생', '사람', '현재', '기억', '과거', '실수', '복수', '스토리', '네이버', '카카오페이지', '피아', '등', '여러', '웹', '소설', '플랫폼', '최고', '인기', '작품', '상당수', '스토리', '틀', '김환철', '피아', '대표', '년', '정도', '트렌드', '이제', '대세', '작품', '환생', '회귀', '일어나고', '면서', '갈수록', '세상', '세대', '좌절', '판타지', '투영', '것', '진단', '이진수', '카카오페이지', '대표', '웹', '소설', '웹툰', '만큼', '우리', '사회', '곳곳', '표현', '매체', '면서', '대한민국', '기성', '세대', '지금', '가장', '이해', '수', '방법', '주장', '작품', '웹', '소설', '평론', '웹', '소설', '스낵', '컬처', '상업성', '중독', '등', '가운데', '작품', '성취', '명작', '적지', '발견', '무협', '판타지', '스토리', '속', '신화', '종교', '현대', '과학', '등', '다방면', '해박', '지식', '창의', '세계관', '작품', '필명', '자신', '작가', '대한', '궁금증', '기도', '작품', '흥미', '긴장감', '유지', '웹', '소설', '문법', '한번', '마니아', '독자', '작가', '고집', '긍정', '이해', '편이', '이', '관련', '장강', '작가', '작품', '웹', '소설', '그', '작품', '기존', '문단', '얘기', '작품', '조금', '달라', '걸', '설명', '수', '언어', '작가', '독자', '면서', '웹', '소설', '대해', '서도', '평론', '분석', '얘기', '은', '상황', '말', '영화', '드라마', '원작', '몸값', '상승', '중', '이야기', '산업', '웹', '소설', '성장', '폭발', '지난', '년', '억원', '수준', '국내', '웹', '소설', '시장', '전체', '규모', '년', '억원', '급상승', '세', '수백만', '명의', '검증', '웹', '소설', '영화', '드라마', '원작', '갈수록', '몸값', '이진수', '카카오페이지', '대표', '천문학', '제작비', '리스크', '안고', '영상', '시장', '검증', '시나리오', '그', '이야기', '수백만', '명의', '열성', '독자', '층', '경우', '영상', '시장', '리스크', '수', '요인', '고', '말', '웹', '소설', '드라마', '선', '순환', '구조', '최근', '사례', '김', '비서', '왜', '카카오페이지', '독자', '이', '웹', '소설', '드라마', '제작', '시청률', '기록', '다시', '원작', '웹', '소설', '웹툰', '인기', '상승', '정경윤', '작가', '부산', '약사', '틈틈이', '이', '소설', '기자', '질문', '정', '작가', '약국', '일', '몸', '소설', '건', '전혀', '며', '나중', '정말', '밥', '시간', '시간', '시간', '줄', '전력', '다해', '그게', '취미', '이자', '마음', '치유', '고', '말', '또', '선배', '작가', '로서', '작가', '지망', '생', '조언', '주문', '대해', '시장', '마음', '그냥', '생업', '일인', '것', '여유', '고', '말', '한국', '콘텐츠', '진흥', '조사', '웹', '소설', '작가', '평균', '수입', '년', '기준', '만원', '연', '수입', '억대', '작가', '정상', '인기', '작가', '경우', '억원', '상회', '대다수', '작가', '수입', '작가', '명', '중', '명', '가까이', '연', '수입', '천만원', '미만', '조사', '웹', '소설', '웹툰', '차세대', '한류', '주역', '주목', '네이버', '카카오페이지', '해외', '웹툰', '시장', '진출', '피아', '해외진출', '모색', '해외', '시장', '분석', '전문가', '우리', '작가', '창의성', '스토리', '해외', '시장', '경쟁력', '웹', '소설', '막대', '에너지', '영역', '그', '비', '우리', '사회', '담론', '초기', '단계', '못', '웹', '소설', '대한', '담론', '형성', '장강', '작가', '우리', '사회', '웹', '소설', '얘기', '맥락', '대부분', '시장', '규모', '작가', '수입', '데', '웹', '소설', '작품', '성과', '감각', '포착', '노력', '면서', '웹', '소설', '영역', '형성', '기운', '방향', '위해', '기존', '문학계', '부문', '독자', '모두', '관심', '때', '말', '웹', '소설', '생태계', '사회', '담론', '형성', '방식', '기존', '출판', '문학계', '수', '생산자', '소비자', '경계', '허물', '어진', '만큼', '비평', '영역', '웹', '소설', '에너지', '우리', '문화', '전반', '파급', '효과', '감안', '플랫폼', '업체', '공공', '부문', '담론', '형성', '공간', '마련', '데', '더', '관심', '것', '출처', '뉴스', '원본', '링크']\n",
      "['독서', '위기', '출판', '불황', '얘기', '사정', '소식', '요즘', '종이', '정도', '베스트셀러', '목록', '분위기', '사뭇', '다른', '스마트폰', '소설', '인기', '소설', '독자', '수가', '백만', '소설', '처음', '공개', '소설', '기존', '출판', '소설', '게재', '경우', '소설', '소설', '처음', '연재', '겨냥', '창작', '시간', '연재', '스낵', '컬처', '성격', '소설', '연재', '긴장감', '흥미', '스토리', '어가', '인물', '캐릭터', '대화', '중심', '전개', '독자', '호응', '진입', '장벽', '작가', '소설', '작가', '진입', '장벽', '누구', '무료', '소설', '플랫폼', '자신', '소설', '연재', '의미', '무협', '판타지', '전문', '플랫폼', '피아', '김환철', '대표', '필명', '금강', '커트라인', '의견', '출판사', '무엇', '모두', '독자', '바로', '평가', '독자', '선택', '인기', '유료', '판매', '통해', '작가', '로서', '수입', '소설', '생산자', '소비자', '경계', '허물', '지고', '작가', '수도', '피아', '해도', '명의', '작가', '활동', '국내', '전체', '소설', '작가', '수가', '추정', '이처럼', '작가', '수백만', '독자', '소설', '생태계', '용광로', '에너지', '진입', '장벽', '대신', '경쟁', '작가', '연재', '회수', '독자', '댓글', '진검', '승부', '김환철', '피아', '대표', '매일', '매일', '전쟁', '경쟁', '작가', '환생', '회귀', '까닭', '작가', '독자', '상호작용', '소설', '독자', '마음', '사회', '분위기', '반영', '최근', '수년', '소설', '등장', '단어', '회귀', '귀환', '환생', '이번', '사람', '현재', '기억', '과거', '실수', '복수', '스토리', '네이버', '카카오페이지', '피아', '여러', '소설', '플랫폼', '최고', '인기', '작품', '상당수', '스토리', '김환철', '피아', '대표', '정도', '트렌드', '이제', '대세', '작품', '환생', '회귀', '일어나고', '면서', '갈수록', '세상', '세대', '좌절', '판타지', '투영', '진단', '이진수', '카카오페이지', '대표', '소설', '웹툰', '만큼', '우리', '사회', '곳곳', '표현', '매체', '면서', '대한민국', '기성', '세대', '지금', '가장', '이해', '방법', '주장', '작품', '소설', '평론', '소설', '스낵', '컬처', '상업성', '중독', '가운데', '작품', '성취', '명작', '적지', '발견', '무협', '판타지', '스토리', '신화', '종교', '현대', '과학', '다방면', '해박', '지식', '창의', '세계관', '작품', '필명', '자신', '작가', '대한', '궁금증', '기도', '작품', '흥미', '긴장감', '유지', '소설', '문법', '한번', '마니아', '독자', '작가', '고집', '긍정', '이해', '편이', '관련', '장강', '작가', '작품', '소설', '작품', '기존', '문단', '얘기', '작품', '조금', '달라', '설명', '언어', '작가', '독자', '면서', '소설', '대해', '서도', '평론', '분석', '얘기', '상황', '영화', '드라마', '원작', '몸값', '상승', '이야기', '산업', '소설', '성장', '폭발', '지난', '억원', '수준', '국내', '소설', '시장', '전체', '규모', '억원', '급상승', '수백만', '명의', '검증', '소설', '영화', '드라마', '원작', '갈수록', '몸값', '이진수', '카카오페이지', '대표', '천문학', '제작비', '리스크', '안고', '영상', '시장', '검증', '시나리오', '이야기', '수백만', '명의', '열성', '독자', '경우', '영상', '시장', '리스크', '요인', '소설', '드라마', '순환', '구조', '최근', '사례', '비서', '카카오페이지', '독자', '소설', '드라마', '제작', '시청률', '기록', '다시', '원작', '소설', '웹툰', '인기', '상승', '정경윤', '작가', '부산', '약사', '틈틈이', '소설', '기자', '질문', '작가', '약국', '소설', '전혀', '나중', '정말', '시간', '시간', '시간', '전력', '다해', '그게', '취미', '이자', '마음', '치유', '선배', '작가', '로서', '작가', '지망', '조언', '주문', '대해', '시장', '마음', '그냥', '생업', '일인', '여유', '한국', '콘텐츠', '진흥', '조사', '소설', '작가', '평균', '수입', '기준', '만원', '수입', '억대', '작가', '정상', '인기', '작가', '경우', '억원', '상회', '대다수', '작가', '수입', '작가', '가까이', '수입', '천만원', '미만', '조사', '소설', '웹툰', '차세대', '한류', '주역', '주목', '네이버', '카카오페이지', '해외', '웹툰', '시장', '진출', '피아', '해외진출', '모색', '해외', '시장', '분석', '전문가', '우리', '작가', '창의성', '스토리', '해외', '시장', '경쟁력', '소설', '막대', '에너지', '영역', '우리', '사회', '담론', '초기', '단계', '소설', '대한', '담론', '형성', '장강', '작가', '우리', '사회', '소설', '얘기', '맥락', '대부분', '시장', '규모', '작가', '수입', '소설', '작품', '성과', '감각', '포착', '노력', '면서', '소설', '영역', '형성', '기운', '방향', '위해', '기존', '문학계', '부문', '독자', '모두', '관심', '소설', '생태계', '사회', '담론', '형성', '방식', '기존', '출판', '문학계', '생산자', '소비자', '경계', '허물', '어진', '만큼', '비평', '영역', '소설', '에너지', '우리', '문화', '전반', '파급', '효과', '감안', '플랫폼', '업체', '공공', '부문', '담론', '형성', '공간', '마련', '관심']\n",
      "[('소설', 40), ('작가', 26), ('독자', 13), ('작품', 10), ('시장', 8), ('피아', 6), ('수입', 6), ('인기', 5), ('연재', 5), ('스토리', 5)]\n"
     ]
    },
    {
     "data": {
      "image/png": "[encoded data removed]",
      "text/plain": [
       "<Figure size 432x288 with 1 Axes>"
      ]
     },
     "metadata": {
      "needs_background": "light"
     },
     "output_type": "display_data"
    },
    {
     "data": {
      "text/plain": [
       "<wordcloud.wordcloud.WordCloud at 0x7fe441ab6e50>"
      ]
     },
     "execution_count": 5,
     "metadata": {},
     "output_type": "execute_result"
    }
   ],
   "source": [
    "#from konlpy.tag import Okt\n",
    "#\n",
    "#document = \"봄과 함께 찾아온 따뜻한 신제품 소식\"\n",
    "#okt = Okt()\n",
    "#\n",
    "#words = okt.pos(document, stem=True)\n",
    "#\n",
    "#clean_words = []\n",
    "#for word in words:\n",
    "#    if word[1] in ['Noun', 'Verb', 'Adjective']:\n",
    "#        clean_words.append(word[0])\n",
    "#\n",
    "#print(clean_words)\n",
    "\n",
    "#from konlpy.tag import Okt\n",
    "#\n",
    "#document = \"봄과 함께 찾아온 따뜻한 신제품 소식\"\n",
    "#okt = Okt()\n",
    "#\n",
    "#words = okt.pos(document, stem=True)\n",
    "#\n",
    "#clean_words = []\n",
    "#for word in words:\n",
    "#    if word[1] in ['Noun']:\n",
    "#        clean_words.append(word[0])\n",
    "#print(clean_words)\n",
    "#import re\n",
    "#from konlpy.tag import Okt\n",
    "#\n",
    "#with open('/home/pirl/code/day02/03_text_preprocessing/news.txt', \"r\", encoding='utf8') as f :\n",
    "#    content = f.read()\n",
    "#    \n",
    "#print(content)\n",
    "#\n",
    "#p =re.compile(r\"[\\Wa-zA-Z_\\d]+\")\n",
    "#result = p.sub(p,\"\", content)\n",
    "#print(result)\n",
    "\n",
    "import konlpy.tag\n",
    "import re\n",
    "from collections import Counter\n",
    "from wordcloud import WordCloud\n",
    "import matplotlib.pyplot as plt\n",
    "\n",
    "\n",
    "# 분석할 텍스트 읽어오기\n",
    "with open('/home/pirl/code/day02/03_text_preprocessing/news.txt', 'r', encoding='utf8') as f:\n",
    "    content = f.read()\n",
    "\n",
    "# 불필요한 심볼 없애기\n",
    "p = re.compile(\"[\\Wa-zA-Z0-9_]+\")\n",
    "content = re.sub(p, \" \", content)\n",
    "\n",
    "# 형태소 분석 및 단어 추출\n",
    "okt = konlpy.tag.Okt()\n",
    "okt_morphs = okt.pos(content)\n",
    "print(okt_morphs)\n",
    "\n",
    "# 명사, 조사, 네이밍 표현을 다시 변경\n",
    "komoran = konlpy.tag.Komoran()\n",
    "komoran_morphs = komoran.pos(content)\n",
    "print(komoran_morphs)\n",
    "\n",
    "# 명사만 추출하기\n",
    "words = []\n",
    "for word, pos in okt_morphs:\n",
    "    if pos == 'Noun':\n",
    "        words.append(word)\n",
    "print(words)\n",
    "\n",
    "# 불용어 제거\n",
    "stopwords = ['출처', '뉴스', '원본', '링크']\n",
    "result = [x for x in words if x not in stopwords and len(x) > 1]\n",
    "print(result)\n",
    "\n",
    "## 빈도 분석, 각 단어들이 몇 번 사용되었는지 분석\n",
    "c = Counter(result)\n",
    "print(c.most_common(10))\n",
    "\n",
    "\n",
    "\n",
    "\n",
    "text = \" \".join(result)\n",
    "wordcloud = WordCloud(max_font_size=50, max_words=30, background_color='white',\n",
    "                      relative_scaling=.5).generate(text)\n",
    "plt.figure()\n",
    "plt.imshow(wordcloud, interpolation='bilinear')\n",
    "plt.axis(\"off\")\n",
    "plt.show()\n",
    "\n",
    "wordcloud.to_file(\"news.png\")"
   ]
  },
  {
   "cell_type": "code",
   "execution_count": null,
   "metadata": {},
   "outputs": [],
   "source": []
  }
 ],
 "metadata": {
  "kernelspec": {
   "display_name": "Python 3",
   "language": "python",
   "name": "python3"
  },
  "language_info": {
   "codemirror_mode": {
    "name": "ipython",
    "version": 3
   },
   "file_extension": ".py",
   "mimetype": "text/x-python",
   "name": "python",
   "nbconvert_exporter": "python",
   "pygments_lexer": "ipython3",
   "version": "3.7.4"
  }
 },
 "nbformat": 4,
 "nbformat_minor": 2
}
