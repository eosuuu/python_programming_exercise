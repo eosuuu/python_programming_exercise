{
 "cells": [
  {
   "cell_type": "code",
   "execution_count": 1,
   "metadata": {},
   "outputs": [
    {
     "name": "stdout",
     "output_type": "stream",
     "text": [
      "뉴스 \n",
      "증권 \n",
      "사전 \n"
     ]
    }
   ],
   "source": [
    "from bs4 import BeautifulSoup as bs\n",
    "import requests as req\n",
    "\n",
    "html = \"\"\"\n",
    "<ul>\n",
    "<li>뉴스 </li>\n",
    "<li>증권 </li>\n",
    "<li>사전 </li>\n",
    "\n",
    "\"\"\"\n",
    "\n",
    "soup = bs(html, 'html5lib')\n",
    "result = soup.select(\"li\")\n",
    "\n",
    "for a in result:\n",
    "    print(a.text)\n",
    "    "
   ]
  },
  {
   "cell_type": "code",
   "execution_count": 2,
   "metadata": {},
   "outputs": [
    {
     "name": "stdout",
     "output_type": "stream",
     "text": [
      "4교시\n"
     ]
    }
   ],
   "source": [
    "html = \"\"\"\n",
    "<ul>\n",
    "    <li>1교시</li>\n",
    "    <li>2교시</li>\n",
    "</ul>\n",
    "\n",
    "<ol>\n",
    "    <li>3교시</li>\n",
    "    <li>4교시</li>\n",
    "</ol>\n",
    "\n",
    "\"\"\"\n",
    "\n",
    "#beautifulSoup 객체생성\n",
    "soup = bs(html, 'html5lib')\n",
    "result = soup.select('ol li:nth-of-type(2)')\n",
    "\n",
    "for a in result:\n",
    "    print(a.text)"
   ]
  },
  {
   "cell_type": "markdown",
   "metadata": {},
   "source": [
    "# request라이브러리"
   ]
  },
  {
   "cell_type": "code",
   "execution_count": 47,
   "metadata": {},
   "outputs": [
    {
     "name": "stdout",
     "output_type": "stream",
     "text": [
      "부동산\n"
     ]
    }
   ],
   "source": [
    "url = \"https://www.naver.com\"\n",
    "res = req.get(url)\n",
    "html = res.text\n",
    "\n",
    "soup = bs(html, 'html5lib')\n",
    "# result = soup.select('li a span')\n",
    "# result = soup.select('.an_txt')\n",
    "result = soup.select('#PM_ID_serviceNavi > li:nth-child(4) > a > span.an_txt')\n",
    "\n",
    "\n",
    "for a in result:\n",
    "    print(a.text)\n",
    "    \n"
   ]
  },
  {
   "cell_type": "code",
   "execution_count": 74,
   "metadata": {},
   "outputs": [
    {
     "name": "stdout",
     "output_type": "stream",
     "text": [
      "檢무더기 기소에 격앙된 민주...말 아끼는 靑\n",
      "박지원 \"안철수, 한국당과 연계는 해도 통합 안 할 것\"\n",
      "北, 신종코로나 방역 '사활'…17개월만에 개성사무소 잠정폐쇄\n",
      "與 '선거개입' 의혹 검찰 기소에 '반발'… \"정치검찰의 '날조'\"\n",
      "[이슈토크] \"지역민 불안감, 괴담 영향도\"…\"대통령 메시지, 늦은 감 있어\"\n",
      "\n",
      "송철호 \"정치목적 왜곡수사, 무리한 기소 분노\"…혐의 전면부인(종합)\n",
      "강원랜드 채용비리 닮은꼴…'권성동 무죄·염동열 유죄' 왜?\n",
      "'우한 폐렴' 중국 하늘길 막힌다…대한항공까지 중단 결정\n",
      "서울 강남4구 아파트값 33주 만에 하락 전환\n",
      "메모리 반도체 불황에 직격탄…삼성전자 지난해 영업이익 '반토막'\n"
     ]
    }
   ],
   "source": [
    "url = \"https://news.naver.com\"\n",
    "res = req.get(url)\n",
    "html = res.text\n",
    "\n",
    "soup = bs(html, 'html5lib')\n",
    "\n",
    "# for i in range(1,6):\n",
    "#     target = \"#today_main_news > div.hdline_news > ul > li:nth-child(\" + str(i) + \") > div.hdline_article_tit > a\"\n",
    "#     result = soup.select(target)\n",
    "#     print(result[0].text)\n",
    "result = soup.select('#section_politics > div.com_list > div > ul > li > a > strong')\n",
    "result2 = soup.select(\"#today_main_news > div.hdline_news > ul > li > div.hdline_article_tit > a\")\n",
    "\n",
    "for a in result:\n",
    "    print(a.text)\n",
    "print()\n",
    "for b in result2:\n",
    "    print(b.text.strip())"
   ]
  },
  {
   "cell_type": "code",
   "execution_count": 88,
   "metadata": {},
   "outputs": [
    {
     "name": "stdout",
     "output_type": "stream",
     "text": [
      "송철호 \"정치목적 왜곡수사, 무리한 기소 분노\"…혐의 전면부인(종합)\n",
      "강원랜드 채용비리 닮은꼴…'권성동 무죄·염동열 유죄' 왜?\n",
      "'우한 폐렴' 중국 하늘길 막힌다…대한항공까지 중단 결정\n",
      "서울 강남4구 아파트값 33주 만에 하락 전환\n",
      "메모리 반도체 불황에 직격탄…삼성전자 지난해 영업이익 '반토막'\n"
     ]
    }
   ],
   "source": [
    "for i in range(1,6):\n",
    "    target = \"#today_main_news > div.hdline_news > ul > li:nth-child(num) > div.hdline_article_tit > a\"\n",
    "    target = target.replace(\"num\", str(i))\n",
    "    result3 = soup.select(target)\n",
    "    print(result3[0].text.strip())"
   ]
  },
  {
   "cell_type": "code",
   "execution_count": 111,
   "metadata": {},
   "outputs": [
    {
     "name": "stdout",
     "output_type": "stream",
     "text": [
      "방학시즌, 훌륭한 CG, 로버트 다우니 주니어의 매력 등 온가족 무비로서 개봉시기가 딱이다.- 기존 닥터두리틀의 주연배우를 로버트 다우니 주니어로 교체한 것은 신의 한수이다. 로버트 다우니 주니어의 광팬들, 절대 성공하는 3B 중 하...\n",
      "캬.. 로버트다우니주니어와 톰홀랜드의 만남이라니.. 벌써부터 기대가 된다.수능 치고 꼭 본 다!!본!0000000000000000000000000000000000000000000000000000000000000000000000000000000000000000000000000000000000000000000000000000000...\n",
      " 톰홀랜드랑 로다주의 조합을 마블외의 영화에서도 볼 수 있다니 ㅠㅠ 심지어 두명다 주연이잖아!!!! 빨리 개봉했으면 좋겠다 꼭 영화관에서 봐야지 사랑해요 진짜 톰 진짜 내가 사랑해 !!ㅠㅠㅠㅠㅠㅠㅠㅠㅠㅠㅠㅠㅠㅠㅠㅠㅠㅠㅠㅠㅠㅠㅠ...\n",
      "?★★☆? ?<닥터 두리틀>은 한 마디로 이쁘장한 영화다. ‘동물들과 소통이 가능한 의사’라는 지극히 동화적인 발상과 함께 육식, 초식 가리지 않고 한데 모여 작전을 수행하는 동물들의 단합은 귀엽고, 그들을 구현하는 CG의 기술...\n"
     ]
    }
   ],
   "source": [
    "url = \"https://movie.naver.com/movie/bi/mi/review.nhn?code=159866\"\n",
    "res = req.get(url)\n",
    "html = res.text\n",
    "soup = bs(html, 'html5lib')\n",
    "target = \"#reviewTab > div > div > ul > li:nth-child(num) > p\"\n",
    "\n",
    "for i in range(1,5):\n",
    "    target = \"#reviewTab > div > div > ul > li:nth-child(num) > p\"\n",
    "    target = target.replace(\"num\", str(i))\n",
    "    result = soup.select(target)\n",
    "    print(result[0].text)"
   ]
  },
  {
   "cell_type": "code",
   "execution_count": 122,
   "metadata": {},
   "outputs": [
    {
     "name": "stdout",
     "output_type": "stream",
     "text": [
      "200.0\n",
      "300.0\n",
      "400.0\n",
      "500.0\n"
     ]
    }
   ],
   "source": [
    "price = [100,200,300,400,500,600]\n",
    "\n",
    "for i in range(len(price)-2):\n",
    "    print(sum(price[i:i+3])/3)"
   ]
  },
  {
   "cell_type": "code",
   "execution_count": 130,
   "metadata": {},
   "outputs": [],
   "source": [
    "from selenium import webdriver \n",
    "driver = webdriver.Chrome('/home/pirl/Downloads/chromedriver')\n",
    "driver.get('https://www.naver.com')\n",
    "driver.find_element_by_css_selector(\"#PM_ID_serviceNavi > li:nth-child(9) > a\").click()\n",
    "driver.find_element_by_css_selector(\"#comicList > li:nth-child(3) > a\").click()\n",
    "\n"
   ]
  },
  {
   "cell_type": "code",
   "execution_count": null,
   "metadata": {},
   "outputs": [],
   "source": [
    "from selenium import webdriver \n",
    "driver = webdriver.Chrome('/home/pirl/Downloads/chromedriver')\n",
    "driver.get('https://www.naver.com')\n",
    "driver.find_element_by_css_selector(\"#query\").send_keys(\"휘인\")\n",
    "driver.find_element_by_css_selector(\"#search_btn\").click()\n"
   ]
  },
  {
   "cell_type": "code",
   "execution_count": 6,
   "metadata": {},
   "outputs": [
    {
     "name": "stdout",
     "output_type": "stream",
     "text": [
      "2019 아이유 11주년 팬미팅 ‘▶ ll ＆ U’ (PLAY, PAUSE AND U)\n",
      "삼성카드 〈2018 홀가분 페스티벌〉\n",
      "2018 이슬라이브 페스티벌\n",
      "아이유 데뷔 9주년 팬미팅\n",
      "2015 아이유 전국투어 앵콜 콘서트〈CHAT-SHIRE〉\n"
     ]
    }
   ],
   "source": [
    "from selenium import webdriver \n",
    "import time\n",
    "\n",
    "driver = webdriver.Chrome('/home/pirl/Downloads/chromedriver')\n",
    "driver.get('http://ticket.interpark.com/')\n",
    "driver.find_element_by_css_selector(\"#Nav_SearchWord\").send_keys(\"아이유\")\n",
    "driver.find_element_by_css_selector(\"#AllSearch > fieldset > div.box > a\").click()\n",
    "time.sleep(2)\n",
    "html = driver.page_source #현재페이지 html정보 가져오기\n",
    "soup = bs(html, 'html5lib')\n",
    "result = soup.select(\"#playend_list > tr > td.info_Play > div > dl > dt > h4 > a\")\n",
    "for r in result:\n",
    "    print(r.text)\n",
    "\n"
   ]
  },
  {
   "cell_type": "code",
   "execution_count": null,
   "metadata": {},
   "outputs": [],
   "source": [
    "\n",
    "while True:\n",
    "    url = \"https://api.bithumb.com/public/ticker/\"\n",
    "    res = req.get(url)\n",
    "    data = res.json() #데이터형태 가져오기\n",
    "    print(data['data']['min_price'])\n",
    "    time.sleep(1)"
   ]
  },
  {
   "cell_type": "code",
   "execution_count": null,
   "metadata": {},
   "outputs": [],
   "source": []
  }
 ],
 "metadata": {
  "kernelspec": {
   "display_name": "Python 3",
   "language": "python",
   "name": "python3"
  },
  "language_info": {
   "codemirror_mode": {
    "name": "ipython",
    "version": 3
   },
   "file_extension": ".py",
   "mimetype": "text/x-python",
   "name": "python",
   "nbconvert_exporter": "python",
   "pygments_lexer": "ipython3",
   "version": "3.7.4"
  }
 },
 "nbformat": 4,
 "nbformat_minor": 2
}
