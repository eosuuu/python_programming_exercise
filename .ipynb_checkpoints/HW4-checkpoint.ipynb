{
 "cells": [
  {
   "cell_type": "markdown",
   "metadata": {},
   "source": [
    "# 함수\n",
    "# 과제 1 – prime.py\n",
    "소수(Prime Number) 판단하는 함수 정의하기"
   ]
  },
  {
   "cell_type": "code",
   "execution_count": 1,
   "metadata": {},
   "outputs": [
    {
     "name": "stdout",
     "output_type": "stream",
     "text": [
      "13는 소수입니다.\n",
      "15는 소수가 아닙니다.\n"
     ]
    }
   ],
   "source": [
    "def check_prime(num) :\n",
    "    result = 0\n",
    "    for x in range(1,num+1):\n",
    "        if num % x == 0 :\n",
    "            result += 1\n",
    "            \n",
    "    if result == 2 :\n",
    "        return True\n",
    "    else :\n",
    "        return False\n",
    "    \n",
    "def main():\n",
    "    a = 13\n",
    "    b = 15\n",
    "    if check_prime(a) :\n",
    "        print(str(a) + '는 소수입니다.')\n",
    "    else :\n",
    "        print(str(a) + '는 소수가 아닙니다.')\n",
    "    \n",
    "    if check_prime(b) :\n",
    "        print(str(b) + '는 소수입니다.')\n",
    "    else :\n",
    "        print(str(b) + '는 소수가 아닙니다.')\n",
    "\n",
    "main()"
   ]
  },
  {
   "cell_type": "markdown",
   "metadata": {},
   "source": [
    "# 과제 2 – add_comma.py\n",
    "천 단위마다 쉼표(,) 추가하는 함수 정의하기"
   ]
  },
  {
   "cell_type": "code",
   "execution_count": 2,
   "metadata": {},
   "outputs": [
    {
     "name": "stdout",
     "output_type": "stream",
     "text": [
      "1,234\n",
      "12,345,678\n",
      "12\n"
     ]
    }
   ],
   "source": [
    "def add_comma(val) :\n",
    "    val = list(str(val))\n",
    "    string = ''\n",
    "    temp = 0\n",
    "    for i in range(len(val)-1, -1, -1):\n",
    "        temp +=1\n",
    "        if(temp % 3 == 0):\n",
    "            if( i != 0):\n",
    "                val.insert(i, ',')\n",
    "    for x in val:\n",
    "        string +=x\n",
    "        \n",
    "    return string\n",
    "    \n",
    "    \n",
    "def main() :\n",
    "    comma_added_1234 = add_comma(1234)\n",
    "    comma_added_12345678 = add_comma(12345678)\n",
    "    comma_added_12 = add_comma(12)\n",
    "    \n",
    "    print(comma_added_1234)\n",
    "    print(comma_added_12345678) \n",
    "    print(comma_added_12)\n",
    "\n",
    "main()\n"
   ]
  },
  {
   "cell_type": "markdown",
   "metadata": {},
   "source": [
    "# 과제 3 – tok.py\n",
    "입력받은 단어열의 n-gram을 구해주는 tokenize() 함수 정의하기"
   ]
  },
  {
   "cell_type": "code",
   "execution_count": 3,
   "metadata": {},
   "outputs": [
    {
     "name": "stdout",
     "output_type": "stream",
     "text": [
      "['There', 'was', 'a', 'farmer', 'who', 'had', 'a', 'dog', '.']\n",
      "['There was', 'was a', 'a farmer', 'farmer who', 'who had', 'had a', 'a dog', 'dog .']\n"
     ]
    }
   ],
   "source": [
    "def tokenize(trg, N=1) :\n",
    "    trg = trg.split()\n",
    "    temp = ''\n",
    "    result = []\n",
    "    \n",
    "    for i in range(len(trg)):\n",
    "        temp = ''\n",
    "        for x in range(N):\n",
    "            if i + N > len(trg):\n",
    "                break\n",
    "            if i+x < len(trg) and x != N-1:\n",
    "                temp += trg[i+x]\n",
    "                temp += ' '\n",
    "            elif i+x < len(trg) and x == N-1:\n",
    "                temp += trg[i+x]\n",
    "            else :\n",
    "                break\n",
    "                \n",
    "        if temp != '':\n",
    "            result.append(temp)\n",
    "    \n",
    "    return result\n",
    "\n",
    "def main():\n",
    "    a = \"There was a farmer who had a dog .\"\n",
    "    print(tokenize(a))\n",
    "    print(tokenize(a,2))\n",
    "\n",
    "main()"
   ]
  },
  {
   "cell_type": "markdown",
   "metadata": {},
   "source": [
    "# 과제 4 – mean_and_var.py\n",
    "여러 벡터를 입력받아, 평균(Mean)과 분산\n",
    "(Variance)을 구하는 함수 정의하기"
   ]
  },
  {
   "cell_type": "code",
   "execution_count": 4,
   "metadata": {},
   "outputs": [
    {
     "name": "stdout",
     "output_type": "stream",
     "text": [
      "평균 : [0.5, 0.5] 분산:  [0.1667, 0.1667]\n"
     ]
    }
   ],
   "source": [
    "def mean_and_var(*val):\n",
    "    sum_x = []\n",
    "    sum_y = []\n",
    "    var_x = []\n",
    "    var_y = []\n",
    "\n",
    "    for a,b in val:\n",
    "        sum_x.append(a)\n",
    "        sum_y.append(b)\n",
    "    \n",
    "    \n",
    "    mx = sum(sum_x)/len(val)\n",
    "    my = sum(sum_y)/len(val)\n",
    "    m = [mx,my]\n",
    "    \n",
    "    \n",
    "    for c,d in val:\n",
    "        var_x.append((c-mx) ** 2)\n",
    "        var_y.append((d-my) ** 2)\n",
    "        \n",
    "    varx = round(sum(var_x) / len(val),4)\n",
    "    vary = round(sum(var_y) / len(val),4)\n",
    "    var = [varx,vary]\n",
    "    return m ,var\n",
    "        \n",
    "    \n",
    "def main():\n",
    "    v1 = (0,1)\n",
    "    v2 = (0.5,0.5)\n",
    "    v3 = (1,0)\n",
    "    \n",
    "    m,var = mean_and_var(v1, v2, v3)\n",
    "    print(\"평균 :\", m, \"분산: \", var)\n",
    "\n",
    "main()"
   ]
  },
  {
   "cell_type": "markdown",
   "metadata": {},
   "source": [
    "# OOP\n",
    "# 과제 1 – set.py\n",
    "Set 클래스 구현"
   ]
  },
  {
   "cell_type": "code",
   "execution_count": 91,
   "metadata": {},
   "outputs": [
    {
     "name": "stdout",
     "output_type": "stream",
     "text": [
      "[1, 2, 3] [2, 3, 4]\n",
      "[1, 2, 3, 4]\n",
      "[1, 2, 3, 4]\n",
      "[1]\n",
      "[1]\n",
      "[2, 3]\n",
      "[2, 3]\n"
     ]
    }
   ],
   "source": [
    "class Set:\n",
    "    def __init__(self, member=[]):\n",
    "        self.member = []\n",
    "        for i in member:\n",
    "            if i not in self.member:\n",
    "                self.append(i)\n",
    "    \n",
    "    def append(self, a):\n",
    "        self.member.append(a)\n",
    "    \n",
    "    def delete(self, a):\n",
    "        self.member.remove(a)\n",
    "        \n",
    "    def union(self, s2):\n",
    "        temp = []\n",
    "        for i in self.member:\n",
    "            if i not in temp:\n",
    "                temp.append(i)\n",
    "        for j in s2.member:\n",
    "            if j not in temp:\n",
    "                temp.append(j)\n",
    "        union = Set(temp)\n",
    "        return union\n",
    "                    \n",
    "    def intersection(self, s2):\n",
    "        temp = []\n",
    "        for i in self.member:\n",
    "            for j in s2.member:\n",
    "                if i == j:\n",
    "                    temp.append(i)\n",
    "                    \n",
    "        inter = Set(temp)\n",
    "        return inter\n",
    "                    \n",
    "        \n",
    "    def difference(self, s2):\n",
    "        temp = []\n",
    "        inter = self.intersection(s2)\n",
    "        for i in self.member:\n",
    "            if i not in inter.member:\n",
    "                temp.append(i)\n",
    "        diff = Set(temp)\n",
    "        return diff\n",
    "    \n",
    "    #연산자 오버로딩\n",
    "    def __add__(self, another):\n",
    "        return self.union(another)\n",
    "        \n",
    "    def __sub__(self,another):\n",
    "        return self.difference(another)\n",
    "        \n",
    "    def __truediv__(self,another):\n",
    "        return self.intersection(another)\n",
    "        \n",
    "    def __repr__(self):\n",
    "        return str(self.member)\n",
    "\n",
    "a = Set([1, 2, 3])\n",
    "b = Set([2, 3, 4])\n",
    "print(a, b)\n",
    "c = a.union(b)\n",
    "c_ = a + b\n",
    "print(c)\n",
    "print(c_)\n",
    "d = a.difference(b)\n",
    "d_ = a - b\n",
    "print(d)\n",
    "print(d_)\n",
    "e = a.intersection(b)\n",
    "e_ = a / b\n",
    "print(e)\n",
    "print(e_)"
   ]
  },
  {
   "cell_type": "markdown",
   "metadata": {},
   "source": [
    "# 과제 2 – people.py\n",
    "Person, Student, Professor 클래스 구현"
   ]
  },
  {
   "cell_type": "code",
   "execution_count": 137,
   "metadata": {
    "scrolled": true
   },
   "outputs": [
    {
     "name": "stdout",
     "output_type": "stream",
     "text": [
      "제 이름은 kim, 나이는 30, 학과는 Computer, 지도교수님은 Lee 입니다\n",
      "제 이름은 Lee, 나이는 22, 학과는 Computer, 지도교수님은 Lee 입니다\n",
      "제 이름은 Lee, 나이는 55, 학과는 Computer, 지도학생은 kim,Lee 입니다\n"
     ]
    }
   ],
   "source": [
    "class Person:\n",
    "    def __init__(self, name, age, department):\n",
    "        self.name = name\n",
    "        self.age = age\n",
    "        self.department = department\n",
    "\n",
    "    def get_name(self):\n",
    "        return self.name\n",
    "    \n",
    "    \n",
    "\n",
    "class Student(Person):\n",
    "    advisor = ''\n",
    "    \n",
    "\n",
    "    def __init__(self, name, age, department, id, GPA):\n",
    "        self.name = name\n",
    "        self.age = age\n",
    "        self.department = department\n",
    "        self.id = id\n",
    "        self.GPA = GPA\n",
    "\n",
    "    def print_info(self):\n",
    "        print(\"제 이름은 %s, 나이는 %d, 학과는 %s, 지도교수님은 %s 입니다\" % (self.name, self.age, self.department, self.advisor.get_name()))\n",
    "\n",
    "    def reg_advisor(self, professor):\n",
    "        self.advisor = professor\n",
    "    \n",
    "    def __repr__(self):\n",
    "        return str(self.advisor)\n",
    "\n",
    "\n",
    "\n",
    "class Professor(Person):\n",
    "    student = []\n",
    "\n",
    "    def __init__(self, name, age, department, position, laboratory):\n",
    "        self.name = name\n",
    "        self.age = age\n",
    "        self.department = department\n",
    "        self.laboratory = laboratory\n",
    "        self.position = position\n",
    "\n",
    "    def print_info(self):\n",
    "        count = 0\n",
    "        print(\"제 이름은 %s, 나이는 %d, 학과는 %s, 지도학생은\" % (self.name, self.age, self.department) , end=' ')\n",
    "        for i in self.student:\n",
    "            if count == len(self.student)-1 :\n",
    "                print(i.get_name(), end=' ')\n",
    "            else :\n",
    "                print(i.get_name(), end=',')\n",
    "                count += 1\n",
    "        print(\"입니다\")\n",
    "\n",
    "    def reg_student(self, stu):\n",
    "        self.student.append(stu)\n",
    "\n",
    "\n",
    "\n",
    "stu1 = Student('kim', 30, 'Computer', 20001234, 4.5)\n",
    "stu2 = Student('Lee', 22, 'Computer', 20101234, 0.5)\n",
    "# stu3 = Student('ai', 23, 'icComputer', 10101234, 1.5)\n",
    "\n",
    "prof1 = Professor('Lee', 55, 'Computer', 'Full', 'KLE')\n",
    "\n",
    "stu1.reg_advisor(prof1)\n",
    "stu2.reg_advisor(prof1)\n",
    "prof1.reg_student(stu1)\n",
    "prof1.reg_student(stu2)\n",
    "\n",
    "stu1.print_info()\n",
    "stu2.print_info()\n",
    "prof1.print_info()\n"
   ]
  },
  {
   "cell_type": "code",
   "execution_count": null,
   "metadata": {},
   "outputs": [],
   "source": []
  }
 ],
 "metadata": {
  "kernelspec": {
   "display_name": "Python 3",
   "language": "python",
   "name": "python3"
  },
  "language_info": {
   "codemirror_mode": {
    "name": "ipython",
    "version": 3
   },
   "file_extension": ".py",
   "mimetype": "text/x-python",
   "name": "python",
   "nbconvert_exporter": "python",
   "pygments_lexer": "ipython3",
   "version": "3.7.4"
  }
 },
 "nbformat": 4,
 "nbformat_minor": 2
}
