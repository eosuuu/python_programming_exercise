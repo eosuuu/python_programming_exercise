{
 "cells": [
  {
   "cell_type": "code",
   "execution_count": 92,
   "metadata": {},
   "outputs": [],
   "source": [
    "class Account:\n",
    "    num_acc = 0\n",
    "    # 계좌의 속성(Attribute)\n",
    "    def __init__(self, num='OOO-OOO-OOOOO', amnt=0, rate=1.0):\n",
    "        self.number = num\n",
    "        self.balance = amnt\n",
    "        self.rate = rate\n",
    "        Account.num_acc += 1\n",
    "    # 계좌의 기능(Method)\n",
    "    def deposit(self, money): #입금\n",
    "        self.balance += money\n",
    "    def withdraw(self, money): #인출\n",
    "        self.balance -= money\n",
    "    def obtain_interest(self): #이자 획득\n",
    "        self.balance += self.balance*(self.rate/100)\n",
    "    def get_balance(self):\n",
    "        return self.balance\n",
    "    def set_balance(self, amnt):\n",
    "        self.balance = amnt\n",
    "    def __add__(self, another): #두 계좌 통합 기능\n",
    "        new_acc=Account(amnt=self.balance+another.balance,rate=self.rate)\n",
    "        return new_acc\n",
    "    \n",
    "    def transfer(self, another, amnt):\n",
    "        if self.withdraw(amnt) :\n",
    "            another.deposit(amnt)"
   ]
  },
  {
   "cell_type": "code",
   "execution_count": 93,
   "metadata": {},
   "outputs": [],
   "source": [
    "class MinBalanceAccount(Account): #Account 클래스를 상속받음\n",
    "    def __init__(self, min_balance, num='OOOO-OOO-OOOOO', amnt=0, rate=1.0):\n",
    "        Account.__init__(self, num=num, amnt=amnt,rate=rate)\n",
    "        self.minimum_balance = min_balance\n",
    "        self.bonus_rate = 1.0\n",
    "    def withdraw(self, amnt): # 인출 기능 수정\n",
    "        if self.balance - amnt < self.minimum_balance:\n",
    "            print('Sorry, minimum balance must be maintained')\n",
    "            return False\n",
    "        else:\n",
    "            Account.withdraw(self, amnt)\n",
    "            return True\n",
    "        \n",
    "    def obtain_interest(self): #보너스 이율 반영\n",
    "        self.balance += (self.balance)*((self.rate+self.bonus_rate)/100.0)\n",
    "    \n",
    "#     def transfer(self, another, amnt):\n",
    "#         if MinBalanceAccount.withdraw(self, amnt) :\n",
    "#             another.balance += amnt\n",
    "#             self.balance -= amnt\n",
    "#         else :\n",
    "#             print('Sorry, minimum balance must be maintained')\n"
   ]
  },
  {
   "cell_type": "code",
   "execution_count": 96,
   "metadata": {},
   "outputs": [
    {
     "name": "stdout",
     "output_type": "stream",
     "text": [
      "400\n",
      "1100\n"
     ]
    }
   ],
   "source": [
    "#     acc1 = Account()\n",
    "#     acc2 = Account()\n",
    "#     acc3 = Account()\n",
    "    \n",
    "#     acc1.deposit(500)\n",
    "#     acc2.deposit(1000)\n",
    "#     acc2.obtain_interest()\n",
    "    \n",
    "#     print(acc1.balance)\n",
    "#     print(acc2.balance)\n",
    "#     print(acc3.balance)\n",
    "#     print(Account.num_acc)\n",
    "    \n",
    "acc1= MinBalanceAccount(min_balance=0)\n",
    "acc1.set_balance(500)\n",
    "acc2= MinBalanceAccount(min_balance=0)\n",
    "acc2.set_balance(1000)\n",
    "    \n",
    "acc1.transfer(acc2, 100) # acc1에서 acc2로 100원\n",
    "print(acc1.get_balance()) # 400\n",
    "print(acc2.get_balance()) # 1100"
   ]
  },
  {
   "cell_type": "code",
   "execution_count": null,
   "metadata": {},
   "outputs": [],
   "source": []
  },
  {
   "cell_type": "code",
   "execution_count": null,
   "metadata": {},
   "outputs": [],
   "source": []
  }
 ],
 "metadata": {
  "kernelspec": {
   "display_name": "Python 3",
   "language": "python",
   "name": "python3"
  },
  "language_info": {
   "codemirror_mode": {
    "name": "ipython",
    "version": 3
   },
   "file_extension": ".py",
   "mimetype": "text/x-python",
   "name": "python",
   "nbconvert_exporter": "python",
   "pygments_lexer": "ipython3",
   "version": "3.7.4"
  }
 },
 "nbformat": 4,
 "nbformat_minor": 2
}
